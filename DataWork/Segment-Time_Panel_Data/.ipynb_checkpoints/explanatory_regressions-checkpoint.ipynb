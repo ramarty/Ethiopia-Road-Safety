{
 "cells": [
  {
   "cell_type": "code",
   "execution_count": 1,
   "metadata": {},
   "outputs": [],
   "source": [
    "import numpy as np\n",
    "import pandas as pd\n",
    "import pyreadr\n",
    "import datetime\n",
    "pd.set_option('display.max_rows', 1000)\n",
    "pd.set_option('display.max_columns', 100)\n",
    "import statsmodels.api as sm\n",
    "import matplotlib.pyplot as plt\n",
    "import seaborn as sns\n",
    "from linearmodels.panel import PanelOLS\n",
    "from sklearn.ensemble import RandomForestRegressor, RandomForestClassifier"
   ]
  },
  {
   "cell_type": "code",
   "execution_count": 2,
   "metadata": {},
   "outputs": [],
   "source": [
    "# define paths\n",
    "data_path = '/Users/simonneumeyer/Dropbox/Ethiopia IE - Road Safety/Data/'\n",
    "crashes_path = 'ETRE - Crashes/'\n",
    "crash_file = 'FinalData/crashes.csv'\n",
    "traffic_path = 'ETRE - Traffic/'\n",
    "traffic_file = 'FinalData/traffic.pq'\n",
    "precipitation_path = 'Precipitation/'\n",
    "precipitation_file = 'FinalData/precipitation.csv'"
   ]
  },
  {
   "cell_type": "code",
   "execution_count": 3,
   "metadata": {},
   "outputs": [],
   "source": [
    "segment_time = pd.read_parquet(data_path + 'Time Segment Data/segment_time_panel.pq', engine='pyarrow')"
   ]
  },
  {
   "cell_type": "code",
   "execution_count": 4,
   "metadata": {},
   "outputs": [],
   "source": [
    "segment_time[['total_weight', 'avg_weight_tons', 'log_avg_weight_tons', 'speed_km_hr', \n",
    "        'veh_type_1', 'veh_type_2', 'veh_type_3', 'veh_type_4', 'veh_type_5', 'veh_type_6', 'veh_type_7', \n",
    "        'speed_rain']] = segment_time[['total_weight', 'avg_weight_tons', 'log_avg_weight_tons', 'speed_km_hr', \n",
    "        'veh_type_1', 'veh_type_2', 'veh_type_3', 'veh_type_4', 'veh_type_5', 'veh_type_6', 'veh_type_7', \n",
    "        'speed_rain']].fillna(0)"
   ]
  },
  {
   "cell_type": "code",
   "execution_count": 5,
   "metadata": {},
   "outputs": [
    {
     "data": {
      "text/plain": [
       "Index(['index', 'date', 'hour', 'km_from_addis', 'direction', 'accidents',\n",
       "       'precip_mm', 'vehicle_type', 'vehicle_brand', 'road_geometry', 'road',\n",
       "       'weather', 'fatality', 'serious_injury', 'slight_injury',\n",
       "       'cause_of_accident', 'type_of_accident', 'year_of_production', 'owner',\n",
       "       'driver_age', 'gender', 'address', 'license_year', 'license_region',\n",
       "       'drivers_license_level', 'accident_location_text', 'extent_of_damage',\n",
       "       'axle_number', 'cause_of_accident_simple', 'type_of_accident_simple',\n",
       "       'accident_cause_vehicle_human', 'cars', 'total_weight', 'speed_km_hr',\n",
       "       'veh_type_1', 'veh_type_2', 'veh_type_3', 'veh_type_4', 'veh_type_5',\n",
       "       'veh_type_6', 'veh_type_7', 'speed_sec_km', 'date_hour', 'speed_mean',\n",
       "       'speed_p10', 'crash', 'speed_p25', 'speed_p50', 'speed_p75',\n",
       "       'speed_p90', 'N_crashes', 'N_vehicles', 'holiday',\n",
       "       'holiday_plusminus_1day', 'holiday_plusminus_2day', 'weekday_0',\n",
       "       'weekday_1', 'weekday_2', 'weekday_3', 'weekday_4', 'weekday_5',\n",
       "       'weekday_6', 'weekend', 'hour_squared', 'k_cars', 'precip_cm',\n",
       "       'rush_hour_dummy', 'midnight_dummy', 'rain_seg_1', 'rain_seg_2',\n",
       "       'rain_seg_3', 'rain_seg_4', 'rain_seg_5', 'rain_seg_6',\n",
       "       'low_traffic_dummy', 'speed_low_traffic', 'rain_dummy', 'speed_rain',\n",
       "       'speed_low_traffic_and_rain', 'avg_weight_tons', 'log_avg_weight_tons'],\n",
       "      dtype='object')"
      ]
     },
     "execution_count": 5,
     "metadata": {},
     "output_type": "execute_result"
    }
   ],
   "source": [
    "segment_time.columns"
   ]
  },
  {
   "cell_type": "markdown",
   "metadata": {},
   "source": [
    "# Regression:"
   ]
  },
  {
   "cell_type": "code",
   "execution_count": 6,
   "metadata": {},
   "outputs": [],
   "source": [
    "cols = ['k_cars', 'weekend', \n",
    "        'holiday', 'holiday_plusminus_2day', 'speed_p90', 'rush_hour_dummy', 'avg_weight_tons', \n",
    "        'veh_type_1', 'veh_type_3', 'veh_type_4', 'veh_type_5', 'veh_type_6', 'veh_type_7', \n",
    "        'speed_rain', 'midnight_dummy', \n",
    "        'rain_seg_1', 'rain_seg_2', 'rain_seg_3', 'rain_seg_4', 'rain_seg_5', 'rain_seg_6']"
   ]
  },
  {
   "cell_type": "markdown",
   "metadata": {},
   "source": [
    "## OLS:"
   ]
  },
  {
   "cell_type": "code",
   "execution_count": 7,
   "metadata": {},
   "outputs": [
    {
     "name": "stdout",
     "output_type": "stream",
     "text": [
      "                            OLS Regression Results                            \n",
      "==============================================================================\n",
      "Dep. Variable:              accidents   R-squared:                       0.000\n",
      "Model:                            OLS   Adj. R-squared:                  0.000\n",
      "Method:                 Least Squares   F-statistic:                     21.81\n",
      "Date:                Thu, 10 Jun 2021   Prob (F-statistic):           8.85e-84\n",
      "Time:                        16:57:56   Log-Likelihood:             1.1463e+07\n",
      "No. Observations:             3926853   AIC:                        -2.293e+07\n",
      "Df Residuals:                 3926831   BIC:                        -2.293e+07\n",
      "Df Model:                          21                                         \n",
      "Covariance Type:            nonrobust                                         \n",
      "==========================================================================================\n",
      "                             coef    std err          t      P>|t|      [0.025      0.975]\n",
      "------------------------------------------------------------------------------------------\n",
      "const                  -9.719e-05   5.03e-05     -1.931      0.053      -0.000    1.46e-06\n",
      "k_cars                     0.0005   4.73e-05     10.149      0.000       0.000       0.001\n",
      "weekend                 1.466e-05   1.34e-05      1.093      0.274   -1.16e-05    4.09e-05\n",
      "holiday                -3.796e-05   4.01e-05     -0.947      0.344      -0.000    4.06e-05\n",
      "holiday_plusminus_2day  2.575e-05   2.01e-05      1.279      0.201   -1.37e-05    6.52e-05\n",
      "speed_p90               3.972e-07   4.19e-07      0.947      0.343   -4.24e-07    1.22e-06\n",
      "rush_hour_dummy            0.0001   1.64e-05      8.118      0.000       0.000       0.000\n",
      "avg_weight_tons         -1.44e-06   1.73e-06     -0.833      0.405   -4.83e-06    1.95e-06\n",
      "veh_type_1                7.6e-05   4.37e-05      1.739      0.082   -9.66e-06       0.000\n",
      "veh_type_3                 0.0002   3.45e-05      4.430      0.000    8.52e-05       0.000\n",
      "veh_type_4                 0.0001   6.06e-05      1.894      0.058   -4.01e-06       0.000\n",
      "veh_type_5             -7.061e-05      0.000     -0.238      0.812      -0.001       0.001\n",
      "veh_type_6                -0.0001      0.000     -0.283      0.777      -0.001       0.001\n",
      "veh_type_7             -6.254e-05   9.35e-05     -0.669      0.504      -0.000       0.000\n",
      "speed_rain              4.061e-07   2.01e-07      2.017      0.044    1.16e-08    8.01e-07\n",
      "midnight_dummy             0.0001   2.13e-05      5.737      0.000    8.03e-05       0.000\n",
      "rain_seg_1                 0.0002   2.98e-05      5.721      0.000       0.000       0.000\n",
      "rain_seg_2              7.519e-05   2.94e-05      2.561      0.010    1.77e-05       0.000\n",
      "rain_seg_3              -5.26e-05    2.8e-05     -1.879      0.060      -0.000    2.28e-06\n",
      "rain_seg_4             -8.278e-05   4.15e-05     -1.993      0.046      -0.000   -1.37e-06\n",
      "rain_seg_5             -8.085e-05   5.81e-05     -1.391      0.164      -0.000    3.31e-05\n",
      "rain_seg_6              1.969e-05   3.11e-05      0.633      0.527   -4.12e-05    8.06e-05\n",
      "==============================================================================\n",
      "Omnibus:                 14258668.557   Durbin-Watson:                   1.992\n",
      "Prob(Omnibus):                  0.000   Jarque-Bera (JB):    5612107016988.735\n",
      "Skew:                          76.524   Prob(JB):                         0.00\n",
      "Kurtosis:                    5857.609   Cond. No.                     7.31e+03\n",
      "==============================================================================\n",
      "\n",
      "Warnings:\n",
      "[1] Standard Errors assume that the covariance matrix of the errors is correctly specified.\n",
      "[2] The condition number is large, 7.31e+03. This might indicate that there are\n",
      "strong multicollinearity or other numerical problems.\n"
     ]
    }
   ],
   "source": [
    "# OLS model:\n",
    "\n",
    "# dropping NAs where we don't have speed_mean (only 8k observations)\n",
    "df = segment_time.dropna(subset=['speed_mean']).reset_index()\n",
    "y = df.accidents\n",
    "\n",
    "X = df[cols]\n",
    "X = sm.add_constant(X)\n",
    "\n",
    "# for clustered se option\n",
    "groups = df.km_from_addis\n",
    "\n",
    "# Fit and summarize OLS model\n",
    "model = sm.OLS(y, X)\n",
    "\n",
    "linreg = model.fit()\n",
    "#linreg = model.fit(cov_type='cluster', cov_kwds={'groups': groups})\n",
    "\n",
    "print(linreg.summary())"
   ]
  },
  {
   "cell_type": "code",
   "execution_count": 8,
   "metadata": {},
   "outputs": [
    {
     "data": {
      "image/png": "[encoded data removed]",
      "text/plain": [
       "<Figure size 432x288 with 2 Axes>"
      ]
     },
     "metadata": {
      "needs_background": "light"
     },
     "output_type": "display_data"
    }
   ],
   "source": [
    "# check for correlation between covariates:\n",
    "corr = np.corrcoef(X.T[1:])\n",
    "sns.heatmap(corr, xticklabels=X.columns[1:], yticklabels=X.columns[1:])\n",
    "plt.show()"
   ]
  },
  {
   "cell_type": "markdown",
   "metadata": {},
   "source": [
    "## Fixed Effects:"
   ]
  },
  {
   "cell_type": "markdown",
   "metadata": {},
   "source": [
    "### year fixed effects:"
   ]
  },
  {
   "cell_type": "code",
   "execution_count": 20,
   "metadata": {},
   "outputs": [
    {
     "data": {
      "text/plain": [
       "direction  km_from_addis\n",
       "to adama   0                2015\n",
       "           0                2015\n",
       "           0                2015\n",
       "           0                2015\n",
       "           0                2015\n",
       "                            ... \n",
       "to addis   78               2017\n",
       "           78               2017\n",
       "           78               2017\n",
       "           78               2017\n",
       "           78               2017\n",
       "Name: date, Length: 3926853, dtype: int64"
      ]
     },
     "execution_count": 20,
     "metadata": {},
     "output_type": "execute_result"
    }
   ],
   "source": []
  },
  {
   "cell_type": "code",
   "execution_count": null,
   "metadata": {},
   "outputs": [],
   "source": [
    "# dropping NAs where we don't have speed_mean (only 8k observations)\n",
    "df = segment_time.dropna(subset=['speed_mean']).reset_index()\n",
    "\n",
    "# create year and month variable:\n",
    "df['year'] = df.date.dt.year\n",
    "df['month'] = df.date.dt.month\n",
    "\n",
    "# set index:\n",
    "df = df.set_index(['km_from_addis', 'date']).sort_index()\n",
    "y = df.accidents\n",
    "\n",
    "X = df[cols]\n",
    "X = sm.add_constant(X)\n",
    "\n",
    "mod = PanelOLS(y, X, entity_effects=True)\n",
    "res = mod.fit(cov_type='clustered', cluster_entity=True)\n",
    "print(res)"
   ]
  },
  {
   "cell_type": "code",
   "execution_count": null,
   "metadata": {},
   "outputs": [],
   "source": []
  },
  {
   "cell_type": "code",
   "execution_count": null,
   "metadata": {},
   "outputs": [],
   "source": []
  },
  {
   "cell_type": "markdown",
   "metadata": {},
   "source": [
    "### Segment Fixed Effects:"
   ]
  },
  {
   "cell_type": "code",
   "execution_count": 9,
   "metadata": {},
   "outputs": [
    {
     "name": "stdout",
     "output_type": "stream",
     "text": [
      "                          PanelOLS Estimation Summary                           \n",
      "================================================================================\n",
      "Dep. Variable:              accidents   R-squared:                     6.508e-05\n",
      "Estimator:                   PanelOLS   R-squared (Between):              0.2485\n",
      "No. Observations:             3926853   R-squared (Within):            6.508e-05\n",
      "Date:                Thu, Jun 10 2021   R-squared (Overall):              0.0001\n",
      "Time:                        16:59:27   Log-likelihood                 1.146e+07\n",
      "Cov. Estimator:             Clustered                                           \n",
      "                                        F-statistic:                      12.170\n",
      "Entities:                          79   P-value                           0.0000\n",
      "Avg Obs:                    4.971e+04   Distribution:              F(21,3926753)\n",
      "Min Obs:                    4.971e+04                                           \n",
      "Max Obs:                    4.971e+04   F-statistic (robust):             4.8435\n",
      "                                        P-value                           0.0000\n",
      "Time periods:                    1037   Distribution:              F(21,3926753)\n",
      "Avg Obs:                       3786.7                                           \n",
      "Min Obs:                       632.00                                           \n",
      "Max Obs:                       3792.0                                           \n",
      "                                                                                \n",
      "                                   Parameter Estimates                                    \n",
      "==========================================================================================\n",
      "                        Parameter  Std. Err.     T-stat    P-value    Lower CI    Upper CI\n",
      "------------------------------------------------------------------------------------------\n",
      "const                  -2.061e-05  8.752e-05    -0.2355     0.8138     -0.0002      0.0002\n",
      "k_cars                     0.0004     0.0001     3.7835     0.0002      0.0002      0.0006\n",
      "weekend                 1.554e-05  1.202e-05     1.2934     0.1959  -8.011e-06    3.91e-05\n",
      "holiday                -3.892e-05  3.571e-05    -1.0899     0.2758     -0.0001   3.107e-05\n",
      "holiday_plusminus_2day  2.534e-05  1.881e-05     1.3470     0.1780  -1.153e-05   6.222e-05\n",
      "speed_p90               4.708e-07  4.784e-07     0.9841     0.3251  -4.669e-07   1.408e-06\n",
      "rush_hour_dummy            0.0001  2.556e-05     5.3271     0.0000   8.605e-05      0.0002\n",
      "avg_weight_tons        -1.395e-06  1.716e-06    -0.8127     0.4164  -4.758e-06   1.969e-06\n",
      "veh_type_1             -8.244e-05  9.683e-05    -0.8513     0.3946     -0.0003      0.0001\n",
      "veh_type_3               5.45e-05  7.509e-05     0.7257     0.4680  -9.268e-05      0.0002\n",
      "veh_type_4               1.85e-05     0.0001     0.1712     0.8640     -0.0002      0.0002\n",
      "veh_type_5              -9.98e-05     0.0002    -0.4771     0.6333     -0.0005      0.0003\n",
      "veh_type_6                -0.0002     0.0003    -0.5214     0.6021     -0.0008      0.0005\n",
      "veh_type_7             -5.697e-05     0.0001    -0.5400     0.5892     -0.0003      0.0001\n",
      "speed_rain              4.031e-07  2.419e-07     1.6666     0.0956  -7.094e-08   8.771e-07\n",
      "midnight_dummy             0.0001  1.854e-05     6.2150     0.0000   7.888e-05      0.0002\n",
      "rain_seg_1                 0.0001  5.523e-05     2.1833     0.0290   1.233e-05      0.0002\n",
      "rain_seg_2                  9e-05  5.547e-05     1.6224     0.1047  -1.873e-05      0.0002\n",
      "rain_seg_3             -3.123e-05  2.459e-05    -1.2701     0.2041  -7.942e-05   1.696e-05\n",
      "rain_seg_4             -4.592e-05   1.87e-05    -2.4551     0.0141  -8.258e-05   -9.26e-06\n",
      "rain_seg_5             -6.906e-05  3.373e-05    -2.0475     0.0406     -0.0001  -2.952e-06\n",
      "rain_seg_6              9.089e-06  1.529e-05     0.5946     0.5521  -2.087e-05   3.905e-05\n",
      "==========================================================================================\n",
      "\n",
      "F-test for Poolability: 5.1593\n",
      "P-value: 0.0000\n",
      "Distribution: F(78,3926753)\n",
      "\n",
      "Included effects: Entity\n"
     ]
    }
   ],
   "source": [
    "# dropping NAs where we don't have speed_mean (only 8k observations)\n",
    "df = segment_time.dropna(subset=['speed_mean']).reset_index()\n",
    "\n",
    "df = df.set_index(['km_from_addis', 'date']).sort_index()\n",
    "y = df.accidents\n",
    "\n",
    "X = df[cols]\n",
    "X = sm.add_constant(X)\n",
    "\n",
    "mod = PanelOLS(y, X, entity_effects=True)\n",
    "res = mod.fit(cov_type='clustered', cluster_entity=True)\n",
    "print(res)"
   ]
  },
  {
   "cell_type": "markdown",
   "metadata": {},
   "source": [
    "### Year-month-day Fixed Effects:"
   ]
  },
  {
   "cell_type": "code",
   "execution_count": 10,
   "metadata": {},
   "outputs": [
    {
     "name": "stderr",
     "output_type": "stream",
     "text": [
      "/Users/simonneumeyer/opt/anaconda3/lib/python3.7/site-packages/linearmodels/panel/model.py:1798: AbsorbingEffectWarning: \n",
      "Variables have been fully absorbed and have removed from the regression:\n",
      "\n",
      "weekend, holiday, holiday_plusminus_2day, rain_seg_6\n",
      "\n",
      "  AbsorbingEffectWarning,\n"
     ]
    },
    {
     "name": "stdout",
     "output_type": "stream",
     "text": [
      "                          PanelOLS Estimation Summary                           \n",
      "================================================================================\n",
      "Dep. Variable:              accidents   R-squared:                        0.0001\n",
      "Estimator:                   PanelOLS   R-squared (Between):              0.3486\n",
      "No. Observations:             3926853   R-squared (Within):            5.878e-05\n",
      "Date:                Thu, Jun 10 2021   R-squared (Overall):              0.0001\n",
      "Time:                        17:01:03   Log-likelihood                 1.146e+07\n",
      "Cov. Estimator:             Clustered                                           \n",
      "                                        F-statistic:                      23.964\n",
      "Entities:                          79   P-value                           0.0000\n",
      "Avg Obs:                    4.971e+04   Distribution:              F(17,3925799)\n",
      "Min Obs:                    4.971e+04                                           \n",
      "Max Obs:                    4.971e+04   F-statistic (robust):             20.489\n",
      "                                        P-value                           0.0000\n",
      "Time periods:                    1037   Distribution:              F(17,3925799)\n",
      "Avg Obs:                       3786.7                                           \n",
      "Min Obs:                       632.00                                           \n",
      "Max Obs:                       3792.0                                           \n",
      "                                                                                \n",
      "                                Parameter Estimates                                \n",
      "===================================================================================\n",
      "                 Parameter  Std. Err.     T-stat    P-value    Lower CI    Upper CI\n",
      "-----------------------------------------------------------------------------------\n",
      "const            -3.36e-05  5.783e-05    -0.5811     0.5612     -0.0001   7.974e-05\n",
      "k_cars              0.0004  7.178e-05     5.8012     0.0000      0.0003      0.0006\n",
      "speed_p90       -5.484e-08   5.05e-07    -0.1086     0.9135  -1.045e-06    9.35e-07\n",
      "rush_hour_dummy     0.0001  1.869e-05     7.4442     0.0000      0.0001      0.0002\n",
      "avg_weight_tons   1.51e-06  1.998e-06     0.7555     0.4500  -2.407e-06   5.426e-06\n",
      "veh_type_1          0.0001  4.548e-05     2.2143     0.0268   1.157e-05      0.0002\n",
      "veh_type_3          0.0001  3.177e-05     3.9037     0.0001   6.175e-05      0.0002\n",
      "veh_type_4          0.0001   5.46e-05     2.2820     0.0225   1.759e-05      0.0002\n",
      "veh_type_5         -0.0001     0.0002    -0.5021     0.6156     -0.0005      0.0003\n",
      "veh_type_6         -0.0003     0.0003    -1.0651     0.2868     -0.0009      0.0003\n",
      "veh_type_7         -0.0001  8.203e-05    -1.3196     0.1870     -0.0003   5.253e-05\n",
      "speed_rain       8.022e-07  3.113e-07     2.5768     0.0100    1.92e-07   1.412e-06\n",
      "midnight_dummy      0.0001  1.872e-05     6.2139     0.0000   7.962e-05      0.0002\n",
      "rain_seg_1          0.0001  5.621e-05     2.5183     0.0118   3.138e-05      0.0003\n",
      "rain_seg_2       4.333e-05  4.269e-05     1.0149     0.3101  -4.034e-05      0.0001\n",
      "rain_seg_3      -8.419e-05  2.737e-05    -3.0756     0.0021     -0.0001  -3.054e-05\n",
      "rain_seg_4         -0.0001    3.3e-05    -3.5920     0.0003     -0.0002  -5.385e-05\n",
      "rain_seg_5         -0.0001  3.337e-05    -3.6413     0.0003     -0.0002  -5.611e-05\n",
      "===================================================================================\n",
      "\n",
      "F-test for Poolability: 1.3253\n",
      "P-value: 0.0000\n",
      "Distribution: F(1036,3925799)\n",
      "\n",
      "Included effects: Time\n"
     ]
    }
   ],
   "source": [
    "# dropping NAs where we don't have speed_mean (only 8k observations)\n",
    "df = segment_time.dropna(subset=['speed_mean']).reset_index()\n",
    "\n",
    "df = df.set_index(['km_from_addis', 'date']).sort_index()\n",
    "y = df.accidents\n",
    "\n",
    "X = df[cols]\n",
    "X = sm.add_constant(X)\n",
    "\n",
    "mod = PanelOLS(y, X, entity_effects=False, time_effects=True, drop_absorbed=True)\n",
    "res = mod.fit(cov_type='clustered', cluster_time=True)\n",
    "print(res)"
   ]
  },
  {
   "cell_type": "markdown",
   "metadata": {},
   "source": [
    "### Segment-Direction Fixed Effects:\n"
   ]
  },
  {
   "cell_type": "code",
   "execution_count": 11,
   "metadata": {},
   "outputs": [
    {
     "name": "stdout",
     "output_type": "stream",
     "text": [
      "                          PanelOLS Estimation Summary                           \n",
      "================================================================================\n",
      "Dep. Variable:              accidents   R-squared:                      6.58e-05\n",
      "Estimator:                   PanelOLS   R-squared (Between):             -12.077\n",
      "No. Observations:             3926853   R-squared (Within):               0.0001\n",
      "Date:                Thu, Jun 10 2021   R-squared (Overall):              0.0001\n",
      "Time:                        17:02:51   Log-likelihood                 1.146e+07\n",
      "Cov. Estimator:             Clustered                                           \n",
      "                                        F-statistic:                      12.305\n",
      "Entities:                           2   P-value                           0.0000\n",
      "Avg Obs:                    1.963e+06   Distribution:              F(21,3926752)\n",
      "Min Obs:                    1.963e+06                                           \n",
      "Max Obs:                    1.963e+06   F-statistic (robust):         -3.371e+15\n",
      "                                        P-value                           1.0000\n",
      "Time periods:                      79   Distribution:              F(21,3926752)\n",
      "Avg Obs:                    4.971e+04                                           \n",
      "Min Obs:                    4.971e+04                                           \n",
      "Max Obs:                    4.971e+04                                           \n",
      "                                                                                \n",
      "                                   Parameter Estimates                                    \n",
      "==========================================================================================\n",
      "                        Parameter  Std. Err.     T-stat    P-value    Lower CI    Upper CI\n",
      "------------------------------------------------------------------------------------------\n",
      "const                  -3.315e-05  1.083e-05    -3.0596     0.0022  -5.438e-05  -1.191e-05\n",
      "k_cars                     0.0004  1.304e-05     32.149     0.0000      0.0004      0.0004\n",
      "weekend                 1.575e-05  1.595e-05     0.9876     0.3234  -1.551e-05     4.7e-05\n",
      "holiday                -3.873e-05  5.742e-06    -6.7455     0.0000  -4.999e-05  -2.748e-05\n",
      "holiday_plusminus_2day  2.554e-05  1.428e-05     1.7884     0.0737   -2.45e-06   5.352e-05\n",
      "speed_p90               5.538e-07  3.858e-07     1.4353     0.1512  -2.024e-07    1.31e-06\n",
      "rush_hour_dummy            0.0001   1.45e-05     9.3839     0.0000      0.0001      0.0002\n",
      "avg_weight_tons        -2.428e-06  9.707e-07    -2.5011     0.0124   -4.33e-06  -5.253e-07\n",
      "veh_type_1             -7.947e-05   1.48e-05    -5.3693     0.0000     -0.0001  -5.046e-05\n",
      "veh_type_3              5.806e-05  5.169e-05     1.1233     0.2613  -4.324e-05      0.0002\n",
      "veh_type_4              5.221e-05  1.518e-06     34.400     0.0000   4.923e-05   5.518e-05\n",
      "veh_type_5                -0.0001     0.0001    -0.8631     0.3881     -0.0004      0.0001\n",
      "veh_type_6                -0.0002     0.0003    -0.6376     0.5237     -0.0008      0.0004\n",
      "veh_type_7             -4.895e-05     0.0002    -0.3159     0.7521     -0.0004      0.0003\n",
      "speed_rain              4.048e-07  5.176e-08     7.8200     0.0000   3.033e-07   5.062e-07\n",
      "midnight_dummy             0.0001  1.216e-05     9.5252     0.0000   9.196e-05      0.0001\n",
      "rain_seg_1                 0.0001  5.796e-05     2.0742     0.0381   6.621e-06      0.0002\n",
      "rain_seg_2              8.943e-05  5.346e-05     1.6730     0.0943  -1.534e-05      0.0002\n",
      "rain_seg_3             -3.182e-05  8.491e-06    -3.7472     0.0002  -4.846e-05  -1.518e-05\n",
      "rain_seg_4              -4.65e-05  1.222e-05    -3.8039     0.0001  -7.046e-05  -2.254e-05\n",
      "rain_seg_5             -6.973e-05  3.248e-05    -2.1466     0.0318     -0.0001  -6.063e-06\n",
      "rain_seg_6              9.013e-06  1.695e-05     0.5318     0.5949   -2.42e-05   4.223e-05\n",
      "==========================================================================================\n",
      "\n",
      "F-test for Poolability: 5.1337\n",
      "P-value: 0.0000\n",
      "Distribution: F(79,3926752)\n",
      "\n",
      "Included effects: Entity, Time\n"
     ]
    }
   ],
   "source": [
    "# dropping NAs where we don't have speed_mean (only 8k observations)\n",
    "df = segment_time.dropna(subset=['speed_mean']).reset_index()\n",
    "\n",
    "df = df.set_index(['direction', 'km_from_addis']).sort_index()\n",
    "y = df.accidents\n",
    "\n",
    "X = df[cols]\n",
    "X = sm.add_constant(X)\n",
    "\n",
    "mod = PanelOLS(y, X, entity_effects=True, time_effects=True)\n",
    "res = mod.fit(cov_type='clustered', cluster_entity=True)\n",
    "print(res)"
   ]
  },
  {
   "cell_type": "markdown",
   "metadata": {},
   "source": [
    "## Logistic Regression:"
   ]
  },
  {
   "cell_type": "code",
   "execution_count": null,
   "metadata": {},
   "outputs": [],
   "source": [
    "# dropping NAs where we don't have speed_mean (only 8k observations)\n",
    "df = segment_time.dropna(subset=['speed_mean']).reset_index()\n",
    "y = df.accidents\n",
    "X = df[cols]\n",
    "\n",
    "import statsmodels.api as sm\n",
    "sm_model = sm.Logit(y, sm.add_constant(X)).fit(disp=0)\n",
    "#print(sm_model.pvalues)\n",
    "sm_model.summary()"
   ]
  },
  {
   "cell_type": "markdown",
   "metadata": {},
   "source": [
    "## Random Forest:"
   ]
  },
  {
   "cell_type": "code",
   "execution_count": 13,
   "metadata": {},
   "outputs": [],
   "source": [
    "# dropping NAs where we don't have speed_mean (only 8k observations)\n",
    "df = segment_time.dropna(subset=['speed_mean']).reset_index()\n",
    "\n",
    "y = df.accidents\n",
    "X = df[cols]"
   ]
  },
  {
   "cell_type": "code",
   "execution_count": null,
   "metadata": {},
   "outputs": [],
   "source": [
    "%%time\n",
    "regr = RandomForestClassifier(max_depth=2, random_state=0)\n",
    "regr.fit(X, y)"
   ]
  },
  {
   "cell_type": "code",
   "execution_count": null,
   "metadata": {},
   "outputs": [],
   "source": [
    "plt.figure(figsize=(15,8))\n",
    "sns.barplot(x=X.columns, y=regr.feature_importances_)\n",
    "plt.xticks(rotation=60)\n",
    "plt.show()"
   ]
  },
  {
   "cell_type": "code",
   "execution_count": null,
   "metadata": {},
   "outputs": [],
   "source": []
  }
 ],
 "metadata": {
  "kernelspec": {
   "display_name": "Python 3",
   "language": "python",
   "name": "python3"
  },
  "language_info": {
   "codemirror_mode": {
    "name": "ipython",
    "version": 3
   },
   "file_extension": ".py",
   "mimetype": "text/x-python",
   "name": "python",
   "nbconvert_exporter": "python",
   "pygments_lexer": "ipython3",
   "version": "3.7.6"
  },
  "toc": {
   "base_numbering": 1,
   "nav_menu": {},
   "number_sections": true,
   "sideBar": true,
   "skip_h1_title": false,
   "title_cell": "Table of Contents",
   "title_sidebar": "Contents",
   "toc_cell": false,
   "toc_position": {},
   "toc_section_display": true,
   "toc_window_display": false
  }
 },
 "nbformat": 4,
 "nbformat_minor": 4
}
