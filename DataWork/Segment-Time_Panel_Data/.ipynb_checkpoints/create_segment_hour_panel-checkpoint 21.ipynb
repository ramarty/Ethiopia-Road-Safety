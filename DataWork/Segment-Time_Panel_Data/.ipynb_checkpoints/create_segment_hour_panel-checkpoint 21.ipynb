{
 "cells": [
  {
   "cell_type": "code",
   "execution_count": 1,
   "metadata": {},
   "outputs": [],
   "source": [
    "import numpy as np\n",
    "import pandas as pd\n",
    "import pyreadr\n",
    "import datetime\n",
    "pd.set_option('display.max_rows', 1000)\n",
    "pd.set_option('display.max_columns', 100)\n",
    "import statsmodels.api as sm\n",
    "import matplotlib.pyplot as plt\n",
    "import seaborn as sns\n",
    "from linearmodels.panel import PanelOLS\n",
    "\n",
    "def rounder(x, prec=2, base=.05):\n",
    "    return round(base * round(float(x) / base), prec)\n"
   ]
  },
  {
   "cell_type": "code",
   "execution_count": 2,
   "metadata": {},
   "outputs": [],
   "source": [
    "# define paths\n",
    "data_path = '/Users/simonneumeyer/Dropbox/Ethiopia IE - Road Safety/Data/'\n",
    "crashes_path = 'ETRE - Crashes/'\n",
    "crash_file = 'FinalData/crashes.csv'\n",
    "traffic_path = 'ETRE - Traffic/'\n",
    "traffic_file = 'FinalData/traffic.pq'\n",
    "precipitation_path = 'Precipitation/'\n",
    "precipitation_file = 'FinalData/precipitation.csv'"
   ]
  },
  {
   "cell_type": "code",
   "execution_count": 3,
   "metadata": {},
   "outputs": [],
   "source": [
    "# load data\n",
    "#traffic_final = pd.read_parquet(data_path + traffic_path + traffic_file, engine='pyarrow')\n",
    "precipitation_final = pd.read_csv(data_path + precipitation_path + precipitation_file)\n",
    "crashes_final = pd.read_csv(data_path + crashes_path + crash_file)\n",
    "\n",
    "traffic = pd.read_parquet(data_path + 'Time Segment Data/traffic_feature.pq', engine='pyarrow')\n",
    "hourly = pd.read_stata(data_path + 'Daily and Hourly Data/FinalData/hourly.dta')"
   ]
  },
  {
   "cell_type": "markdown",
   "metadata": {},
   "source": [
    "# segment-time panel"
   ]
  },
  {
   "cell_type": "code",
   "execution_count": null,
   "metadata": {},
   "outputs": [],
   "source": [
    "# create rectangularized segment-time dataset:\n",
    "date_range = pd.date_range(precipitation_final.date.min(), precipitation_final.date.max())\n",
    "date_range = list(date_range)\n",
    "hour_range = list(range(0,24))\n",
    "km_range = [x for x in range(0,79)]\n",
    "directions = ['to addis', 'to adama']\n",
    "segment_time = pd.DataFrame([[x,y,z,w] for x in date_range for y in hour_range for z in km_range for w in directions])\n",
    "segment_time = segment_time.rename(columns={0:'date', 1:'hour', 2:'km_from_addis', 3:'direction'})"
   ]
  },
  {
   "cell_type": "markdown",
   "metadata": {},
   "source": [
    "# crashes & precipitation:"
   ]
  },
  {
   "cell_type": "code",
   "execution_count": null,
   "metadata": {},
   "outputs": [],
   "source": [
    "crashes_final.direction.value_counts(normalize=True, dropna=False)"
   ]
  },
  {
   "cell_type": "code",
   "execution_count": null,
   "metadata": {},
   "outputs": [],
   "source": [
    "# rename date & hour:\n",
    "crashes_final = crashes_final.rename(columns={'accident_date': 'date', 'time_of_accident_hour': 'hour'})\n",
    "\n",
    "# create accident counts and add them to segment-time dataset:\n",
    "crashes_final['accidents'] = 1\n",
    "crashes_final['km_from_addis'] = crashes_final.distance_from_addis.round(-3).apply(lambda x: x/1000)\n",
    "accid_count = crashes_final.groupby(['date', 'hour', 'km_from_addis', 'direction'])['accidents'].count()\n",
    "accid_count = accid_count.reset_index()\n",
    "accid_count.date = pd.to_datetime(accid_count.date)\n",
    "segment_time = segment_time.merge(accid_count, how='left', on=['date', 'hour', 'km_from_addis', 'direction'], validate='one_to_one')"
   ]
  },
  {
   "cell_type": "code",
   "execution_count": null,
   "metadata": {},
   "outputs": [],
   "source": [
    "# add precipitation:\n",
    "precipitation_final.date = pd.to_datetime(precipitation_final.date)\n",
    "segment_time = segment_time.merge(precipitation_final[['date', 'precip_mm']], on='date', how='left', validate='many_to_one')"
   ]
  },
  {
   "cell_type": "code",
   "execution_count": null,
   "metadata": {},
   "outputs": [],
   "source": [
    "# fill missing data with 0 only for the date range where we have crashes data (2015-2017)\n",
    "crashes_start_date = pd.to_datetime('2015-01-01')\n",
    "crashes_end_date = pd.to_datetime(crashes_final.date).max()\n",
    "condition = (segment_time['date'] >= crashes_start_date) & (segment_time['date'] <= crashes_end_date)\n",
    "segment_time.loc[condition, 'accidents'] = segment_time.loc[condition, 'accidents'].fillna(0)"
   ]
  },
  {
   "cell_type": "markdown",
   "metadata": {},
   "source": [
    "## crashes:"
   ]
  },
  {
   "cell_type": "markdown",
   "metadata": {},
   "source": [
    "In some cases there are multiple accidents in a given time-segment and for that I apply an appropriate aggregation method to each of the variables (e.g. the mode for categoricals):"
   ]
  },
  {
   "cell_type": "code",
   "execution_count": null,
   "metadata": {
    "scrolled": true
   },
   "outputs": [],
   "source": [
    "categoricals = ['vehicle_brand', \n",
    "    'direction', \n",
    "    'road_geometry', \n",
    "    'road', \n",
    "    'weather', \n",
    "    'cause_of_accident', \n",
    "    'type_of_accident',\n",
    "    'year_of_production', \n",
    "    'owner', \n",
    "    'driver_age',\n",
    "    'gender',\n",
    "    'address',\n",
    "    'drivers_license_level',\n",
    "    'license_year',\n",
    "    'license_region',\n",
    "    'accident_location_text',\n",
    "    'extent_of_damage',\n",
    "    'axle_number',\n",
    "    'cause_of_accident_simple',\n",
    "    'type_of_accident_simple',\n",
    "    'accident_cause_vehicle_human']\n",
    "\n",
    "for col in categoricals:\n",
    "    crashes_final[col] = crashes_final[col].astype(str)\n",
    "    crashes_final[col] = crashes_final[col].apply(lambda x: x.replace(\"[]\", \"\"))"
   ]
  },
  {
   "cell_type": "code",
   "execution_count": null,
   "metadata": {},
   "outputs": [],
   "source": [
    "crashes_final = crashes_final.groupby(['date', 'hour', 'km_from_addis']).agg(\n",
    "{\n",
    "    'vehicle_type': 'median', \n",
    "    'vehicle_brand': pd.Series.mode, \n",
    "    'direction': pd.Series.mode, \n",
    "    'road_geometry': pd.Series.mode, \n",
    "    'road': pd.Series.mode, \n",
    "    'weather': pd.Series.mode, \n",
    "    'fatality': 'sum', \n",
    "    'serious_injury': 'sum',\n",
    "    'slight_injury': 'sum', \n",
    "    'cause_of_accident': pd.Series.mode, \n",
    "    'type_of_accident': pd.Series.mode,\n",
    "    'year_of_production': pd.Series.mode, \n",
    "    'owner': pd.Series.mode, \n",
    "    'driver_age': pd.Series.mode,\n",
    "    'gender': pd.Series.mode,\n",
    "    'address': pd.Series.mode,\n",
    "    'drivers_license_level': pd.Series.mode,\n",
    "    'license_year': pd.Series.mode,\n",
    "    'license_region': pd.Series.mode,\n",
    "    'accident_location_text': pd.Series.mode,\n",
    "    'extent_of_damage': pd.Series.mode,\n",
    "    'axle_number': pd.Series.mode,\n",
    "    'cause_of_accident_simple': pd.Series.mode,\n",
    "    'type_of_accident_simple': pd.Series.mode,\n",
    "    'accident_cause_vehicle_human': pd.Series.mode\n",
    "}\n",
    ").reset_index()\n",
    "\n",
    "# the mode function creates empty arrays instead of Nans when there are no NAs. Therefore below transformation:\n",
    "for col in categoricals:\n",
    "    crashes_final[col] = crashes_final[col].astype(str)\n",
    "    crashes_final[col] = crashes_final[col].apply(lambda x: x.replace(\"[]\", \"\"))"
   ]
  },
  {
   "cell_type": "code",
   "execution_count": null,
   "metadata": {
    "scrolled": true
   },
   "outputs": [],
   "source": [
    "# merging crashes data into it:\n",
    "relevant_crash_vars = ['date', \n",
    "                       'hour', \n",
    "                       'km_from_addis',\n",
    "                        'vehicle_type', \n",
    "                        'vehicle_brand', \n",
    "                        'direction', \n",
    "                        'road_geometry', \n",
    "                        'road', \n",
    "                        'weather', \n",
    "                        'fatality', \n",
    "                        'serious_injury',\n",
    "                        'slight_injury',\n",
    "                        'cause_of_accident',\n",
    "                        'type_of_accident',\n",
    "                        'year_of_production',\n",
    "                        'owner',\n",
    "                        'driver_age',\n",
    "                        'gender',\n",
    "                        'address',\n",
    "                        'license_year',\n",
    "                        'license_region',\n",
    "                        'drivers_license_level',\n",
    "                        'accident_location_text',\n",
    "                        'extent_of_damage',\n",
    "                        'axle_number',\n",
    "                        'cause_of_accident_simple',\n",
    "                        'type_of_accident_simple',\n",
    "                        'accident_cause_vehicle_human'\n",
    "                      ]\n",
    "\n",
    "crashes_final.date = pd.to_datetime(crashes_final.date)\n",
    "segment_time = segment_time.merge(crashes_final[relevant_crash_vars], how='left', on=['date', 'hour', 'km_from_addis', 'direction'], validate='one_to_one')\n"
   ]
  },
  {
   "cell_type": "code",
   "execution_count": null,
   "metadata": {},
   "outputs": [],
   "source": [
    "# option to load intermediate file:\n",
    "#segment_time = pd.read_parquet(data_path + 'Time Segment Data/segment_time_panel_intermediate.pq', engine='pyarrow')\n"
   ]
  },
  {
   "cell_type": "markdown",
   "metadata": {},
   "source": [
    "# preprocess"
   ]
  },
  {
   "cell_type": "code",
   "execution_count": null,
   "metadata": {},
   "outputs": [],
   "source": [
    "# kick out NAs: (where we don't have accident data)\n",
    "segment_time = segment_time.dropna(subset=['accidents'])\n",
    "segment_time = segment_time.reset_index()\n",
    "\n",
    "traffic = traffic.rename({'tstamp': 'date', 'count': 'traffic', 'km':'km_from_addis'}, axis=1)"
   ]
  },
  {
   "cell_type": "code",
   "execution_count": null,
   "metadata": {},
   "outputs": [],
   "source": [
    "traffic.head(5)"
   ]
  },
  {
   "cell_type": "code",
   "execution_count": null,
   "metadata": {
    "scrolled": true
   },
   "outputs": [],
   "source": [
    "# show why we drop some data:\n",
    "\n",
    "#segment_time.fillna(0).plot(x='date', y='count')\n",
    "traffic.plot(x='date', y='cars')\n",
    "plt.show()\n",
    "#traffic\n",
    "cond_1 = (traffic.date > pd.to_datetime('2014-11-30'))\n",
    "cond_2 = (traffic.date < pd.to_datetime('2015-04-30'))\n",
    "\n",
    "traffic[cond_1 & cond_2].plot(x='date', y='cars')\n",
    "plt.show()\n",
    "# It seems that there is a 2-month gap of traffic data for January & February 2015. \n",
    "# We shall consider only traffic data after February 2015 (Before 2015 there is no accidents data anyway)"
   ]
  },
  {
   "cell_type": "code",
   "execution_count": null,
   "metadata": {},
   "outputs": [],
   "source": [
    "# drop accident data older than March 2015:\n",
    "condition = (segment_time.date >= pd.to_datetime('2015-03-01'))\n",
    "segment_time = segment_time[condition]"
   ]
  },
  {
   "cell_type": "code",
   "execution_count": null,
   "metadata": {},
   "outputs": [],
   "source": [
    "# binarize accidents column:\n",
    "segment_time.accidents = segment_time.accidents.apply(lambda x: 1 if x>1 else x)"
   ]
  },
  {
   "cell_type": "markdown",
   "metadata": {},
   "source": [
    "# traffic and hourly (and segment) data:"
   ]
  },
  {
   "cell_type": "code",
   "execution_count": null,
   "metadata": {},
   "outputs": [],
   "source": [
    "# merge traffic with accidents:\n",
    "segment_time = segment_time.merge(traffic, how='left', on=['date', 'hour', 'km_from_addis', 'direction'])"
   ]
  },
  {
   "cell_type": "code",
   "execution_count": null,
   "metadata": {},
   "outputs": [],
   "source": [
    "# Now that we removed missing data we can safely assume that remaining traffic NAs are incidents of \n",
    "# no traffic in that particular time-km segment:\n",
    "segment_time['cars'] = segment_time['cars'].fillna(0)"
   ]
  },
  {
   "cell_type": "code",
   "execution_count": null,
   "metadata": {},
   "outputs": [],
   "source": [
    "# add hourly data:\n",
    "\n",
    "hourly['hour'] = hourly.date_hour.apply(lambda x: x.hour)\n",
    "hourly = hourly.drop('precip_mm', axis=1)\n",
    "\n",
    "# aggregate both directions (subject to change):\n",
    "hourly = hourly.groupby(['date_hour', 'direction']).agg(\n",
    "    {\n",
    "    'speed_mean': 'mean', 'speed_p10': 'mean', 'crash': 'sum', 'speed_p25': 'mean',\n",
    "        'speed_p50': 'mean', 'speed_p75': 'mean', 'speed_p90': 'mean', \n",
    "        'N_crashes': 'sum', 'N_vehicles': 'sum', 'holiday': 'mean', \n",
    "        'holiday_plusminus_1day': 'mean', 'holiday_plusminus_2day': 'mean',\n",
    "        'hour': 'mean', 'date': 'min'\n",
    "    }\n",
    ").reset_index()\n",
    "\n",
    "# merge with time-segment panel:\n",
    "segment_time = segment_time.merge(hourly, how='left', on=['date', 'hour', 'direction'], validate='many_to_one')"
   ]
  },
  {
   "cell_type": "code",
   "execution_count": null,
   "metadata": {
    "scrolled": true
   },
   "outputs": [],
   "source": [
    "# add segment data:\n",
    "segment_data = pyreadr.read_r(data_path + 'Addis Adama Expressway/Data/segments_data/merged_data/aae_segment_data.Rds')\n",
    "segment_data = segment_data[None]\n",
    "\n",
    "# round and scale and rename km variable:\n",
    "segment_data['distance_from_addis'] = segment_data['distance_from_addis'].apply(lambda x: rounder(x, prec=2, base=1000))\n",
    "segment_data['distance_from_addis'] = segment_data['distance_from_addis'] / 1000\n",
    "segment_data = segment_data.rename(columns={'distance_from_addis': 'km_from_addis'})"
   ]
  },
  {
   "cell_type": "code",
   "execution_count": null,
   "metadata": {},
   "outputs": [],
   "source": [
    "segment_data = segment_data.groupby('km_from_addis').agg(\n",
    "{\n",
    "    'N_crashes': 'sum', 'N_crashes_to_addis': 'sum', 'N_crashes_to_adama': 'sum',\n",
    "    'N_crashes_2015': 'sum', 'N_crashes_2017': 'sum', 'N_crashes_2016': 'sum', \t\n",
    "    'N_crashes_to_addis_2015': 'sum', 'N_crashes_to_adama_2017': 'sum', 'N_crashes_to_addis_2017': 'sum',\n",
    "    'N_crashes_to_addis_2016': 'sum', 'N_crashes_to_adama_2016': 'sum', 'N_crashes_to_adama_2015': 'sum',\n",
    "    'turnangle_10m': 'mean', 'turnangle_50m': 'mean', 'turnangle_100m': 'mean',\n",
    "    'turnangle_250m': 'mean', 'turnangle_500m': 'mean', 'N_crashes_MA_sum_500m': 'mean',\n",
    "    'N_crashes_to_addis_MA_sum_500m': 'mean', 'N_crashes_to_adama_MA_sum_500m': 'mean', \n",
    "    'N_crashes_2015_MA_sum_500m': 'mean', 'turnangle_250m': 'mean', 'turnangle_500m': 'mean', \n",
    "    'N_crashes_2017_MA_sum_500m': 'mean', 'N_crashes_2016_MA_sum_500m': 'mean', \n",
    "    'N_crashes_to_addis_2015_MA_sum_500m': 'mean', 'N_crashes_to_adama_2017_MA_sum_500m': 'mean',\n",
    "    'N_crashes_to_addis_2017_MA_sum_500m': 'mean', 'N_crashes_to_addis_2016_MA_sum_500m': 'mean', \n",
    "    'N_crashes_to_adama_2016_MA_sum_500m': 'mean', 'N_crashes_to_adama_2015_MA_sum_500m': 'mean', \n",
    "    'N_crashes_MA_sum_1000m': 'mean', 'N_crashes_to_addis_MA_sum_1000m': 'mean',\n",
    "    'N_crashes_to_adama_MA_sum_1000m': 'mean', 'N_crashes_2015_MA_sum_1000m': 'mean', \n",
    "    'N_crashes_2017_MA_sum_1000m': 'mean', 'N_crashes_2016_MA_sum_1000m': 'mean',\n",
    "    'N_crashes_to_addis_2015_MA_sum_1000m': 'mean', 'N_crashes_to_adama_2017_MA_sum_1000m': 'mean',\n",
    "    'N_crashes_to_addis_2017_MA_sum_1000m': 'mean', 'N_crashes_to_addis_2016_MA_sum_1000m': 'mean',\n",
    "    'N_crashes_to_adama_2016_MA_sum_1000m': 'mean', 'N_crashes_to_adama_2015_MA_sum_1000m': 'mean',\n",
    "    'turnangle_50m_MA_mean_500m': 'mean', 'turnangle_100m_MA_mean_500m': 'mean',\n",
    "    'turnangle_250m_MA_mean_500m': 'mean', 'turnangle_500m_MA_mean_500m': 'mean',\n",
    "    'turnangle_10m_MA_mean_1000m': 'mean', 'turnangle_50m_MA_mean_1000m': 'mean',\n",
    "    'turnangle_100m_MA_mean_1000m': 'mean', 'turnangle_250m_MA_mean_1000m': 'mean',\n",
    "    'turnangle_500m_MA_mean_1000m': 'mean'  \n",
    "}).reset_index()"
   ]
  },
  {
   "cell_type": "code",
   "execution_count": null,
   "metadata": {},
   "outputs": [],
   "source": [
    "segment_time = segment_time.merge(segment_data, how='left', on='km_from_addis', validate='many_to_one')"
   ]
  },
  {
   "cell_type": "markdown",
   "metadata": {},
   "source": [
    "# Aggregate by segment & time:"
   ]
  },
  {
   "cell_type": "code",
   "execution_count": null,
   "metadata": {},
   "outputs": [],
   "source": [
    "#segment_time.columns.values"
   ]
  },
  {
   "cell_type": "code",
   "execution_count": null,
   "metadata": {},
   "outputs": [],
   "source": [
    "granularity_km_ex_post = 1000\n",
    "granularity_hour_ex_post = 1\n",
    "segment_time['km_from_addis'] = segment_time.km_from_addis.apply(lambda x: rounder(x, prec=2, base=granularity_km_ex_post))\n",
    "segment_time['hour'] = segment_time.hour.apply(lambda x: rounder(x, prec=2, base=granularity_hour_ex_post))\n",
    "\n",
    "\n",
    "segment_time = segment_time.groupby(['date', 'hour', 'km_from_addis', 'direction']).agg(\n",
    "    {\n",
    "        'accidents': 'sum', 'precip_mm': 'sum', 'cars': 'sum',\n",
    "        'speed_mean': 'mean', 'speed_p10': 'mean', 'crash': 'sum', 'speed_p25': 'mean',\n",
    "        'speed_p50': 'mean', 'speed_p75': 'mean', 'speed_p90': 'mean', \n",
    "        'N_vehicles': 'sum', 'holiday': 'mean', \n",
    "        \n",
    "        'total_weight': 'mean', 'speed_km_hr': 'mean', 'veh_type_1': 'mean', 'veh_type_2': 'mean', \n",
    "        'veh_type_3': 'mean', 'veh_type_4': 'mean', 'veh_type_5': 'mean', 'veh_type_6': 'mean', \n",
    "        'veh_type_7': 'mean', 'speed_sec_km': 'mean',\n",
    "        \n",
    "        'holiday_plusminus_1day': 'mean', 'holiday_plusminus_2day': 'mean',\n",
    "        'N_crashes_x': 'sum', 'N_crashes_y': 'sum', 'N_crashes_to_addis': 'sum', 'N_crashes_to_adama': 'sum',\n",
    "        'N_crashes_2015': 'sum', 'N_crashes_2017': 'sum', 'N_crashes_2016': 'sum',\n",
    "        'N_crashes_to_addis_2015': 'sum', 'N_crashes_to_adama_2017': 'sum', 'N_crashes_to_addis_2017': 'sum',\n",
    "        'N_crashes_to_addis_2016': 'sum', 'N_crashes_to_adama_2016': 'sum', 'N_crashes_to_adama_2015': 'sum',\n",
    "        'turnangle_10m': 'mean', 'turnangle_50m': 'mean', 'turnangle_100m': 'mean',\n",
    "        'turnangle_250m': 'mean', 'turnangle_500m': 'mean', 'N_crashes_MA_sum_500m': 'mean',\n",
    "        'N_crashes_to_addis_MA_sum_500m': 'mean', 'N_crashes_to_adama_MA_sum_500m': 'mean', \n",
    "        'N_crashes_2015_MA_sum_500m': 'mean', 'turnangle_250m': 'mean', 'turnangle_500m': 'mean', \n",
    "        'N_crashes_2017_MA_sum_500m': 'mean', 'N_crashes_2016_MA_sum_500m': 'mean', \n",
    "        'N_crashes_to_addis_2015_MA_sum_500m': 'mean', 'N_crashes_to_adama_2017_MA_sum_500m': 'mean',\n",
    "        'N_crashes_to_addis_2017_MA_sum_500m': 'mean', 'N_crashes_to_addis_2016_MA_sum_500m': 'mean', \n",
    "        'N_crashes_to_adama_2016_MA_sum_500m': 'mean', 'N_crashes_to_adama_2015_MA_sum_500m': 'mean', \n",
    "        'N_crashes_MA_sum_1000m': 'mean', 'N_crashes_to_addis_MA_sum_1000m': 'mean',\n",
    "        'N_crashes_to_adama_MA_sum_1000m': 'mean', 'N_crashes_2015_MA_sum_1000m': 'mean', \n",
    "        'N_crashes_2017_MA_sum_1000m': 'mean', 'N_crashes_2016_MA_sum_1000m': 'mean',\n",
    "        'N_crashes_to_addis_2015_MA_sum_1000m': 'mean', 'N_crashes_to_adama_2017_MA_sum_1000m': 'mean',\n",
    "        'N_crashes_to_addis_2017_MA_sum_1000m': 'mean', 'N_crashes_to_addis_2016_MA_sum_1000m': 'mean',\n",
    "        'N_crashes_to_adama_2016_MA_sum_1000m': 'mean', 'N_crashes_to_adama_2015_MA_sum_1000m': 'mean',\n",
    "        'turnangle_50m_MA_mean_500m': 'mean', 'turnangle_100m_MA_mean_500m': 'mean',\n",
    "        'turnangle_250m_MA_mean_500m': 'mean', 'turnangle_500m_MA_mean_500m': 'mean',\n",
    "        'turnangle_10m_MA_mean_1000m': 'mean', 'turnangle_50m_MA_mean_1000m': 'mean',\n",
    "        'turnangle_100m_MA_mean_1000m': 'mean', 'turnangle_250m_MA_mean_1000m': 'mean',\n",
    "        'turnangle_500m_MA_mean_1000m': 'mean'\n",
    "#        'vehicle_type': 'median', \n",
    "#        'vehicle_brand': pd.Series.mode, \n",
    "#        'direction': pd.Series.mode, \n",
    "#        'road_geometry': pd.Series.mode, \n",
    "#        'road': pd.Series.mode, \n",
    "#        'weather': pd.Series.mode, \n",
    "#        'fatality': 'sum', \n",
    "#        'serious_injury': 'sum',\n",
    "#        'slight_injury': 'sum', \n",
    "#        'cause_of_accident': pd.Series.mode, \n",
    "#        'type_of_accident': pd.Series.mode,\n",
    "#        'year_of_production': pd.Series.mode, \n",
    "#        'owner': pd.Series.mode, \n",
    "#        'driver_age': pd.Series.mode,\n",
    "#        'gender': pd.Series.mode,\n",
    "#        'address': pd.Series.mode,\n",
    "#        'drivers_license_level': pd.Series.mode,\n",
    "#        'license_year': pd.Series.mode,\n",
    "#        'license_region': pd.Series.mode,\n",
    "#        'accident_location_text': pd.Series.mode,\n",
    "#        'extent_of_damage': pd.Series.mode,\n",
    "#        'axle_number': pd.Series.mode,\n",
    "#        'cause_of_accident_simple': pd.Series.mode,\n",
    "#        'type_of_accident_simple': pd.Series.mode,\n",
    "#        'accident_cause_vehicle_human': pd.Series.mode\n",
    "    }\n",
    ").reset_index()"
   ]
  },
  {
   "cell_type": "code",
   "execution_count": null,
   "metadata": {},
   "outputs": [],
   "source": [
    "segment_time['accidents'] = segment_time.accidents.apply(lambda x: 1 if x>0 else 0)"
   ]
  },
  {
   "cell_type": "markdown",
   "metadata": {},
   "source": [
    "# Feature engineering:"
   ]
  },
  {
   "cell_type": "code",
   "execution_count": null,
   "metadata": {},
   "outputs": [],
   "source": [
    "# weekend dummy:\n",
    "segment_time['weekday'] = segment_time.date.dt.dayofweek\n",
    "segment_time = pd.get_dummies(segment_time, columns=['weekday'])\n",
    "#weekday_dummies = ['weekday_' + str(n) for n in range(7)]\n",
    "segment_time['weekend'] = segment_time.apply(lambda x: sum([x.weekday_4, x.weekday_5, x.weekday_6]), axis=1)"
   ]
  },
  {
   "cell_type": "code",
   "execution_count": null,
   "metadata": {},
   "outputs": [],
   "source": [
    "# add hour square term:\n",
    "segment_time['hour_squared'] = segment_time.hour.apply(lambda x: x**2)\n",
    "# traffic x1000:\n",
    "segment_time['k_cars'] = segment_time.cars / 1000\n",
    "# precipitation x10:\n",
    "segment_time['precip_cm'] = segment_time.precip_mm / 10\n",
    "# speed x ...:\n",
    "#segment_time.speed_p90"
   ]
  },
  {
   "cell_type": "code",
   "execution_count": null,
   "metadata": {},
   "outputs": [],
   "source": [
    "# evening/rush-hour dummies:\n",
    "segment_time.groupby('hour').mean().reset_index().plot(x='hour', y='accidents')\n",
    "plt.show()\n",
    "# rush hour: 7-11, 16-17\n",
    "segment_time['rush_hour_dummy'] = segment_time.hour.apply(lambda x: 1 if 7 <= x <= 11 or 16 <= x <= 17 else 0)\n",
    "# midnight dummy: after 23 & before 2: (inclusive)\n",
    "segment_time['midnight_dummy'] = segment_time.hour.apply(lambda x: 1 if x>=23 or x<=2 else 0)"
   ]
  },
  {
   "attachments": {
    "image.png": {
     "image/png": "[encoded data removed]"
    }
   },
   "cell_type": "markdown",
   "metadata": {},
   "source": [
    "![image.png](attachment:image.png)"
   ]
  },
  {
   "cell_type": "code",
   "execution_count": null,
   "metadata": {},
   "outputs": [],
   "source": [
    "## segment dummy for rain:\n",
    "#\n",
    "#accidents_by_km = segment_time.groupby('km_from_addis')['accidents'].sum()\n",
    "#accidents_by_km.plot()\n",
    "#plt.show()\n",
    "## get segment dummies\n",
    "#def get_segment_dummies(km):\n",
    "#    \"\"\"\n",
    "#    Segments are based on entry points to the express way:\n",
    "#    \"\"\"\n",
    "#    if km <= 15:\n",
    "#        return 'rain_seg_1'\n",
    "#    elif 16 <= km <= 32:\n",
    "#        return 'rain_seg_2'\n",
    "#    elif 33 <= km <= 51:\n",
    "#        return 'rain_seg_3'\n",
    "#    elif 52 <= km <= 59:\n",
    "#        return 'rain_seg_4'\n",
    "#    elif 60 <= km <= 63:\n",
    "#        return 'rain_seg_5'\n",
    "#    elif 64 <= km:\n",
    "#        return 'rain_seg_6'\n",
    "#\n",
    "#segm_dummies = pd.get_dummies(segment_time.km_from_addis.apply(get_segment_dummies))\n",
    "#segment_time = pd.concat([segment_time, segm_dummies], axis=1)\n",
    "## multiply the segment dummies by precipitation:\n",
    "#for i in range(1,7):\n",
    "#    segment_time[f'rain_seg_{i}'] = segment_time[f'rain_seg_{i}'] * segment_time['precip_cm']"
   ]
  },
  {
   "cell_type": "code",
   "execution_count": null,
   "metadata": {},
   "outputs": [],
   "source": [
    "# make speed significant:\n",
    "\n",
    "# only take into account when there's little traffic:\n",
    "median = segment_time.cars.median()\n",
    "quantile_30 = segment_time.cars.quantile(0.3)\n",
    "#segment_time['low_traffic_dummy_p50'] = segment_time.cars.apply(lambda x: 1 if x <= median else 0)\n",
    "segment_time['low_traffic_dummy_p30'] = segment_time.cars.apply(lambda x: 1 if x <= quantile_30 else 0)\n",
    "#segment_time['speed_low_traffic_p50'] = segment_time.speed_km_hr * segment_time.low_traffic_dummy_p50\n",
    "segment_time['speed_low_traffic_p30'] = segment_time.speed_km_hr * segment_time.low_traffic_dummy_p30\n",
    "\n",
    "# only take into account when there's rain:\n",
    "segment_time['rain_dummy'] = segment_time.precip_cm.apply(lambda x: 1 if x > 0 else 0)\n",
    "segment_time['speed_rain'] = segment_time.speed_km_hr * segment_time.rain_dummy\n",
    "\n",
    "# mix the two:\n",
    "segment_time['speed_low_traffic_and_rain'] = segment_time.speed_rain * segment_time.low_traffic_dummy_p30"
   ]
  },
  {
   "cell_type": "code",
   "execution_count": null,
   "metadata": {},
   "outputs": [],
   "source": [
    "segment_time['avg_weight_tons'] = segment_time.total_weight / 1000\n",
    "segment_time['log_avg_weight_tons'] = np.log(segment_time.avg_weight_tons)"
   ]
  },
  {
   "cell_type": "code",
   "execution_count": null,
   "metadata": {},
   "outputs": [],
   "source": []
  },
  {
   "cell_type": "markdown",
   "metadata": {},
   "source": [
    "# save dataset:"
   ]
  },
  {
   "cell_type": "code",
   "execution_count": null,
   "metadata": {},
   "outputs": [],
   "source": [
    "segment_time.to_parquet(data_path + f'Time Segment Data/segment_time_panel_km_{granularity_km_ex_post}_hr_{granularity_hour_ex_post}.pq')"
   ]
  },
  {
   "cell_type": "code",
   "execution_count": null,
   "metadata": {},
   "outputs": [],
   "source": [
    "segment_time.accidents.value_counts()"
   ]
  },
  {
   "cell_type": "code",
   "execution_count": null,
   "metadata": {},
   "outputs": [],
   "source": [
    "segment_time.plot(x='date', y='k_cars')"
   ]
  },
  {
   "cell_type": "code",
   "execution_count": null,
   "metadata": {},
   "outputs": [],
   "source": []
  }
 ],
 "metadata": {
  "kernelspec": {
   "display_name": "Python 3",
   "language": "python",
   "name": "python3"
  },
  "language_info": {
   "codemirror_mode": {
    "name": "ipython",
    "version": 3
   },
   "file_extension": ".py",
   "mimetype": "text/x-python",
   "name": "python",
   "nbconvert_exporter": "python",
   "pygments_lexer": "ipython3",
   "version": "3.7.6"
  },
  "toc": {
   "base_numbering": 1,
   "nav_menu": {},
   "number_sections": true,
   "sideBar": true,
   "skip_h1_title": false,
   "title_cell": "Table of Contents",
   "title_sidebar": "Contents",
   "toc_cell": false,
   "toc_position": {},
   "toc_section_display": true,
   "toc_window_display": false
  }
 },
 "nbformat": 4,
 "nbformat_minor": 4
}
