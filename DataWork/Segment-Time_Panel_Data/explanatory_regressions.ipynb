{
 "cells": [
  {
   "cell_type": "code",
   "execution_count": 9,
   "metadata": {},
   "outputs": [],
   "source": [
    "import numpy as np\n",
    "import pandas as pd\n",
    "import pyreadr\n",
    "import datetime\n",
    "pd.set_option('display.max_rows', 1000)\n",
    "pd.set_option('display.max_columns', 100)\n",
    "import statsmodels.api as sm\n",
    "import matplotlib.pyplot as plt\n",
    "import seaborn as sns\n",
    "from linearmodels.panel import PanelOLS\n",
    "from sklearn.ensemble import RandomForestRegressor, RandomForestClassifier"
   ]
  },
  {
   "cell_type": "code",
   "execution_count": 2,
   "metadata": {},
   "outputs": [],
   "source": [
    "# define paths\n",
    "data_path = '/Users/simonneumeyer/Dropbox/Ethiopia IE - Road Safety/Data/'\n",
    "crashes_path = 'ETRE - Crashes/'\n",
    "crash_file = 'FinalData/crashes.csv'\n",
    "traffic_path = 'ETRE - Traffic/'\n",
    "traffic_file = 'FinalData/traffic.pq'\n",
    "precipitation_path = 'Precipitation/'\n",
    "precipitation_file = 'FinalData/precipitation.csv'"
   ]
  },
  {
   "cell_type": "code",
   "execution_count": 3,
   "metadata": {},
   "outputs": [],
   "source": [
    "segment_time = pd.read_parquet(data_path + 'Time Segment Data/segment_time_panel.pq', engine='pyarrow')"
   ]
  },
  {
   "cell_type": "code",
   "execution_count": 4,
   "metadata": {},
   "outputs": [],
   "source": [
    "segment_time[['total_weight', 'avg_weight_tons', 'log_avg_weight_tons', 'speed_km_hr', \n",
    "        'veh_type_1', 'veh_type_2', 'veh_type_3', 'veh_type_4', 'veh_type_5', 'veh_type_6', 'veh_type_7', \n",
    "        'speed_rain', 'speed_low_traffic_and_rain', 'speed_low_traffic_p25']] = segment_time[['total_weight', 'avg_weight_tons', 'log_avg_weight_tons', 'speed_km_hr', \n",
    "        'veh_type_1', 'veh_type_2', 'veh_type_3', 'veh_type_4', 'veh_type_5', 'veh_type_6', 'veh_type_7', \n",
    "        'speed_rain', 'speed_low_traffic_and_rain', 'speed_low_traffic_p25']].fillna(0)"
   ]
  },
  {
   "cell_type": "code",
   "execution_count": 5,
   "metadata": {},
   "outputs": [
    {
     "data": {
      "text/plain": [
       "Index(['index', 'date', 'hour', 'km_from_addis', 'direction', 'accidents',\n",
       "       'precip_mm', 'vehicle_type', 'vehicle_brand', 'road_geometry',\n",
       "       ...\n",
       "       'rain_seg_4', 'rain_seg_5', 'rain_seg_6', 'low_traffic_dummy_p25',\n",
       "       'speed_low_traffic_p25', 'rain_dummy', 'speed_rain',\n",
       "       'speed_low_traffic_and_rain', 'avg_weight_tons', 'log_avg_weight_tons'],\n",
       "      dtype='object', length=131)"
      ]
     },
     "execution_count": 5,
     "metadata": {},
     "output_type": "execute_result"
    }
   ],
   "source": [
    "segment_time.columns"
   ]
  },
  {
   "cell_type": "markdown",
   "metadata": {},
   "source": [
    "# Regression:"
   ]
  },
  {
   "cell_type": "code",
   "execution_count": 6,
   "metadata": {},
   "outputs": [],
   "source": [
    "cols = ['k_cars', 'weekend', \n",
    "        'holiday', 'holiday_plusminus_2day', 'speed_p90', 'rush_hour_dummy', 'avg_weight_tons', \n",
    "        'veh_type_1', 'veh_type_3', 'veh_type_4', 'veh_type_5', 'veh_type_6', 'veh_type_7', \n",
    "        'speed_rain', 'midnight_dummy', \n",
    "        'rain_seg_1', 'rain_seg_2', 'rain_seg_3', 'rain_seg_4', 'rain_seg_5', 'rain_seg_6']"
   ]
  },
  {
   "cell_type": "markdown",
   "metadata": {},
   "source": [
    "## OLS:"
   ]
  },
  {
   "cell_type": "code",
   "execution_count": 7,
   "metadata": {},
   "outputs": [
    {
     "name": "stdout",
     "output_type": "stream",
     "text": [
      "                            OLS Regression Results                            \n",
      "==============================================================================\n",
      "Dep. Variable:              accidents   R-squared:                       0.000\n",
      "Model:                            OLS   Adj. R-squared:                  0.000\n",
      "Method:                 Least Squares   F-statistic:                     21.81\n",
      "Date:                Thu, 17 Jun 2021   Prob (F-statistic):           8.85e-84\n",
      "Time:                        13:57:58   Log-Likelihood:             1.1463e+07\n",
      "No. Observations:             3926853   AIC:                        -2.293e+07\n",
      "Df Residuals:                 3926831   BIC:                        -2.293e+07\n",
      "Df Model:                          21                                         \n",
      "Covariance Type:            nonrobust                                         \n",
      "==========================================================================================\n",
      "                             coef    std err          t      P>|t|      [0.025      0.975]\n",
      "------------------------------------------------------------------------------------------\n",
      "const                  -9.719e-05   5.03e-05     -1.931      0.053      -0.000    1.46e-06\n",
      "k_cars                     0.0005   4.73e-05     10.149      0.000       0.000       0.001\n",
      "weekend                 1.466e-05   1.34e-05      1.093      0.274   -1.16e-05    4.09e-05\n",
      "holiday                -3.796e-05   4.01e-05     -0.947      0.344      -0.000    4.06e-05\n",
      "holiday_plusminus_2day  2.575e-05   2.01e-05      1.279      0.201   -1.37e-05    6.52e-05\n",
      "speed_p90               3.972e-07   4.19e-07      0.947      0.343   -4.24e-07    1.22e-06\n",
      "rush_hour_dummy            0.0001   1.64e-05      8.118      0.000       0.000       0.000\n",
      "avg_weight_tons         -1.44e-06   1.73e-06     -0.833      0.405   -4.83e-06    1.95e-06\n",
      "veh_type_1                7.6e-05   4.37e-05      1.739      0.082   -9.66e-06       0.000\n",
      "veh_type_3                 0.0002   3.45e-05      4.430      0.000    8.52e-05       0.000\n",
      "veh_type_4                 0.0001   6.06e-05      1.894      0.058   -4.01e-06       0.000\n",
      "veh_type_5             -7.061e-05      0.000     -0.238      0.812      -0.001       0.001\n",
      "veh_type_6                -0.0001      0.000     -0.283      0.777      -0.001       0.001\n",
      "veh_type_7             -6.254e-05   9.35e-05     -0.669      0.504      -0.000       0.000\n",
      "speed_rain              4.061e-07   2.01e-07      2.017      0.044    1.16e-08    8.01e-07\n",
      "midnight_dummy             0.0001   2.13e-05      5.737      0.000    8.03e-05       0.000\n",
      "rain_seg_1                 0.0002   2.98e-05      5.721      0.000       0.000       0.000\n",
      "rain_seg_2              7.519e-05   2.94e-05      2.561      0.010    1.77e-05       0.000\n",
      "rain_seg_3              -5.26e-05    2.8e-05     -1.879      0.060      -0.000    2.28e-06\n",
      "rain_seg_4             -8.278e-05   4.15e-05     -1.993      0.046      -0.000   -1.37e-06\n",
      "rain_seg_5             -8.085e-05   5.81e-05     -1.391      0.164      -0.000    3.31e-05\n",
      "rain_seg_6              1.969e-05   3.11e-05      0.633      0.527   -4.12e-05    8.06e-05\n",
      "==============================================================================\n",
      "Omnibus:                 14258668.557   Durbin-Watson:                   1.992\n",
      "Prob(Omnibus):                  0.000   Jarque-Bera (JB):    5612107016988.735\n",
      "Skew:                          76.524   Prob(JB):                         0.00\n",
      "Kurtosis:                    5857.609   Cond. No.                     7.31e+03\n",
      "==============================================================================\n",
      "\n",
      "Warnings:\n",
      "[1] Standard Errors assume that the covariance matrix of the errors is correctly specified.\n",
      "[2] The condition number is large, 7.31e+03. This might indicate that there are\n",
      "strong multicollinearity or other numerical problems.\n"
     ]
    }
   ],
   "source": [
    "# OLS model:\n",
    "\n",
    "# dropping NAs where we don't have speed_mean (only 8k observations)\n",
    "df = segment_time.dropna(subset=['speed_mean']).reset_index()\n",
    "y = df.accidents\n",
    "\n",
    "X = df[cols]\n",
    "X = sm.add_constant(X)\n",
    "\n",
    "# for clustered se option\n",
    "groups = df.km_from_addis\n",
    "\n",
    "# Fit and summarize OLS model\n",
    "model = sm.OLS(y, X)\n",
    "\n",
    "linreg = model.fit()\n",
    "#linreg = model.fit(cov_type='cluster', cov_kwds={'groups': groups})\n",
    "\n",
    "print(linreg.summary())"
   ]
  },
  {
   "cell_type": "code",
   "execution_count": 8,
   "metadata": {},
   "outputs": [
    {
     "data": {
      "image/png": "[encoded data removed]",
      "text/plain": [
       "<Figure size 432x288 with 2 Axes>"
      ]
     },
     "metadata": {
      "needs_background": "light"
     },
     "output_type": "display_data"
    }
   ],
   "source": [
    "# check for correlation between covariates:\n",
    "corr = np.corrcoef(X.T[1:])\n",
    "sns.heatmap(corr, xticklabels=X.columns[1:], yticklabels=X.columns[1:])\n",
    "plt.show()"
   ]
  },
  {
   "cell_type": "markdown",
   "metadata": {},
   "source": [
    "## Fixed Effects:"
   ]
  },
  {
   "cell_type": "markdown",
   "metadata": {},
   "source": [
    "### year fixed effects:"
   ]
  },
  {
   "cell_type": "code",
   "execution_count": 18,
   "metadata": {},
   "outputs": [
    {
     "name": "stdout",
     "output_type": "stream",
     "text": [
      "                          PanelOLS Estimation Summary                           \n",
      "================================================================================\n",
      "Dep. Variable:              accidents   R-squared:                        0.0001\n",
      "Estimator:                   PanelOLS   R-squared (Between):              0.3305\n",
      "No. Observations:             3926853   R-squared (Within):               0.0001\n",
      "Date:                Fri, Jun 11 2021   R-squared (Overall):              0.0001\n",
      "Time:                        13:22:07   Log-likelihood                 1.146e+07\n",
      "Cov. Estimator:             Clustered                                           \n",
      "                                        F-statistic:                      20.793\n",
      "Entities:                           3   P-value                           0.0000\n",
      "Avg Obs:                    1.309e+06   Distribution:              F(21,3926829)\n",
      "Min Obs:                    1.157e+06                                           \n",
      "Max Obs:                    1.386e+06   F-statistic (robust):          1.463e+16\n",
      "                                        P-value                           0.0000\n",
      "Time periods:                      12   Distribution:              F(21,3926829)\n",
      "Avg Obs:                    3.272e+05                                           \n",
      "Min Obs:                    2.161e+05                                           \n",
      "Max Obs:                    3.527e+05                                           \n",
      "                                                                                \n",
      "                                   Parameter Estimates                                    \n",
      "==========================================================================================\n",
      "                        Parameter  Std. Err.     T-stat    P-value    Lower CI    Upper CI\n",
      "------------------------------------------------------------------------------------------\n",
      "const                  -9.387e-05  2.878e-05    -3.2618     0.0011     -0.0002  -3.746e-05\n",
      "k_cars                     0.0004  5.301e-05     8.4873     0.0000      0.0003      0.0006\n",
      "weekend                 1.424e-05  1.747e-05     0.8149     0.4151      -2e-05   4.848e-05\n",
      "holiday                -3.777e-05  7.169e-06    -5.2684     0.0000  -5.182e-05  -2.372e-05\n",
      "holiday_plusminus_2day  2.222e-05  1.296e-05     1.7145     0.0864  -3.181e-06   4.762e-05\n",
      "speed_p90               3.762e-07  1.884e-07     1.9973     0.0458   7.026e-09   7.454e-07\n",
      "rush_hour_dummy            0.0001  2.434e-05     5.5711     0.0000    8.79e-05      0.0002\n",
      "avg_weight_tons         6.699e-07  2.161e-06     0.3100     0.7566  -3.566e-06   4.906e-06\n",
      "veh_type_1              8.435e-05   3.81e-05     2.2140     0.0268   9.677e-06      0.0002\n",
      "veh_type_3                 0.0001  3.339e-05     4.3591     0.0000   8.011e-05      0.0002\n",
      "veh_type_4                 0.0001   4.49e-05     2.7162     0.0066   3.395e-05      0.0002\n",
      "veh_type_5             -6.673e-05     0.0003    -0.2343     0.8147     -0.0006      0.0005\n",
      "veh_type_6                -0.0001  7.568e-05    -1.6415     0.1007     -0.0003    2.41e-05\n",
      "veh_type_7             -9.673e-05  1.566e-05    -6.1785     0.0000     -0.0001  -6.605e-05\n",
      "speed_rain              4.831e-07  3.898e-07     1.2393     0.2152  -2.809e-07   1.247e-06\n",
      "midnight_dummy             0.0001  4.444e-05     2.6738     0.0075   3.172e-05      0.0002\n",
      "rain_seg_1                 0.0002  4.498e-05     3.7560     0.0002   8.079e-05      0.0003\n",
      "rain_seg_2              7.251e-05  1.658e-05     4.3739     0.0000   4.002e-05      0.0001\n",
      "rain_seg_3             -5.514e-05  1.681e-05    -3.2804     0.0010  -8.809e-05   -2.22e-05\n",
      "rain_seg_4              -8.69e-05  3.153e-05    -2.7559     0.0059     -0.0001   -2.51e-05\n",
      "rain_seg_5             -8.708e-05  3.903e-05    -2.2312     0.0257     -0.0002  -1.059e-05\n",
      "rain_seg_6              1.827e-05  6.012e-06     3.0393     0.0024   6.489e-06   3.006e-05\n",
      "==========================================================================================\n",
      "\n",
      "F-test for Poolability: 18.443\n",
      "P-value: 0.0000\n",
      "Distribution: F(2,3926829)\n",
      "\n",
      "Included effects: Entity\n"
     ]
    }
   ],
   "source": [
    "# dropping NAs where we don't have speed_mean (only 8k observations)\n",
    "df = segment_time.dropna(subset=['speed_mean']).reset_index()\n",
    "\n",
    "# create year and month variable:\n",
    "df['year'] = df.date.dt.year\n",
    "df['month'] = df.date.dt.month\n",
    "\n",
    "# set index:\n",
    "df = df.set_index(['year', 'month']).sort_index()\n",
    "y = df.accidents\n",
    "\n",
    "X = df[cols]\n",
    "X = sm.add_constant(X)\n",
    "\n",
    "mod = PanelOLS(y, X, entity_effects=True)\n",
    "res = mod.fit(cov_type='clustered', cluster_entity=True)\n",
    "print(res)"
   ]
  },
  {
   "cell_type": "markdown",
   "metadata": {},
   "source": [
    "### year month fixed effects:"
   ]
  },
  {
   "cell_type": "code",
   "execution_count": 19,
   "metadata": {},
   "outputs": [
    {
     "name": "stdout",
     "output_type": "stream",
     "text": [
      "                          PanelOLS Estimation Summary                           \n",
      "================================================================================\n",
      "Dep. Variable:              accidents   R-squared:                        0.0001\n",
      "Estimator:                   PanelOLS   R-squared (Between):              0.2840\n",
      "No. Observations:             3926853   R-squared (Within):               0.0001\n",
      "Date:                Fri, Jun 11 2021   R-squared (Overall):              0.0001\n",
      "Time:                        13:22:59   Log-likelihood                 1.146e+07\n",
      "Cov. Estimator:             Clustered                                           \n",
      "                                        F-statistic:                      19.926\n",
      "Entities:                           3   P-value                           0.0000\n",
      "Avg Obs:                    1.309e+06   Distribution:              F(21,3926818)\n",
      "Min Obs:                    1.157e+06                                           \n",
      "Max Obs:                    1.386e+06   F-statistic (robust):         -2.183e+16\n",
      "                                        P-value                           1.0000\n",
      "Time periods:                      12   Distribution:              F(21,3926818)\n",
      "Avg Obs:                    3.272e+05                                           \n",
      "Min Obs:                    2.161e+05                                           \n",
      "Max Obs:                    3.527e+05                                           \n",
      "                                                                                \n",
      "                                   Parameter Estimates                                    \n",
      "==========================================================================================\n",
      "                        Parameter  Std. Err.     T-stat    P-value    Lower CI    Upper CI\n",
      "------------------------------------------------------------------------------------------\n",
      "const                  -7.391e-05  5.418e-05    -1.3643     0.1725     -0.0002   3.227e-05\n",
      "k_cars                     0.0004  5.082e-05     8.5212     0.0000      0.0003      0.0005\n",
      "weekend                   1.4e-05  1.687e-05     0.8299     0.4066  -1.906e-05   4.706e-05\n",
      "holiday                -3.506e-05  9.206e-06    -3.8081     0.0001   -5.31e-05  -1.701e-05\n",
      "holiday_plusminus_2day  3.448e-05  9.312e-06     3.7028     0.0002   1.623e-05   5.273e-05\n",
      "speed_p90               2.046e-07  1.791e-07     1.1423     0.2533  -1.464e-07   5.555e-07\n",
      "rush_hour_dummy            0.0001  2.196e-05     6.2910     0.0000   9.512e-05      0.0002\n",
      "avg_weight_tons         1.825e-06  1.168e-06     1.5629     0.1181  -4.636e-07   4.113e-06\n",
      "veh_type_1              9.872e-05  3.741e-05     2.6387     0.0083   2.539e-05      0.0002\n",
      "veh_type_3                 0.0001  4.513e-05     3.0800     0.0021   5.054e-05      0.0002\n",
      "veh_type_4                 0.0001  4.029e-05     3.2513     0.0011   5.203e-05      0.0002\n",
      "veh_type_5             -8.604e-05     0.0003    -0.3382     0.7352     -0.0006      0.0004\n",
      "veh_type_6                -0.0002     0.0001    -1.4681     0.1421     -0.0004   5.601e-05\n",
      "veh_type_7             -9.453e-05  1.809e-05    -5.2247     0.0000     -0.0001  -5.907e-05\n",
      "speed_rain              3.663e-07  3.292e-07     1.1127     0.2659  -2.789e-07   1.011e-06\n",
      "midnight_dummy             0.0001   4.48e-05     2.6099     0.0091   2.912e-05      0.0002\n",
      "rain_seg_1                 0.0002  5.235e-05     3.0362     0.0024   5.634e-05      0.0003\n",
      "rain_seg_2              6.295e-05  1.872e-05     3.3619     0.0008   2.625e-05   9.965e-05\n",
      "rain_seg_3             -6.446e-05   2.05e-05    -3.1445     0.0017     -0.0001  -2.428e-05\n",
      "rain_seg_4             -9.691e-05  2.944e-05    -3.2921     0.0010     -0.0002  -3.921e-05\n",
      "rain_seg_5             -9.737e-05  4.011e-05    -2.4278     0.0152     -0.0002  -1.876e-05\n",
      "rain_seg_6              3.529e-06  1.715e-06     2.0578     0.0396   1.679e-07    6.89e-06\n",
      "==========================================================================================\n",
      "\n",
      "F-test for Poolability: 5.2141\n",
      "P-value: 0.0000\n",
      "Distribution: F(13,3926818)\n",
      "\n",
      "Included effects: Entity, Time\n"
     ]
    }
   ],
   "source": [
    "mod = PanelOLS(y, X, entity_effects=True, time_effects=True, drop_absorbed=True)\n",
    "res = mod.fit(cov_type='clustered', cluster_entity=True)\n",
    "print(res)"
   ]
  },
  {
   "cell_type": "markdown",
   "metadata": {},
   "source": [
    "### Month fixed effects:"
   ]
  },
  {
   "cell_type": "code",
   "execution_count": 20,
   "metadata": {},
   "outputs": [
    {
     "name": "stdout",
     "output_type": "stream",
     "text": [
      "                          PanelOLS Estimation Summary                           \n",
      "================================================================================\n",
      "Dep. Variable:              accidents   R-squared:                        0.0001\n",
      "Estimator:                   PanelOLS   R-squared (Between):              0.3969\n",
      "No. Observations:             3926853   R-squared (Within):               0.0001\n",
      "Date:                Fri, Jun 11 2021   R-squared (Overall):              0.0001\n",
      "Time:                        13:23:39   Log-likelihood                 1.146e+07\n",
      "Cov. Estimator:             Clustered                                           \n",
      "                                        F-statistic:                      20.945\n",
      "Entities:                           3   P-value                           0.0000\n",
      "Avg Obs:                    1.309e+06   Distribution:              F(21,3926820)\n",
      "Min Obs:                    1.157e+06                                           \n",
      "Max Obs:                    1.386e+06   F-statistic (robust):          6.486e+15\n",
      "                                        P-value                           0.0000\n",
      "Time periods:                      12   Distribution:              F(21,3926820)\n",
      "Avg Obs:                    3.272e+05                                           \n",
      "Min Obs:                    2.161e+05                                           \n",
      "Max Obs:                    3.527e+05                                           \n",
      "                                                                                \n",
      "                                   Parameter Estimates                                    \n",
      "==========================================================================================\n",
      "                        Parameter  Std. Err.     T-stat    P-value    Lower CI    Upper CI\n",
      "------------------------------------------------------------------------------------------\n",
      "const                  -8.049e-05  5.991e-05    -1.3434     0.1791     -0.0002   3.694e-05\n",
      "k_cars                     0.0005     0.0001     4.1435     0.0000      0.0002      0.0007\n",
      "weekend                 1.463e-05   1.54e-05     0.9500     0.3421  -1.555e-05   4.481e-05\n",
      "holiday                -3.506e-05  3.366e-05    -1.0415     0.2977     -0.0001   3.092e-05\n",
      "holiday_plusminus_2day  3.812e-05  1.863e-05     2.0467     0.0407   1.615e-06   7.463e-05\n",
      "speed_p90               2.522e-07  5.477e-07     0.4604     0.6452  -8.213e-07   1.326e-06\n",
      "rush_hour_dummy            0.0001  1.387e-05     9.7322     0.0000      0.0001      0.0002\n",
      "avg_weight_tons        -9.668e-07  1.755e-06    -0.5510     0.5817  -4.406e-06   2.472e-06\n",
      "veh_type_1              8.662e-05   6.27e-05     1.3816     0.1671  -3.626e-05      0.0002\n",
      "veh_type_3                 0.0001  2.563e-05     5.8118     0.0000   9.871e-05      0.0002\n",
      "veh_type_4                 0.0001  5.603e-05     2.2306     0.0257   1.517e-05      0.0002\n",
      "veh_type_5             -8.269e-05     0.0001    -0.6786     0.4974     -0.0003      0.0002\n",
      "veh_type_6                -0.0002     0.0003    -0.4901     0.6240     -0.0008      0.0005\n",
      "veh_type_7             -5.044e-05  6.443e-05    -0.7828     0.4338     -0.0002   7.585e-05\n",
      "speed_rain              2.907e-07  2.715e-07     1.0705     0.2844  -2.415e-07   8.228e-07\n",
      "midnight_dummy             0.0001  1.358e-05     8.8790     0.0000   9.397e-05      0.0001\n",
      "rain_seg_1                 0.0002  3.864e-05     4.1670     0.0000   8.529e-05      0.0002\n",
      "rain_seg_2              6.591e-05  3.919e-05     1.6818     0.0926   -1.09e-05      0.0001\n",
      "rain_seg_3             -6.165e-05  2.478e-05    -2.4877     0.0129     -0.0001  -1.308e-05\n",
      "rain_seg_4             -9.215e-05  2.076e-05    -4.4382     0.0000     -0.0001  -5.145e-05\n",
      "rain_seg_5             -9.036e-05  2.464e-05    -3.6673     0.0002     -0.0001  -4.207e-05\n",
      "rain_seg_6              5.714e-06  1.226e-05     0.4662     0.6411  -1.831e-05   2.974e-05\n",
      "==========================================================================================\n",
      "\n",
      "F-test for Poolability: 2.6492\n",
      "P-value: 0.0022\n",
      "Distribution: F(11,3926820)\n",
      "\n",
      "Included effects: Time\n"
     ]
    }
   ],
   "source": [
    "mod = PanelOLS(y, X, time_effects=True, drop_absorbed=True)\n",
    "res = mod.fit(cov_type='clustered', cluster_time=True)\n",
    "print(res)"
   ]
  },
  {
   "cell_type": "markdown",
   "metadata": {},
   "source": [
    "### Segment Fixed Effects:"
   ]
  },
  {
   "cell_type": "code",
   "execution_count": 21,
   "metadata": {},
   "outputs": [
    {
     "name": "stdout",
     "output_type": "stream",
     "text": [
      "                          PanelOLS Estimation Summary                           \n",
      "================================================================================\n",
      "Dep. Variable:              accidents   R-squared:                     6.508e-05\n",
      "Estimator:                   PanelOLS   R-squared (Between):              0.2485\n",
      "No. Observations:             3926853   R-squared (Within):            6.508e-05\n",
      "Date:                Fri, Jun 11 2021   R-squared (Overall):              0.0001\n",
      "Time:                        13:25:01   Log-likelihood                 1.146e+07\n",
      "Cov. Estimator:             Clustered                                           \n",
      "                                        F-statistic:                      12.170\n",
      "Entities:                          79   P-value                           0.0000\n",
      "Avg Obs:                    4.971e+04   Distribution:              F(21,3926753)\n",
      "Min Obs:                    4.971e+04                                           \n",
      "Max Obs:                    4.971e+04   F-statistic (robust):             4.8435\n",
      "                                        P-value                           0.0000\n",
      "Time periods:                    1037   Distribution:              F(21,3926753)\n",
      "Avg Obs:                       3786.7                                           \n",
      "Min Obs:                       632.00                                           \n",
      "Max Obs:                       3792.0                                           \n",
      "                                                                                \n",
      "                                   Parameter Estimates                                    \n",
      "==========================================================================================\n",
      "                        Parameter  Std. Err.     T-stat    P-value    Lower CI    Upper CI\n",
      "------------------------------------------------------------------------------------------\n",
      "const                  -2.061e-05  8.752e-05    -0.2355     0.8138     -0.0002      0.0002\n",
      "k_cars                     0.0004     0.0001     3.7835     0.0002      0.0002      0.0006\n",
      "weekend                 1.554e-05  1.202e-05     1.2934     0.1959  -8.011e-06    3.91e-05\n",
      "holiday                -3.892e-05  3.571e-05    -1.0899     0.2758     -0.0001   3.107e-05\n",
      "holiday_plusminus_2day  2.534e-05  1.881e-05     1.3470     0.1780  -1.153e-05   6.222e-05\n",
      "speed_p90               4.708e-07  4.784e-07     0.9841     0.3251  -4.669e-07   1.408e-06\n",
      "rush_hour_dummy            0.0001  2.556e-05     5.3271     0.0000   8.605e-05      0.0002\n",
      "avg_weight_tons        -1.395e-06  1.716e-06    -0.8127     0.4164  -4.758e-06   1.969e-06\n",
      "veh_type_1             -8.244e-05  9.683e-05    -0.8513     0.3946     -0.0003      0.0001\n",
      "veh_type_3               5.45e-05  7.509e-05     0.7257     0.4680  -9.268e-05      0.0002\n",
      "veh_type_4               1.85e-05     0.0001     0.1712     0.8640     -0.0002      0.0002\n",
      "veh_type_5              -9.98e-05     0.0002    -0.4771     0.6333     -0.0005      0.0003\n",
      "veh_type_6                -0.0002     0.0003    -0.5214     0.6021     -0.0008      0.0005\n",
      "veh_type_7             -5.697e-05     0.0001    -0.5400     0.5892     -0.0003      0.0001\n",
      "speed_rain              4.031e-07  2.419e-07     1.6666     0.0956  -7.094e-08   8.771e-07\n",
      "midnight_dummy             0.0001  1.854e-05     6.2150     0.0000   7.888e-05      0.0002\n",
      "rain_seg_1                 0.0001  5.523e-05     2.1833     0.0290   1.233e-05      0.0002\n",
      "rain_seg_2                  9e-05  5.547e-05     1.6224     0.1047  -1.873e-05      0.0002\n",
      "rain_seg_3             -3.123e-05  2.459e-05    -1.2701     0.2041  -7.942e-05   1.696e-05\n",
      "rain_seg_4             -4.592e-05   1.87e-05    -2.4551     0.0141  -8.258e-05   -9.26e-06\n",
      "rain_seg_5             -6.906e-05  3.373e-05    -2.0475     0.0406     -0.0001  -2.952e-06\n",
      "rain_seg_6              9.089e-06  1.529e-05     0.5946     0.5521  -2.087e-05   3.905e-05\n",
      "==========================================================================================\n",
      "\n",
      "F-test for Poolability: 5.1593\n",
      "P-value: 0.0000\n",
      "Distribution: F(78,3926753)\n",
      "\n",
      "Included effects: Entity\n"
     ]
    }
   ],
   "source": [
    "# dropping NAs where we don't have speed_mean (only 8k observations)\n",
    "df = segment_time.dropna(subset=['speed_mean']).reset_index()\n",
    "\n",
    "df = df.set_index(['km_from_addis', 'date']).sort_index()\n",
    "y = df.accidents\n",
    "\n",
    "X = df[cols]\n",
    "X = sm.add_constant(X)\n",
    "\n",
    "mod = PanelOLS(y, X, entity_effects=True)\n",
    "res = mod.fit(cov_type='clustered', cluster_entity=True)\n",
    "print(res)"
   ]
  },
  {
   "cell_type": "markdown",
   "metadata": {},
   "source": [
    "### Year-month-day Fixed Effects:"
   ]
  },
  {
   "cell_type": "code",
   "execution_count": 22,
   "metadata": {},
   "outputs": [
    {
     "name": "stderr",
     "output_type": "stream",
     "text": [
      "/Users/simonneumeyer/opt/anaconda3/lib/python3.7/site-packages/linearmodels/panel/model.py:1798: AbsorbingEffectWarning: \n",
      "Variables have been fully absorbed and have removed from the regression:\n",
      "\n",
      "weekend, holiday, holiday_plusminus_2day, rain_seg_6\n",
      "\n",
      "  AbsorbingEffectWarning,\n"
     ]
    },
    {
     "name": "stdout",
     "output_type": "stream",
     "text": [
      "                          PanelOLS Estimation Summary                           \n",
      "================================================================================\n",
      "Dep. Variable:              accidents   R-squared:                        0.0001\n",
      "Estimator:                   PanelOLS   R-squared (Between):              0.3486\n",
      "No. Observations:             3926853   R-squared (Within):            5.878e-05\n",
      "Date:                Fri, Jun 11 2021   R-squared (Overall):              0.0001\n",
      "Time:                        13:26:35   Log-likelihood                 1.146e+07\n",
      "Cov. Estimator:             Clustered                                           \n",
      "                                        F-statistic:                      23.964\n",
      "Entities:                          79   P-value                           0.0000\n",
      "Avg Obs:                    4.971e+04   Distribution:              F(17,3925799)\n",
      "Min Obs:                    4.971e+04                                           \n",
      "Max Obs:                    4.971e+04   F-statistic (robust):             20.489\n",
      "                                        P-value                           0.0000\n",
      "Time periods:                    1037   Distribution:              F(17,3925799)\n",
      "Avg Obs:                       3786.7                                           \n",
      "Min Obs:                       632.00                                           \n",
      "Max Obs:                       3792.0                                           \n",
      "                                                                                \n",
      "                                Parameter Estimates                                \n",
      "===================================================================================\n",
      "                 Parameter  Std. Err.     T-stat    P-value    Lower CI    Upper CI\n",
      "-----------------------------------------------------------------------------------\n",
      "const            -3.36e-05  5.783e-05    -0.5811     0.5612     -0.0001   7.974e-05\n",
      "k_cars              0.0004  7.178e-05     5.8012     0.0000      0.0003      0.0006\n",
      "speed_p90       -5.484e-08   5.05e-07    -0.1086     0.9135  -1.045e-06    9.35e-07\n",
      "rush_hour_dummy     0.0001  1.869e-05     7.4442     0.0000      0.0001      0.0002\n",
      "avg_weight_tons   1.51e-06  1.998e-06     0.7555     0.4500  -2.407e-06   5.426e-06\n",
      "veh_type_1          0.0001  4.548e-05     2.2143     0.0268   1.157e-05      0.0002\n",
      "veh_type_3          0.0001  3.177e-05     3.9037     0.0001   6.175e-05      0.0002\n",
      "veh_type_4          0.0001   5.46e-05     2.2820     0.0225   1.759e-05      0.0002\n",
      "veh_type_5         -0.0001     0.0002    -0.5021     0.6156     -0.0005      0.0003\n",
      "veh_type_6         -0.0003     0.0003    -1.0651     0.2868     -0.0009      0.0003\n",
      "veh_type_7         -0.0001  8.203e-05    -1.3196     0.1870     -0.0003   5.253e-05\n",
      "speed_rain       8.022e-07  3.113e-07     2.5768     0.0100    1.92e-07   1.412e-06\n",
      "midnight_dummy      0.0001  1.872e-05     6.2139     0.0000   7.962e-05      0.0002\n",
      "rain_seg_1          0.0001  5.621e-05     2.5183     0.0118   3.138e-05      0.0003\n",
      "rain_seg_2       4.333e-05  4.269e-05     1.0149     0.3101  -4.034e-05      0.0001\n",
      "rain_seg_3      -8.419e-05  2.737e-05    -3.0756     0.0021     -0.0001  -3.054e-05\n",
      "rain_seg_4         -0.0001    3.3e-05    -3.5920     0.0003     -0.0002  -5.385e-05\n",
      "rain_seg_5         -0.0001  3.337e-05    -3.6413     0.0003     -0.0002  -5.611e-05\n",
      "===================================================================================\n",
      "\n",
      "F-test for Poolability: 1.3253\n",
      "P-value: 0.0000\n",
      "Distribution: F(1036,3925799)\n",
      "\n",
      "Included effects: Time\n"
     ]
    }
   ],
   "source": [
    "# dropping NAs where we don't have speed_mean (only 8k observations)\n",
    "df = segment_time.dropna(subset=['speed_mean']).reset_index()\n",
    "\n",
    "df = df.set_index(['km_from_addis', 'date']).sort_index()\n",
    "y = df.accidents\n",
    "\n",
    "X = df[cols]\n",
    "X = sm.add_constant(X)\n",
    "\n",
    "mod = PanelOLS(y, X, entity_effects=False, time_effects=True, drop_absorbed=True)\n",
    "res = mod.fit(cov_type='clustered', cluster_time=True)\n",
    "print(res)"
   ]
  },
  {
   "cell_type": "markdown",
   "metadata": {},
   "source": [
    "### Segment-Direction Fixed Effects:\n"
   ]
  },
  {
   "cell_type": "code",
   "execution_count": 23,
   "metadata": {},
   "outputs": [
    {
     "name": "stdout",
     "output_type": "stream",
     "text": [
      "                          PanelOLS Estimation Summary                           \n",
      "================================================================================\n",
      "Dep. Variable:              accidents   R-squared:                      6.58e-05\n",
      "Estimator:                   PanelOLS   R-squared (Between):             -12.077\n",
      "No. Observations:             3926853   R-squared (Within):               0.0001\n",
      "Date:                Fri, Jun 11 2021   R-squared (Overall):              0.0001\n",
      "Time:                        13:28:10   Log-likelihood                 1.146e+07\n",
      "Cov. Estimator:             Clustered                                           \n",
      "                                        F-statistic:                      12.305\n",
      "Entities:                           2   P-value                           0.0000\n",
      "Avg Obs:                    1.963e+06   Distribution:              F(21,3926752)\n",
      "Min Obs:                    1.963e+06                                           \n",
      "Max Obs:                    1.963e+06   F-statistic (robust):         -3.371e+15\n",
      "                                        P-value                           1.0000\n",
      "Time periods:                      79   Distribution:              F(21,3926752)\n",
      "Avg Obs:                    4.971e+04                                           \n",
      "Min Obs:                    4.971e+04                                           \n",
      "Max Obs:                    4.971e+04                                           \n",
      "                                                                                \n",
      "                                   Parameter Estimates                                    \n",
      "==========================================================================================\n",
      "                        Parameter  Std. Err.     T-stat    P-value    Lower CI    Upper CI\n",
      "------------------------------------------------------------------------------------------\n",
      "const                  -3.315e-05  1.083e-05    -3.0596     0.0022  -5.438e-05  -1.191e-05\n",
      "k_cars                     0.0004  1.304e-05     32.149     0.0000      0.0004      0.0004\n",
      "weekend                 1.575e-05  1.595e-05     0.9876     0.3234  -1.551e-05     4.7e-05\n",
      "holiday                -3.873e-05  5.742e-06    -6.7455     0.0000  -4.999e-05  -2.748e-05\n",
      "holiday_plusminus_2day  2.554e-05  1.428e-05     1.7884     0.0737   -2.45e-06   5.352e-05\n",
      "speed_p90               5.538e-07  3.858e-07     1.4353     0.1512  -2.024e-07    1.31e-06\n",
      "rush_hour_dummy            0.0001   1.45e-05     9.3839     0.0000      0.0001      0.0002\n",
      "avg_weight_tons        -2.428e-06  9.707e-07    -2.5011     0.0124   -4.33e-06  -5.253e-07\n",
      "veh_type_1             -7.947e-05   1.48e-05    -5.3693     0.0000     -0.0001  -5.046e-05\n",
      "veh_type_3              5.806e-05  5.169e-05     1.1233     0.2613  -4.324e-05      0.0002\n",
      "veh_type_4              5.221e-05  1.518e-06     34.400     0.0000   4.923e-05   5.518e-05\n",
      "veh_type_5                -0.0001     0.0001    -0.8631     0.3881     -0.0004      0.0001\n",
      "veh_type_6                -0.0002     0.0003    -0.6376     0.5237     -0.0008      0.0004\n",
      "veh_type_7             -4.895e-05     0.0002    -0.3159     0.7521     -0.0004      0.0003\n",
      "speed_rain              4.048e-07  5.176e-08     7.8200     0.0000   3.033e-07   5.062e-07\n",
      "midnight_dummy             0.0001  1.216e-05     9.5252     0.0000   9.196e-05      0.0001\n",
      "rain_seg_1                 0.0001  5.796e-05     2.0742     0.0381   6.621e-06      0.0002\n",
      "rain_seg_2              8.943e-05  5.346e-05     1.6730     0.0943  -1.534e-05      0.0002\n",
      "rain_seg_3             -3.182e-05  8.491e-06    -3.7472     0.0002  -4.846e-05  -1.518e-05\n",
      "rain_seg_4              -4.65e-05  1.222e-05    -3.8039     0.0001  -7.046e-05  -2.254e-05\n",
      "rain_seg_5             -6.973e-05  3.248e-05    -2.1466     0.0318     -0.0001  -6.063e-06\n",
      "rain_seg_6              9.013e-06  1.695e-05     0.5318     0.5949   -2.42e-05   4.223e-05\n",
      "==========================================================================================\n",
      "\n",
      "F-test for Poolability: 5.1337\n",
      "P-value: 0.0000\n",
      "Distribution: F(79,3926752)\n",
      "\n",
      "Included effects: Entity, Time\n"
     ]
    }
   ],
   "source": [
    "# dropping NAs where we don't have speed_mean (only 8k observations)\n",
    "df = segment_time.dropna(subset=['speed_mean']).reset_index()\n",
    "\n",
    "df = df.set_index(['direction', 'km_from_addis']).sort_index()\n",
    "y = df.accidents\n",
    "\n",
    "X = df[cols]\n",
    "X = sm.add_constant(X)\n",
    "\n",
    "mod = PanelOLS(y, X, entity_effects=True, time_effects=True)\n",
    "res = mod.fit(cov_type='clustered', cluster_entity=True)\n",
    "print(res)"
   ]
  },
  {
   "cell_type": "markdown",
   "metadata": {},
   "source": [
    "## Logistic Regression:"
   ]
  },
  {
   "cell_type": "code",
   "execution_count": 24,
   "metadata": {},
   "outputs": [
    {
     "data": {
      "text/html": [
       "<table class=\"simpletable\">\n",
       "<caption>Logit Regression Results</caption>\n",
       "<tr>\n",
       "  <th>Dep. Variable:</th>       <td>accidents</td>    <th>  No. Observations:  </th>  <td>3926853</td> \n",
       "</tr>\n",
       "<tr>\n",
       "  <th>Model:</th>                 <td>Logit</td>      <th>  Df Residuals:      </th>  <td>3926831</td> \n",
       "</tr>\n",
       "<tr>\n",
       "  <th>Method:</th>                 <td>MLE</td>       <th>  Df Model:          </th>  <td>    21</td>  \n",
       "</tr>\n",
       "<tr>\n",
       "  <th>Date:</th>            <td>Fri, 11 Jun 2021</td> <th>  Pseudo R-squ.:     </th>  <td>0.03331</td> \n",
       "</tr>\n",
       "<tr>\n",
       "  <th>Time:</th>                <td>13:29:18</td>     <th>  Log-Likelihood:    </th> <td> -6267.0</td> \n",
       "</tr>\n",
       "<tr>\n",
       "  <th>converged:</th>             <td>True</td>       <th>  LL-Null:           </th> <td> -6482.9</td> \n",
       "</tr>\n",
       "<tr>\n",
       "  <th>Covariance Type:</th>     <td>nonrobust</td>    <th>  LLR p-value:       </th> <td>2.344e-78</td>\n",
       "</tr>\n",
       "</table>\n",
       "<table class=\"simpletable\">\n",
       "<tr>\n",
       "             <td></td>               <th>coef</th>     <th>std err</th>      <th>z</th>      <th>P>|z|</th>  <th>[0.025</th>    <th>0.975]</th>  \n",
       "</tr>\n",
       "<tr>\n",
       "  <th>const</th>                  <td>  -11.2516</td> <td>    0.329</td> <td>  -34.211</td> <td> 0.000</td> <td>  -11.896</td> <td>  -10.607</td>\n",
       "</tr>\n",
       "<tr>\n",
       "  <th>k_cars</th>                 <td>    1.7288</td> <td>    0.202</td> <td>    8.551</td> <td> 0.000</td> <td>    1.332</td> <td>    2.125</td>\n",
       "</tr>\n",
       "<tr>\n",
       "  <th>weekend</th>                <td>    0.0631</td> <td>    0.079</td> <td>    0.804</td> <td> 0.422</td> <td>   -0.091</td> <td>    0.217</td>\n",
       "</tr>\n",
       "<tr>\n",
       "  <th>holiday</th>                <td>   -0.2556</td> <td>    0.252</td> <td>   -1.013</td> <td> 0.311</td> <td>   -0.750</td> <td>    0.239</td>\n",
       "</tr>\n",
       "<tr>\n",
       "  <th>holiday_plusminus_2day</th> <td>    0.1419</td> <td>    0.113</td> <td>    1.261</td> <td> 0.207</td> <td>   -0.079</td> <td>    0.362</td>\n",
       "</tr>\n",
       "<tr>\n",
       "  <th>speed_p90</th>              <td>    0.0031</td> <td>    0.002</td> <td>    1.395</td> <td> 0.163</td> <td>   -0.001</td> <td>    0.007</td>\n",
       "</tr>\n",
       "<tr>\n",
       "  <th>rush_hour_dummy</th>        <td>    0.8014</td> <td>    0.096</td> <td>    8.351</td> <td> 0.000</td> <td>    0.613</td> <td>    0.989</td>\n",
       "</tr>\n",
       "<tr>\n",
       "  <th>avg_weight_tons</th>        <td>   -0.0135</td> <td>    0.011</td> <td>   -1.188</td> <td> 0.235</td> <td>   -0.036</td> <td>    0.009</td>\n",
       "</tr>\n",
       "<tr>\n",
       "  <th>veh_type_1</th>             <td>    1.9124</td> <td>    0.325</td> <td>    5.888</td> <td> 0.000</td> <td>    1.276</td> <td>    2.549</td>\n",
       "</tr>\n",
       "<tr>\n",
       "  <th>veh_type_3</th>             <td>    1.7719</td> <td>    0.280</td> <td>    6.330</td> <td> 0.000</td> <td>    1.223</td> <td>    2.320</td>\n",
       "</tr>\n",
       "<tr>\n",
       "  <th>veh_type_4</th>             <td>    1.5518</td> <td>    0.409</td> <td>    3.792</td> <td> 0.000</td> <td>    0.750</td> <td>    2.354</td>\n",
       "</tr>\n",
       "<tr>\n",
       "  <th>veh_type_5</th>             <td>    0.8648</td> <td>    2.059</td> <td>    0.420</td> <td> 0.674</td> <td>   -3.170</td> <td>    4.900</td>\n",
       "</tr>\n",
       "<tr>\n",
       "  <th>veh_type_6</th>             <td>    0.9038</td> <td>    2.610</td> <td>    0.346</td> <td> 0.729</td> <td>   -4.211</td> <td>    6.019</td>\n",
       "</tr>\n",
       "<tr>\n",
       "  <th>veh_type_7</th>             <td>    0.8147</td> <td>    0.644</td> <td>    1.264</td> <td> 0.206</td> <td>   -0.448</td> <td>    2.078</td>\n",
       "</tr>\n",
       "<tr>\n",
       "  <th>speed_rain</th>             <td>    0.0025</td> <td>    0.001</td> <td>    2.369</td> <td> 0.018</td> <td>    0.000</td> <td>    0.004</td>\n",
       "</tr>\n",
       "<tr>\n",
       "  <th>midnight_dummy</th>         <td>    0.7710</td> <td>    0.143</td> <td>    5.373</td> <td> 0.000</td> <td>    0.490</td> <td>    1.052</td>\n",
       "</tr>\n",
       "<tr>\n",
       "  <th>rain_seg_1</th>             <td>    0.3731</td> <td>    0.093</td> <td>    4.026</td> <td> 0.000</td> <td>    0.191</td> <td>    0.555</td>\n",
       "</tr>\n",
       "<tr>\n",
       "  <th>rain_seg_2</th>             <td>    0.2375</td> <td>    0.113</td> <td>    2.100</td> <td> 0.036</td> <td>    0.016</td> <td>    0.459</td>\n",
       "</tr>\n",
       "<tr>\n",
       "  <th>rain_seg_3</th>             <td>   -0.3078</td> <td>    0.190</td> <td>   -1.619</td> <td> 0.106</td> <td>   -0.681</td> <td>    0.065</td>\n",
       "</tr>\n",
       "<tr>\n",
       "  <th>rain_seg_4</th>             <td>   -0.7182</td> <td>    0.403</td> <td>   -1.784</td> <td> 0.074</td> <td>   -1.507</td> <td>    0.071</td>\n",
       "</tr>\n",
       "<tr>\n",
       "  <th>rain_seg_5</th>             <td>   -1.1922</td> <td>    0.794</td> <td>   -1.501</td> <td> 0.133</td> <td>   -2.749</td> <td>    0.365</td>\n",
       "</tr>\n",
       "<tr>\n",
       "  <th>rain_seg_6</th>             <td>    0.1830</td> <td>    0.297</td> <td>    0.616</td> <td> 0.538</td> <td>   -0.399</td> <td>    0.765</td>\n",
       "</tr>\n",
       "</table><br/><br/>Possibly complete quasi-separation: A fraction 0.35 of observations can be<br/>perfectly predicted. This might indicate that there is complete<br/>quasi-separation. In this case some parameters will not be identified."
      ],
      "text/plain": [
       "<class 'statsmodels.iolib.summary.Summary'>\n",
       "\"\"\"\n",
       "                           Logit Regression Results                           \n",
       "==============================================================================\n",
       "Dep. Variable:              accidents   No. Observations:              3926853\n",
       "Model:                          Logit   Df Residuals:                  3926831\n",
       "Method:                           MLE   Df Model:                           21\n",
       "Date:                Fri, 11 Jun 2021   Pseudo R-squ.:                 0.03331\n",
       "Time:                        13:29:18   Log-Likelihood:                -6267.0\n",
       "converged:                       True   LL-Null:                       -6482.9\n",
       "Covariance Type:            nonrobust   LLR p-value:                 2.344e-78\n",
       "==========================================================================================\n",
       "                             coef    std err          z      P>|z|      [0.025      0.975]\n",
       "------------------------------------------------------------------------------------------\n",
       "const                    -11.2516      0.329    -34.211      0.000     -11.896     -10.607\n",
       "k_cars                     1.7288      0.202      8.551      0.000       1.332       2.125\n",
       "weekend                    0.0631      0.079      0.804      0.422      -0.091       0.217\n",
       "holiday                   -0.2556      0.252     -1.013      0.311      -0.750       0.239\n",
       "holiday_plusminus_2day     0.1419      0.113      1.261      0.207      -0.079       0.362\n",
       "speed_p90                  0.0031      0.002      1.395      0.163      -0.001       0.007\n",
       "rush_hour_dummy            0.8014      0.096      8.351      0.000       0.613       0.989\n",
       "avg_weight_tons           -0.0135      0.011     -1.188      0.235      -0.036       0.009\n",
       "veh_type_1                 1.9124      0.325      5.888      0.000       1.276       2.549\n",
       "veh_type_3                 1.7719      0.280      6.330      0.000       1.223       2.320\n",
       "veh_type_4                 1.5518      0.409      3.792      0.000       0.750       2.354\n",
       "veh_type_5                 0.8648      2.059      0.420      0.674      -3.170       4.900\n",
       "veh_type_6                 0.9038      2.610      0.346      0.729      -4.211       6.019\n",
       "veh_type_7                 0.8147      0.644      1.264      0.206      -0.448       2.078\n",
       "speed_rain                 0.0025      0.001      2.369      0.018       0.000       0.004\n",
       "midnight_dummy             0.7710      0.143      5.373      0.000       0.490       1.052\n",
       "rain_seg_1                 0.3731      0.093      4.026      0.000       0.191       0.555\n",
       "rain_seg_2                 0.2375      0.113      2.100      0.036       0.016       0.459\n",
       "rain_seg_3                -0.3078      0.190     -1.619      0.106      -0.681       0.065\n",
       "rain_seg_4                -0.7182      0.403     -1.784      0.074      -1.507       0.071\n",
       "rain_seg_5                -1.1922      0.794     -1.501      0.133      -2.749       0.365\n",
       "rain_seg_6                 0.1830      0.297      0.616      0.538      -0.399       0.765\n",
       "==========================================================================================\n",
       "\n",
       "Possibly complete quasi-separation: A fraction 0.35 of observations can be\n",
       "perfectly predicted. This might indicate that there is complete\n",
       "quasi-separation. In this case some parameters will not be identified.\n",
       "\"\"\""
      ]
     },
     "execution_count": 24,
     "metadata": {},
     "output_type": "execute_result"
    }
   ],
   "source": [
    "# dropping NAs where we don't have speed_mean (only 8k observations)\n",
    "df = segment_time.dropna(subset=['speed_mean']).reset_index()\n",
    "y = df.accidents\n",
    "X = df[cols]\n",
    "\n",
    "import statsmodels.api as sm\n",
    "sm_model = sm.Logit(y, sm.add_constant(X)).fit(disp=0)\n",
    "#print(sm_model.pvalues)\n",
    "sm_model.summary()"
   ]
  },
  {
   "cell_type": "markdown",
   "metadata": {},
   "source": [
    "## Random Forest:"
   ]
  },
  {
   "cell_type": "code",
   "execution_count": 25,
   "metadata": {},
   "outputs": [],
   "source": [
    "# dropping NAs where we don't have speed_mean (only 8k observations)\n",
    "df = segment_time.dropna(subset=['speed_mean']).reset_index()\n",
    "\n",
    "y = df.accidents\n",
    "X = df[cols]"
   ]
  },
  {
   "cell_type": "code",
   "execution_count": 26,
   "metadata": {},
   "outputs": [
    {
     "name": "stdout",
     "output_type": "stream",
     "text": [
      "CPU times: user 3min 3s, sys: 6.33 s, total: 3min 10s\n",
      "Wall time: 3min 16s\n"
     ]
    },
    {
     "data": {
      "text/plain": [
       "RandomForestClassifier(max_depth=2, random_state=0)"
      ]
     },
     "execution_count": 26,
     "metadata": {},
     "output_type": "execute_result"
    }
   ],
   "source": [
    "%%time\n",
    "regr = RandomForestClassifier(max_depth=2, random_state=0)\n",
    "regr.fit(X, y)"
   ]
  },
  {
   "cell_type": "code",
   "execution_count": 27,
   "metadata": {},
   "outputs": [
    {
     "data": {
      "image/png": "[encoded data removed]",
      "text/plain": [
       "<Figure size 1080x576 with 1 Axes>"
      ]
     },
     "metadata": {
      "needs_background": "light"
     },
     "output_type": "display_data"
    }
   ],
   "source": [
    "plt.figure(figsize=(15,8))\n",
    "sns.barplot(x=X.columns, y=regr.feature_importances_)\n",
    "plt.xticks(rotation=60)\n",
    "plt.show()"
   ]
  },
  {
   "cell_type": "code",
   "execution_count": null,
   "metadata": {},
   "outputs": [],
   "source": []
  }
 ],
 "metadata": {
  "kernelspec": {
   "display_name": "Python 3",
   "language": "python",
   "name": "python3"
  },
  "language_info": {
   "codemirror_mode": {
    "name": "ipython",
    "version": 3
   },
   "file_extension": ".py",
   "mimetype": "text/x-python",
   "name": "python",
   "nbconvert_exporter": "python",
   "pygments_lexer": "ipython3",
   "version": "3.7.6"
  },
  "toc": {
   "base_numbering": 1,
   "nav_menu": {},
   "number_sections": true,
   "sideBar": true,
   "skip_h1_title": false,
   "title_cell": "Table of Contents",
   "title_sidebar": "Contents",
   "toc_cell": false,
   "toc_position": {},
   "toc_section_display": true,
   "toc_window_display": false
  }
 },
 "nbformat": 4,
 "nbformat_minor": 4
}
