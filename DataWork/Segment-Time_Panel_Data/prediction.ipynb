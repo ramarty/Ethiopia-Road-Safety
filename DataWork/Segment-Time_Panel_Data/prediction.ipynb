{
 "cells": [
  {
   "cell_type": "code",
   "execution_count": 1,
   "metadata": {},
   "outputs": [],
   "source": [
    "import numpy as np\n",
    "import pandas as pd\n",
    "import pyreadr\n",
    "import datetime\n",
    "pd.set_option('display.max_rows', 1000)\n",
    "pd.set_option('display.max_columns', 500)\n",
    "import matplotlib.pyplot as plt\n",
    "import seaborn as sns\n",
    "from linearmodels.panel import PanelOLS\n",
    "import statsmodels.api as sm\n",
    "from sklearn.ensemble import RandomForestRegressor, RandomForestClassifier\n",
    "from sklearn.model_selection import train_test_split, GridSearchCV, GroupShuffleSplit\n",
    "from sklearn.metrics import precision_recall_fscore_support, roc_auc_score\n",
    "from imblearn.over_sampling import RandomOverSampler\n",
    "from imblearn.under_sampling import RandomUnderSampler \n",
    "import xgboost as xgb\n",
    "import lightgbm as lgb\n",
    "from sklearn.linear_model import LinearRegression, LogisticRegression, Ridge, Lasso"
   ]
  },
  {
   "cell_type": "code",
   "execution_count": 2,
   "metadata": {},
   "outputs": [],
   "source": [
    "# define paths\n",
    "data_path = '/Users/simonneumeyer/Dropbox/Ethiopia IE - Road Safety/Data/'\n",
    "crashes_path = 'ETRE - Crashes/'\n",
    "crash_file = 'FinalData/crashes.csv'\n",
    "traffic_path = 'ETRE - Traffic/'\n",
    "traffic_file = 'FinalData/traffic.pq'\n",
    "precipitation_path = 'Precipitation/'\n",
    "precipitation_file = 'FinalData/precipitation.csv'"
   ]
  },
  {
   "cell_type": "code",
   "execution_count": 3,
   "metadata": {},
   "outputs": [],
   "source": [
    "segment_time = pd.read_parquet(data_path + 'Time Segment Data/segment_time_panel.pq', engine='pyarrow')\n",
    "#segment_time = pd.read_parquet(data_path + 'Time Segment Data/segment_time_panel_km_3_hr_1.pq', engine='pyarrow')\n",
    "\n",
    "segment_time[['avg_weight_tons', 'total_weight', 'speed_km_hr', \n",
    "        'veh_type_1', 'veh_type_2', 'veh_type_3', 'veh_type_4', 'veh_type_5', 'veh_type_6', 'veh_type_7', \n",
    "        'speed_rain', 'N_crashes_y', 'N_crashes_to_addis',\n",
    "       'N_crashes_to_adama', 'N_crashes_2015', 'N_crashes_2017',\n",
    "       'N_crashes_2016', 'N_crashes_to_addis_2015',\n",
    "       'N_crashes_to_adama_2017', 'N_crashes_to_addis_2017',\n",
    "       'N_crashes_to_addis_2016', 'N_crashes_to_adama_2016',\n",
    "       'N_crashes_to_adama_2015', 'turnangle_10m', 'turnangle_50m',\n",
    "       'turnangle_100m', 'turnangle_250m', 'turnangle_500m',\n",
    "       'N_crashes_MA_sum_500m', 'N_crashes_to_addis_MA_sum_500m',\n",
    "       'N_crashes_to_adama_MA_sum_500m', 'N_crashes_2015_MA_sum_500m',\n",
    "       'N_crashes_2017_MA_sum_500m', 'N_crashes_2016_MA_sum_500m',\n",
    "       'N_crashes_to_addis_2015_MA_sum_500m',\n",
    "       'N_crashes_to_adama_2017_MA_sum_500m',\n",
    "       'N_crashes_to_addis_2017_MA_sum_500m',\n",
    "       'N_crashes_to_addis_2016_MA_sum_500m',\n",
    "       'N_crashes_to_adama_2016_MA_sum_500m',\n",
    "       'N_crashes_to_adama_2015_MA_sum_500m', 'N_crashes_MA_sum_1000m',\n",
    "       'N_crashes_to_addis_MA_sum_1000m',\n",
    "       'N_crashes_to_adama_MA_sum_1000m', 'N_crashes_2015_MA_sum_1000m',\n",
    "       'N_crashes_2017_MA_sum_1000m', 'N_crashes_2016_MA_sum_1000m',\n",
    "       'N_crashes_to_addis_2015_MA_sum_1000m',\n",
    "       'N_crashes_to_adama_2017_MA_sum_1000m',\n",
    "       'N_crashes_to_addis_2017_MA_sum_1000m',\n",
    "       'N_crashes_to_addis_2016_MA_sum_1000m',\n",
    "       'N_crashes_to_adama_2016_MA_sum_1000m',\n",
    "       'N_crashes_to_adama_2015_MA_sum_1000m',\n",
    "       'turnangle_50m_MA_mean_500m', 'turnangle_100m_MA_mean_500m',\n",
    "       'turnangle_250m_MA_mean_500m', 'turnangle_500m_MA_mean_500m',\n",
    "       'turnangle_10m_MA_mean_1000m', 'turnangle_50m_MA_mean_1000m',\n",
    "       'turnangle_100m_MA_mean_1000m', 'turnangle_250m_MA_mean_1000m',\n",
    "       'turnangle_500m_MA_mean_1000m']] = segment_time[['avg_weight_tons', 'total_weight', 'speed_km_hr', \n",
    "        'veh_type_1', 'veh_type_2', 'veh_type_3', 'veh_type_4', 'veh_type_5', 'veh_type_6', 'veh_type_7', \n",
    "        'speed_rain', 'N_crashes_y', 'N_crashes_to_addis',\n",
    "       'N_crashes_to_adama', 'N_crashes_2015', 'N_crashes_2017',\n",
    "       'N_crashes_2016', 'N_crashes_to_addis_2015',\n",
    "       'N_crashes_to_adama_2017', 'N_crashes_to_addis_2017',\n",
    "       'N_crashes_to_addis_2016', 'N_crashes_to_adama_2016',\n",
    "       'N_crashes_to_adama_2015', 'turnangle_10m', 'turnangle_50m',\n",
    "       'turnangle_100m', 'turnangle_250m', 'turnangle_500m',\n",
    "       'N_crashes_MA_sum_500m', 'N_crashes_to_addis_MA_sum_500m',\n",
    "       'N_crashes_to_adama_MA_sum_500m', 'N_crashes_2015_MA_sum_500m',\n",
    "       'N_crashes_2017_MA_sum_500m', 'N_crashes_2016_MA_sum_500m',\n",
    "       'N_crashes_to_addis_2015_MA_sum_500m',\n",
    "       'N_crashes_to_adama_2017_MA_sum_500m',\n",
    "       'N_crashes_to_addis_2017_MA_sum_500m',\n",
    "       'N_crashes_to_addis_2016_MA_sum_500m',\n",
    "       'N_crashes_to_adama_2016_MA_sum_500m',\n",
    "       'N_crashes_to_adama_2015_MA_sum_500m', 'N_crashes_MA_sum_1000m',\n",
    "       'N_crashes_to_addis_MA_sum_1000m',\n",
    "       'N_crashes_to_adama_MA_sum_1000m', 'N_crashes_2015_MA_sum_1000m',\n",
    "       'N_crashes_2017_MA_sum_1000m', 'N_crashes_2016_MA_sum_1000m',\n",
    "       'N_crashes_to_addis_2015_MA_sum_1000m',\n",
    "       'N_crashes_to_adama_2017_MA_sum_1000m',\n",
    "       'N_crashes_to_addis_2017_MA_sum_1000m',\n",
    "       'N_crashes_to_addis_2016_MA_sum_1000m',\n",
    "       'N_crashes_to_adama_2016_MA_sum_1000m',\n",
    "       'N_crashes_to_adama_2015_MA_sum_1000m',\n",
    "       'turnangle_50m_MA_mean_500m', 'turnangle_100m_MA_mean_500m',\n",
    "       'turnangle_250m_MA_mean_500m', 'turnangle_500m_MA_mean_500m',\n",
    "       'turnangle_10m_MA_mean_1000m', 'turnangle_50m_MA_mean_1000m',\n",
    "       'turnangle_100m_MA_mean_1000m', 'turnangle_250m_MA_mean_1000m',\n",
    "       'turnangle_500m_MA_mean_1000m']].fillna(0)"
   ]
  },
  {
   "cell_type": "code",
   "execution_count": 4,
   "metadata": {},
   "outputs": [],
   "source": [
    "#segment_time.columns.values"
   ]
  },
  {
   "cell_type": "code",
   "execution_count": 5,
   "metadata": {},
   "outputs": [],
   "source": [
    "cols = ['k_cars', 'weekend', \n",
    "        'holiday', 'holiday_plusminus_2day', 'speed_p90', 'rush_hour_dummy', 'avg_weight_tons', \n",
    "        'veh_type_1', 'veh_type_3', 'veh_type_4', 'veh_type_5', 'veh_type_6', 'veh_type_7', \n",
    "        'speed_rain', 'midnight_dummy', \n",
    "        'rain_seg_1', 'rain_seg_2', 'rain_seg_3', 'rain_seg_4', 'rain_seg_5', 'rain_seg_6',\n",
    "        \n",
    "#        'N_crashes_to_addis_MA_sum_1000m', 'N_crashes_to_addis_2015_MA_sum_500m',\n",
    "        'N_crashes_2016_MA_sum_1000m', #'N_crashes_to_addis_2017_MA_sum_1000m', 'N_crashes_to_addis'\n",
    "#       'N_crashes_y', 'N_crashes_to_addis',\n",
    "#       'N_crashes_to_adama', 'N_crashes_2015', 'N_crashes_2017',\n",
    "#       'N_crashes_2016', 'N_crashes_to_addis_2015',\n",
    "#       'N_crashes_to_adama_2017', 'N_crashes_to_addis_2017',\n",
    "#       'N_crashes_to_addis_2016', 'N_crashes_to_adama_2016',\n",
    "#       'N_crashes_to_adama_2015', 'turnangle_10m', 'turnangle_50m',\n",
    "#       'turnangle_100m', 'turnangle_250m', 'turnangle_500m',\n",
    "#       'N_crashes_MA_sum_500m', 'N_crashes_to_addis_MA_sum_500m',\n",
    "#       'N_crashes_to_adama_MA_sum_500m', 'N_crashes_2015_MA_sum_500m',\n",
    "#       'N_crashes_2017_MA_sum_500m', 'N_crashes_2016_MA_sum_500m',\n",
    "#       'N_crashes_to_addis_2015_MA_sum_500m',\n",
    "#       'N_crashes_to_adama_2017_MA_sum_500m',\n",
    "#       'N_crashes_to_addis_2017_MA_sum_500m',\n",
    "#       'N_crashes_to_addis_2016_MA_sum_500m',\n",
    "#       'N_crashes_to_adama_2016_MA_sum_500m',\n",
    "#       'N_crashes_to_adama_2015_MA_sum_500m', 'N_crashes_MA_sum_1000m',\n",
    "#       'N_crashes_to_addis_MA_sum_1000m',\n",
    "#       'N_crashes_to_adama_MA_sum_1000m', 'N_crashes_2015_MA_sum_1000m',\n",
    "#       'N_crashes_2017_MA_sum_1000m', 'N_crashes_2016_MA_sum_1000m',\n",
    "#       'N_crashes_to_addis_2015_MA_sum_1000m',\n",
    "#       'N_crashes_to_adama_2017_MA_sum_1000m',\n",
    "#       'N_crashes_to_addis_2017_MA_sum_1000m',\n",
    "#       'N_crashes_to_addis_2016_MA_sum_1000m',\n",
    "#       'N_crashes_to_adama_2016_MA_sum_1000m',\n",
    "#       'N_crashes_to_adama_2015_MA_sum_1000m',\n",
    "#       'turnangle_50m_MA_mean_500m', 'turnangle_100m_MA_mean_500m',\n",
    "#       'turnangle_250m_MA_mean_500m', 'turnangle_500m_MA_mean_500m',\n",
    "#       'turnangle_10m_MA_mean_1000m', 'turnangle_50m_MA_mean_1000m',\n",
    "#       'turnangle_100m_MA_mean_1000m', 'turnangle_250m_MA_mean_1000m','turnangle_500m_MA_mean_1000m'\n",
    "       ]\n",
    "\n",
    "segment_time = segment_time.dropna(subset=['speed_mean']).reset_index()"
   ]
  },
  {
   "cell_type": "code",
   "execution_count": 6,
   "metadata": {},
   "outputs": [],
   "source": [
    "# time based split: \n",
    "        # train -> 2015-03-01 until 2017-06-30\n",
    "        # test -> 2017-07-01 until 2017-12-31\n",
    "thresh = pd.to_datetime('2017-06-30')\n",
    "\n",
    "train = segment_time[segment_time.date <= thresh]\n",
    "test = segment_time[segment_time.date > thresh]"
   ]
  },
  {
   "cell_type": "code",
   "execution_count": 7,
   "metadata": {},
   "outputs": [],
   "source": [
    "y_train = train.accidents\n",
    "y_test = test.accidents\n",
    "\n",
    "X_train = train[cols]\n",
    "X_test = test[cols]"
   ]
  },
  {
   "cell_type": "markdown",
   "metadata": {},
   "source": [
    "# Feature Scaling:"
   ]
  },
  {
   "cell_type": "code",
   "execution_count": 8,
   "metadata": {},
   "outputs": [],
   "source": [
    "#from sklearn import preprocessing\n",
    "#\n",
    "#scaler = preprocessing.StandardScaler().fit(X_train)\n",
    "#X_scaled = scaler.transform(X_train)\n",
    "#X_test_scaled = scaler.transform(X_test)\n",
    "#\n",
    "#X_train = pd.DataFrame(X_scaled, columns=X_train.columns)\n",
    "#X_test = pd.DataFrame(X_test_scaled, columns=X_test.columns)"
   ]
  },
  {
   "cell_type": "markdown",
   "metadata": {},
   "source": [
    "# Inspect correlations:"
   ]
  },
  {
   "cell_type": "code",
   "execution_count": 9,
   "metadata": {},
   "outputs": [
    {
     "data": {
      "image/png": "[encoded data removed]",
      "text/plain": [
       "<Figure size 432x288 with 2 Axes>"
      ]
     },
     "metadata": {
      "needs_background": "light"
     },
     "output_type": "display_data"
    }
   ],
   "source": [
    "# check for correlation between covariates:\n",
    "\n",
    "X = segment_time[cols]\n",
    "\n",
    "corr = np.corrcoef(X.T)\n",
    "sns.heatmap(corr, xticklabels=X.columns, yticklabels=X.columns)\n",
    "plt.show()"
   ]
  },
  {
   "cell_type": "markdown",
   "metadata": {},
   "source": [
    "# Treat class imbalance:"
   ]
  },
  {
   "cell_type": "markdown",
   "metadata": {},
   "source": [
    "## Undersampling:"
   ]
  },
  {
   "cell_type": "code",
   "execution_count": 10,
   "metadata": {},
   "outputs": [],
   "source": [
    "## To treat class imbalance I randomly delete majority class observations (non-accidents) in the train set:\n",
    "#rus = RandomUnderSampler(random_state=0)\n",
    "#X_train, y_train = rus.fit_resample(X_train, y_train)\n",
    "#\n",
    "##from imblearn.over_sampling import SMOTE\n",
    "##X, y = SMOTE().fit_resample(X, y)\n",
    "#\n",
    "#y_train.value_counts(normalize=True)"
   ]
  },
  {
   "cell_type": "markdown",
   "metadata": {},
   "source": [
    "## Oversampling:"
   ]
  },
  {
   "cell_type": "code",
   "execution_count": 11,
   "metadata": {},
   "outputs": [],
   "source": [
    "# Set an index column that will identify duplicates later:\n",
    "X_train = X_train.reset_index()\n",
    "X_train.rename(columns={'index': 'groups'}, inplace=True)"
   ]
  },
  {
   "cell_type": "code",
   "execution_count": 12,
   "metadata": {},
   "outputs": [],
   "source": [
    "## To treat class imbalance I randomly copy minority class observations (non-accidents) in the train set:\n",
    "ros = RandomOverSampler(random_state=0)\n",
    "X_train, y_train = ros.fit_resample(X_train, y_train)"
   ]
  },
  {
   "cell_type": "code",
   "execution_count": 13,
   "metadata": {},
   "outputs": [],
   "source": [
    "groups = X_train['groups'].copy() # for the group-based split"
   ]
  },
  {
   "cell_type": "code",
   "execution_count": 14,
   "metadata": {},
   "outputs": [],
   "source": [
    "X_train = X_train.drop(columns='groups')"
   ]
  },
  {
   "cell_type": "markdown",
   "metadata": {},
   "source": [
    "# Random Forest:"
   ]
  },
  {
   "cell_type": "code",
   "execution_count": 15,
   "metadata": {
    "scrolled": false
   },
   "outputs": [
    {
     "data": {
      "image/png": "[encoded data removed]",
      "text/plain": [
       "<Figure size 1080x576 with 1 Axes>"
      ]
     },
     "metadata": {
      "needs_background": "light"
     },
     "output_type": "display_data"
    },
    {
     "name": "stdout",
     "output_type": "stream",
     "text": [
      "CPU times: user 25min 37s, sys: 16.6 s, total: 25min 54s\n",
      "Wall time: 7min 28s\n"
     ]
    }
   ],
   "source": [
    "%%time\n",
    "regr = RandomForestClassifier(max_depth=6, min_samples_split=2, n_estimators=90, random_state=0, n_jobs=-1)\n",
    "regr.fit(X_train, y_train)\n",
    "\n",
    "# feature importance:\n",
    "plt.figure(figsize=(15,8))\n",
    "sns.barplot(x=X_train.columns, y=regr.feature_importances_)\n",
    "plt.xticks(rotation=90)\n",
    "plt.show()"
   ]
  },
  {
   "cell_type": "code",
   "execution_count": 16,
   "metadata": {},
   "outputs": [
    {
     "name": "stdout",
     "output_type": "stream",
     "text": [
      "Precision: [1.0, 0.0], \n",
      "Recall: [0.56, 0.75], \n",
      "F1_Score: [0.71, 0.0]\n"
     ]
    }
   ],
   "source": [
    "# prediction:\n",
    "y_pred = regr.predict(X_test)\n",
    "\n",
    "prec, recall, f1_score, support = precision_recall_fscore_support(y_test, y_pred)\n",
    "print(f'Precision: {[round(x,2) for x in prec]}, \\nRecall: {[round(x,2) for x in recall]}, \\nF1_Score: {[round(x,2) for x in f1_score]}')"
   ]
  },
  {
   "cell_type": "markdown",
   "metadata": {},
   "source": [
    "Precision:\n",
    "1. how many of my predicted zeros are actually zeros: Close to 100%, \n",
    "not difficult as most labels are actually 0.\n",
    "2. How many of my predicted ones are actually ones: Close to 0%, \n",
    "not surprising either, as there are almost no accidents.\n",
    "\n",
    "Recall:\n",
    "1. How many of actual zeros did I classify as 0: 30% --> not good!\n",
    "2. How many of actual ones did I classify as 1: 93% --> good!\n",
    "\n",
    "    -> This algorithm seems to have a tendency to overestimate the likelihood of an accident (y=1).\n",
    "\n",
    "F1_score is a problematic measure when we have class imbalance.\n",
    "\n",
    "   \n",
    "   -> roc auc score: https://stats.stackexchange.com/questions/132777/what-does-auc-stand-for-and-what-is-it\n"
   ]
  },
  {
   "cell_type": "code",
   "execution_count": 17,
   "metadata": {},
   "outputs": [
    {
     "data": {
      "text/plain": [
       "0.709"
      ]
     },
     "execution_count": 17,
     "metadata": {},
     "output_type": "execute_result"
    }
   ],
   "source": [
    "y_pred_prob = [x[1] for x in regr.predict_proba(X_test)]\n",
    "round(roc_auc_score(y_test, y_pred_prob), 3)"
   ]
  },
  {
   "cell_type": "markdown",
   "metadata": {},
   "source": [
    "0.709"
   ]
  },
  {
   "cell_type": "markdown",
   "metadata": {},
   "source": [
    "# XGBoost:"
   ]
  },
  {
   "cell_type": "code",
   "execution_count": 20,
   "metadata": {},
   "outputs": [
    {
     "name": "stdout",
     "output_type": "stream",
     "text": [
      "CPU times: user 1min 15s, sys: 2.9 s, total: 1min 18s\n",
      "Wall time: 1min 19s\n"
     ]
    },
    {
     "data": {
      "text/plain": [
       "0.729"
      ]
     },
     "execution_count": 20,
     "metadata": {},
     "output_type": "execute_result"
    }
   ],
   "source": [
    "%%time\n",
    "xgb_model = xgb.XGBClassifier(colsample_bytree=0.7, eval_metric='auc', learning_rate=0.3, \n",
    " max_depth=2, min_child_weight=11, missing=-999, n_estimators=8, \n",
    " objective='binary:logistic', reg_lambda=1.5, seed=1337, silent=1, n_jobs=-1, verbosity=0)\n",
    "\n",
    "# fit\n",
    "xgb_model.fit(X_train, y_train)\n",
    "\n",
    "# predict\n",
    "y_pred_xgb = xgb_model.predict(X_test)\n",
    "y_pred_proba_xgb = [x[1] for x in xgb_model.predict_proba(X_test)]\n",
    "\n",
    "# validation\n",
    "round(roc_auc_score(y_test, y_pred_proba_xgb),3)\n",
    "\n",
    "# precision, recall and f1 score:\n",
    "#prec, recall, f1_score, support = precision_recall_fscore_support(y_test, y_pred_xgb)\n",
    "#print(f'Precision: {[round(x,2) for x in prec]}, \\nRecall: {[round(x,2) for x in recall]}, \\nF1_Score: {[round(x,2) for x in f1_score]}')"
   ]
  },
  {
   "cell_type": "code",
   "execution_count": 19,
   "metadata": {},
   "outputs": [
    {
     "data": {
      "image/png": "[encoded data removed]",
      "text/plain": [
       "<Figure size 432x288 with 1 Axes>"
      ]
     },
     "metadata": {
      "needs_background": "light"
     },
     "output_type": "display_data"
    }
   ],
   "source": [
    "xgb.plot_importance(xgb_model)\n",
    "plt.show()\n",
    "\n",
    "#xgb.plot_tree(xgb_model)\n",
    "#plt.show()"
   ]
  },
  {
   "cell_type": "markdown",
   "metadata": {},
   "source": [
    "Without scaling: 0.729"
   ]
  },
  {
   "cell_type": "markdown",
   "metadata": {},
   "source": [
    "# Grid Search:"
   ]
  },
  {
   "cell_type": "markdown",
   "metadata": {},
   "source": [
    "## with Random Forest"
   ]
  },
  {
   "cell_type": "code",
   "execution_count": 60,
   "metadata": {},
   "outputs": [],
   "source": [
    "param_grid = {'max_depth': [2, 4, 6, 30, 50, 100],\n",
    "              'min_samples_split': [2, 4, 5, 7],\n",
    "             'n_estimators': [90, 100, 110]}\n",
    "rf_model = RandomForestClassifier(random_state=0)\n",
    "\n",
    "grid_search_rf_model = GridSearchCV(rf_model, param_grid, n_jobs=-1, \n",
    "                   cv=GroupShuffleSplit(n_splits=1, train_size=.8, random_state=42).split(X_train, y_train, groups),\n",
    "                   scoring='roc_auc',\n",
    "                   verbose=20,\n",
    "                   refit=True)"
   ]
  },
  {
   "cell_type": "code",
   "execution_count": 61,
   "metadata": {
    "scrolled": true
   },
   "outputs": [
    {
     "name": "stdout",
     "output_type": "stream",
     "text": [
      "Fitting 1 folds for each of 72 candidates, totalling 72 fits\n"
     ]
    },
    {
     "name": "stderr",
     "output_type": "stream",
     "text": [
      "[Parallel(n_jobs=-1)]: Using backend LokyBackend with 4 concurrent workers.\n",
      "[Parallel(n_jobs=-1)]: Done   1 tasks      | elapsed: 10.0min\n",
      "[Parallel(n_jobs=-1)]: Done   2 tasks      | elapsed: 10.1min\n",
      "[Parallel(n_jobs=-1)]: Done   3 tasks      | elapsed: 11.6min\n",
      "[Parallel(n_jobs=-1)]: Done   4 tasks      | elapsed: 13.1min\n",
      "[Parallel(n_jobs=-1)]: Done   5 tasks      | elapsed: 23.5min\n",
      "[Parallel(n_jobs=-1)]: Done   6 tasks      | elapsed: 23.5min\n",
      "[Parallel(n_jobs=-1)]: Done   7 tasks      | elapsed: 24.9min\n",
      "[Parallel(n_jobs=-1)]: Done   8 tasks      | elapsed: 25.9min\n",
      "[Parallel(n_jobs=-1)]: Done   9 tasks      | elapsed: 33.4min\n",
      "[Parallel(n_jobs=-1)]: Done  10 tasks      | elapsed: 35.5min\n",
      "[Parallel(n_jobs=-1)]: Done  11 tasks      | elapsed: 35.5min\n",
      "[Parallel(n_jobs=-1)]: Done  12 tasks      | elapsed: 37.5min\n",
      "[Parallel(n_jobs=-1)]: Done  13 tasks      | elapsed: 50.4min\n",
      "[Parallel(n_jobs=-1)]: Done  14 tasks      | elapsed: 54.3min\n",
      "[Parallel(n_jobs=-1)]: Done  15 tasks      | elapsed: 54.4min\n",
      "[Parallel(n_jobs=-1)]: Done  16 tasks      | elapsed: 56.3min\n",
      "[Parallel(n_jobs=-1)]: Done  17 tasks      | elapsed: 69.2min\n",
      "[Parallel(n_jobs=-1)]: Done  18 tasks      | elapsed: 71.3min\n",
      "[Parallel(n_jobs=-1)]: Done  19 tasks      | elapsed: 75.1min\n",
      "[Parallel(n_jobs=-1)]: Done  20 tasks      | elapsed: 75.2min\n",
      "[Parallel(n_jobs=-1)]: Done  21 tasks      | elapsed: 88.0min\n",
      "[Parallel(n_jobs=-1)]: Done  22 tasks      | elapsed: 89.7min\n",
      "[Parallel(n_jobs=-1)]: Done  23 tasks      | elapsed: 93.7min\n",
      "[Parallel(n_jobs=-1)]: Done  24 tasks      | elapsed: 95.8min\n",
      "[Parallel(n_jobs=-1)]: Done  25 tasks      | elapsed: 112.1min\n",
      "[Parallel(n_jobs=-1)]: Done  26 tasks      | elapsed: 116.4min\n",
      "[Parallel(n_jobs=-1)]: Done  27 tasks      | elapsed: 119.7min\n",
      "[Parallel(n_jobs=-1)]: Done  28 tasks      | elapsed: 123.2min\n",
      "[Parallel(n_jobs=-1)]: Done  29 tasks      | elapsed: 139.1min\n",
      "[Parallel(n_jobs=-1)]: Done  30 tasks      | elapsed: 143.9min\n",
      "[Parallel(n_jobs=-1)]: Done  31 tasks      | elapsed: 146.0min\n",
      "[Parallel(n_jobs=-1)]: Done  32 tasks      | elapsed: 150.0min\n",
      "[Parallel(n_jobs=-1)]: Done  33 tasks      | elapsed: 167.8min\n",
      "[Parallel(n_jobs=-1)]: Done  34 tasks      | elapsed: 168.6min\n",
      "[Parallel(n_jobs=-1)]: Done  35 tasks      | elapsed: 172.8min\n",
      "[Parallel(n_jobs=-1)]: Done  36 tasks      | elapsed: 179.4min\n",
      "[Parallel(n_jobs=-1)]: Done  37 tasks      | elapsed: 238.0min\n",
      "[Parallel(n_jobs=-1)]: Done  38 tasks      | elapsed: 246.3min\n",
      "[Parallel(n_jobs=-1)]: Done  39 tasks      | elapsed: 249.1min\n",
      "[Parallel(n_jobs=-1)]: Done  40 tasks      | elapsed: 258.4min\n",
      "[Parallel(n_jobs=-1)]: Done  41 tasks      | elapsed: 316.2min\n",
      "[Parallel(n_jobs=-1)]: Done  42 tasks      | elapsed: 319.6min\n",
      "[Parallel(n_jobs=-1)]: Done  43 tasks      | elapsed: 332.1min\n",
      "[Parallel(n_jobs=-1)]: Done  44 tasks      | elapsed: 336.5min\n",
      "[Parallel(n_jobs=-1)]: Done  45 tasks      | elapsed: 389.7min\n",
      "[Parallel(n_jobs=-1)]: Done  46 tasks      | elapsed: 402.0min\n",
      "[Parallel(n_jobs=-1)]: Done  47 tasks      | elapsed: 410.3min\n",
      "[Parallel(n_jobs=-1)]: Done  48 tasks      | elapsed: 422.3min\n",
      "[Parallel(n_jobs=-1)]: Done  49 tasks      | elapsed: 465.9min\n",
      "[Parallel(n_jobs=-1)]: Done  50 tasks      | elapsed: 487.2min\n",
      "[Parallel(n_jobs=-1)]: Done  51 tasks      | elapsed: 499.6min\n",
      "[Parallel(n_jobs=-1)]: Done  52 tasks      | elapsed: 504.2min\n",
      "[Parallel(n_jobs=-1)]: Done  53 tasks      | elapsed: 552.3min\n",
      "[Parallel(n_jobs=-1)]: Done  54 tasks      | elapsed: 577.9min\n",
      "[Parallel(n_jobs=-1)]: Done  55 tasks      | elapsed: 582.1min\n",
      "[Parallel(n_jobs=-1)]: Done  56 tasks      | elapsed: 591.1min\n",
      "[Parallel(n_jobs=-1)]: Done  57 tasks      | elapsed: 647.4min\n",
      "[Parallel(n_jobs=-1)]: Done  58 tasks      | elapsed: 655.7min\n",
      "[Parallel(n_jobs=-1)]: Done  59 tasks      | elapsed: 668.6min\n",
      "[Parallel(n_jobs=-1)]: Done  60 tasks      | elapsed: 688.3min\n",
      "[Parallel(n_jobs=-1)]: Done  61 tasks      | elapsed: 729.2min\n",
      "[Parallel(n_jobs=-1)]: Done  62 tasks      | elapsed: 747.0min\n",
      "[Parallel(n_jobs=-1)]: Done  63 tasks      | elapsed: 768.3min\n",
      "[Parallel(n_jobs=-1)]: Done  64 tasks      | elapsed: 768.9min\n",
      "[Parallel(n_jobs=-1)]: Done  65 tasks      | elapsed: 818.4min\n",
      "[Parallel(n_jobs=-1)]: Done  69 out of  72 | elapsed: 914.7min remaining: 39.8min\n",
      "[Parallel(n_jobs=-1)]: Done  72 out of  72 | elapsed: 941.3min finished\n"
     ]
    },
    {
     "name": "stdout",
     "output_type": "stream",
     "text": [
      "CPU times: user 1h 2min 37s, sys: 40.6 s, total: 1h 3min 17s\n",
      "Wall time: 16h 46min 40s\n"
     ]
    },
    {
     "data": {
      "text/plain": [
       "GridSearchCV(cv=<generator object BaseShuffleSplit.split at 0x1c7ab0ef50>,\n",
       "             estimator=RandomForestClassifier(random_state=0), n_jobs=-1,\n",
       "             param_grid={'max_depth': [2, 4, 6, 30, 50, 100],\n",
       "                         'min_samples_split': [2, 4, 5, 7],\n",
       "                         'n_estimators': [90, 100, 110]},\n",
       "             scoring='roc_auc', verbose=20)"
      ]
     },
     "execution_count": 61,
     "metadata": {},
     "output_type": "execute_result"
    }
   ],
   "source": [
    "%%time\n",
    "grid_search_rf_model.fit(X_train, y_train)"
   ]
  },
  {
   "cell_type": "code",
   "execution_count": 62,
   "metadata": {},
   "outputs": [
    {
     "data": {
      "text/plain": [
       "0.5022531789415936"
      ]
     },
     "execution_count": 62,
     "metadata": {},
     "output_type": "execute_result"
    }
   ],
   "source": [
    "y_pred_prob_gs = [x[1] for x in grid_search_rf_model.predict_proba(X_test)]\n",
    "roc_auc_score(y_test, y_pred_prob_gs)"
   ]
  },
  {
   "cell_type": "markdown",
   "metadata": {},
   "source": [
    "0.7134958011544497"
   ]
  },
  {
   "cell_type": "code",
   "execution_count": 63,
   "metadata": {},
   "outputs": [
    {
     "data": {
      "text/plain": [
       "{'max_depth': 100, 'min_samples_split': 2, 'n_estimators': 90}"
      ]
     },
     "execution_count": 63,
     "metadata": {},
     "output_type": "execute_result"
    }
   ],
   "source": [
    "grid_search_rf_model.best_params_"
   ]
  },
  {
   "cell_type": "markdown",
   "metadata": {},
   "source": [
    "{'max_depth': 6, 'min_samples_split': 7, 'n_estimators': 90}\n"
   ]
  },
  {
   "cell_type": "code",
   "execution_count": 51,
   "metadata": {},
   "outputs": [],
   "source": [
    "#grid_search_rf_model.cv_results_"
   ]
  },
  {
   "cell_type": "markdown",
   "metadata": {},
   "source": [
    "## With XGboost"
   ]
  },
  {
   "cell_type": "code",
   "execution_count": 15,
   "metadata": {
    "scrolled": true
   },
   "outputs": [
    {
     "name": "stdout",
     "output_type": "stream",
     "text": [
      "Fitting 1 folds for each of 120 candidates, totalling 120 fits\n"
     ]
    },
    {
     "name": "stderr",
     "output_type": "stream",
     "text": [
      "[Parallel(n_jobs=-1)]: Using backend LokyBackend with 4 concurrent workers.\n",
      "[Parallel(n_jobs=-1)]: Done   1 tasks      | elapsed:  4.1min\n",
      "[Parallel(n_jobs=-1)]: Done   2 tasks      | elapsed:  6.1min\n",
      "[Parallel(n_jobs=-1)]: Done   3 tasks      | elapsed:  7.0min\n",
      "[Parallel(n_jobs=-1)]: Done   4 tasks      | elapsed:  7.1min\n",
      "[Parallel(n_jobs=-1)]: Done   5 tasks      | elapsed:  7.8min\n",
      "[Parallel(n_jobs=-1)]: Done   6 tasks      | elapsed: 10.6min\n",
      "[Parallel(n_jobs=-1)]: Done   7 tasks      | elapsed: 11.6min\n",
      "[Parallel(n_jobs=-1)]: Done   8 tasks      | elapsed: 12.9min\n",
      "[Parallel(n_jobs=-1)]: Done   9 tasks      | elapsed: 14.8min\n",
      "[Parallel(n_jobs=-1)]: Done  10 tasks      | elapsed: 15.5min\n",
      "[Parallel(n_jobs=-1)]: Done  11 tasks      | elapsed: 17.1min\n",
      "[Parallel(n_jobs=-1)]: Done  12 tasks      | elapsed: 18.3min\n",
      "[Parallel(n_jobs=-1)]: Done  13 tasks      | elapsed: 20.3min\n",
      "[Parallel(n_jobs=-1)]: Done  14 tasks      | elapsed: 20.7min\n",
      "[Parallel(n_jobs=-1)]: Done  15 tasks      | elapsed: 23.5min\n",
      "[Parallel(n_jobs=-1)]: Done  16 tasks      | elapsed: 24.2min\n",
      "[Parallel(n_jobs=-1)]: Done  17 tasks      | elapsed: 26.9min\n",
      "[Parallel(n_jobs=-1)]: Done  18 tasks      | elapsed: 27.5min\n",
      "[Parallel(n_jobs=-1)]: Done  19 tasks      | elapsed: 28.9min\n",
      "[Parallel(n_jobs=-1)]: Done  20 tasks      | elapsed: 32.1min\n",
      "[Parallel(n_jobs=-1)]: Done  21 tasks      | elapsed: 32.3min\n",
      "[Parallel(n_jobs=-1)]: Done  22 tasks      | elapsed: 34.0min\n",
      "[Parallel(n_jobs=-1)]: Done  23 tasks      | elapsed: 35.0min\n",
      "[Parallel(n_jobs=-1)]: Done  24 tasks      | elapsed: 35.3min\n",
      "[Parallel(n_jobs=-1)]: Done  25 tasks      | elapsed: 37.3min\n",
      "[Parallel(n_jobs=-1)]: Done  26 tasks      | elapsed: 39.0min\n",
      "[Parallel(n_jobs=-1)]: Done  27 tasks      | elapsed: 39.5min\n",
      "[Parallel(n_jobs=-1)]: Done  28 tasks      | elapsed: 40.0min\n",
      "[Parallel(n_jobs=-1)]: Done  29 tasks      | elapsed: 40.3min\n",
      "[Parallel(n_jobs=-1)]: Done  30 tasks      | elapsed: 43.0min\n",
      "[Parallel(n_jobs=-1)]: Done  31 tasks      | elapsed: 43.3min\n",
      "[Parallel(n_jobs=-1)]: Done  32 tasks      | elapsed: 45.1min\n",
      "[Parallel(n_jobs=-1)]: Done  33 tasks      | elapsed: 46.6min\n",
      "[Parallel(n_jobs=-1)]: Done  34 tasks      | elapsed: 47.9min\n",
      "[Parallel(n_jobs=-1)]: Done  35 tasks      | elapsed: 49.0min\n",
      "[Parallel(n_jobs=-1)]: Done  36 tasks      | elapsed: 49.8min\n",
      "[Parallel(n_jobs=-1)]: Done  37 tasks      | elapsed: 52.4min\n",
      "[Parallel(n_jobs=-1)]: Done  38 tasks      | elapsed: 53.2min\n",
      "[Parallel(n_jobs=-1)]: Done  39 tasks      | elapsed: 55.1min\n",
      "[Parallel(n_jobs=-1)]: Done  40 tasks      | elapsed: 55.5min\n",
      "[Parallel(n_jobs=-1)]: Done  41 tasks      | elapsed: 57.8min\n",
      "[Parallel(n_jobs=-1)]: Done  42 tasks      | elapsed: 59.3min\n",
      "[Parallel(n_jobs=-1)]: Done  43 tasks      | elapsed: 59.8min\n",
      "[Parallel(n_jobs=-1)]: Done  44 tasks      | elapsed: 63.2min\n",
      "[Parallel(n_jobs=-1)]: Done  45 tasks      | elapsed: 63.6min\n",
      "[Parallel(n_jobs=-1)]: Done  46 tasks      | elapsed: 65.2min\n",
      "[Parallel(n_jobs=-1)]: Done  47 tasks      | elapsed: 65.9min\n",
      "[Parallel(n_jobs=-1)]: Done  48 tasks      | elapsed: 66.0min\n",
      "[Parallel(n_jobs=-1)]: Done  49 tasks      | elapsed: 68.2min\n",
      "[Parallel(n_jobs=-1)]: Done  50 tasks      | elapsed: 70.0min\n",
      "[Parallel(n_jobs=-1)]: Done  51 tasks      | elapsed: 70.3min\n",
      "[Parallel(n_jobs=-1)]: Done  52 tasks      | elapsed: 70.6min\n",
      "[Parallel(n_jobs=-1)]: Done  53 tasks      | elapsed: 71.0min\n",
      "[Parallel(n_jobs=-1)]: Done  54 tasks      | elapsed: 73.2min\n",
      "[Parallel(n_jobs=-1)]: Done  55 tasks      | elapsed: 74.8min\n",
      "[Parallel(n_jobs=-1)]: Done  56 tasks      | elapsed: 76.0min\n",
      "[Parallel(n_jobs=-1)]: Done  57 tasks      | elapsed: 77.6min\n",
      "[Parallel(n_jobs=-1)]: Done  58 tasks      | elapsed: 78.0min\n",
      "[Parallel(n_jobs=-1)]: Done  59 tasks      | elapsed: 80.0min\n",
      "[Parallel(n_jobs=-1)]: Done  60 tasks      | elapsed: 80.9min\n",
      "[Parallel(n_jobs=-1)]: Done  61 tasks      | elapsed: 83.2min\n",
      "[Parallel(n_jobs=-1)]: Done  62 tasks      | elapsed: 83.7min\n",
      "[Parallel(n_jobs=-1)]: Done  63 tasks      | elapsed: 86.2min\n",
      "[Parallel(n_jobs=-1)]: Done  64 tasks      | elapsed: 86.9min\n",
      "[Parallel(n_jobs=-1)]: Done  65 tasks      | elapsed: 89.2min\n",
      "[Parallel(n_jobs=-1)]: Done  66 tasks      | elapsed: 90.0min\n",
      "[Parallel(n_jobs=-1)]: Done  67 tasks      | elapsed: 91.4min\n",
      "[Parallel(n_jobs=-1)]: Done  68 tasks      | elapsed: 94.2min\n",
      "[Parallel(n_jobs=-1)]: Done  69 tasks      | elapsed: 94.7min\n",
      "[Parallel(n_jobs=-1)]: Done  70 tasks      | elapsed: 96.3min\n",
      "[Parallel(n_jobs=-1)]: Done  71 tasks      | elapsed: 97.3min\n",
      "[Parallel(n_jobs=-1)]: Done  72 tasks      | elapsed: 97.5min\n",
      "[Parallel(n_jobs=-1)]: Done  73 tasks      | elapsed: 99.6min\n",
      "[Parallel(n_jobs=-1)]: Done  74 tasks      | elapsed: 101.4min\n",
      "[Parallel(n_jobs=-1)]: Done  75 tasks      | elapsed: 101.7min\n",
      "[Parallel(n_jobs=-1)]: Done  76 tasks      | elapsed: 101.8min\n",
      "[Parallel(n_jobs=-1)]: Done  77 tasks      | elapsed: 102.3min\n",
      "[Parallel(n_jobs=-1)]: Done  78 tasks      | elapsed: 104.5min\n",
      "[Parallel(n_jobs=-1)]: Done  79 tasks      | elapsed: 106.0min\n",
      "[Parallel(n_jobs=-1)]: Done  80 tasks      | elapsed: 107.1min\n",
      "[Parallel(n_jobs=-1)]: Done  81 tasks      | elapsed: 109.0min\n",
      "[Parallel(n_jobs=-1)]: Done  82 tasks      | elapsed: 109.2min\n",
      "[Parallel(n_jobs=-1)]: Done  83 tasks      | elapsed: 111.6min\n",
      "[Parallel(n_jobs=-1)]: Done  84 tasks      | elapsed: 111.6min\n",
      "[Parallel(n_jobs=-1)]: Done  85 tasks      | elapsed: 114.6min\n",
      "[Parallel(n_jobs=-1)]: Done  86 tasks      | elapsed: 114.8min\n",
      "[Parallel(n_jobs=-1)]: Done  87 tasks      | elapsed: 117.4min\n",
      "[Parallel(n_jobs=-1)]: Done  88 tasks      | elapsed: 118.4min\n",
      "[Parallel(n_jobs=-1)]: Done  89 tasks      | elapsed: 120.0min\n",
      "[Parallel(n_jobs=-1)]: Done  90 tasks      | elapsed: 121.6min\n",
      "[Parallel(n_jobs=-1)]: Done  91 tasks      | elapsed: 122.2min\n",
      "[Parallel(n_jobs=-1)]: Done  92 tasks      | elapsed: 125.9min\n",
      "[Parallel(n_jobs=-1)]: Done  93 tasks      | elapsed: 126.0min\n",
      "[Parallel(n_jobs=-1)]: Done  94 tasks      | elapsed: 127.7min\n",
      "[Parallel(n_jobs=-1)]: Done  95 tasks      | elapsed: 127.9min\n",
      "[Parallel(n_jobs=-1)]: Done  96 tasks      | elapsed: 128.6min\n",
      "[Parallel(n_jobs=-1)]: Done  97 tasks      | elapsed: 130.9min\n",
      "[Parallel(n_jobs=-1)]: Done  98 tasks      | elapsed: 131.8min\n",
      "[Parallel(n_jobs=-1)]: Done  99 tasks      | elapsed: 133.0min\n",
      "[Parallel(n_jobs=-1)]: Done 100 tasks      | elapsed: 133.2min\n",
      "[Parallel(n_jobs=-1)]: Done 101 tasks      | elapsed: 134.0min\n",
      "[Parallel(n_jobs=-1)]: Done 102 tasks      | elapsed: 136.2min\n",
      "[Parallel(n_jobs=-1)]: Done 103 tasks      | elapsed: 136.3min\n",
      "[Parallel(n_jobs=-1)]: Done 104 tasks      | elapsed: 138.9min\n",
      "[Parallel(n_jobs=-1)]: Done 105 tasks      | elapsed: 139.5min\n",
      "[Parallel(n_jobs=-1)]: Done 106 tasks      | elapsed: 141.4min\n",
      "[Parallel(n_jobs=-1)]: Done 107 tasks      | elapsed: 141.5min\n",
      "[Parallel(n_jobs=-1)]: Done 108 tasks      | elapsed: 143.0min\n",
      "[Parallel(n_jobs=-1)]: Done 109 tasks      | elapsed: 146.1min\n",
      "[Parallel(n_jobs=-1)]: Done 110 tasks      | elapsed: 146.7min\n",
      "[Parallel(n_jobs=-1)]: Done 111 tasks      | elapsed: 148.2min\n",
      "[Parallel(n_jobs=-1)]: Done 112 tasks      | elapsed: 148.6min\n",
      "[Parallel(n_jobs=-1)]: Done 113 tasks      | elapsed: 151.3min\n",
      "[Parallel(n_jobs=-1)]: Done 120 out of 120 | elapsed: 160.3min remaining:    0.0s\n",
      "[Parallel(n_jobs=-1)]: Done 120 out of 120 | elapsed: 160.3min finished\n"
     ]
    },
    {
     "name": "stdout",
     "output_type": "stream",
     "text": [
      "[07:53:30] WARNING: /Users/travis/build/dmlc/xgboost/src/learner.cc:516: \n",
      "Parameters: { silent } might not be used.\n",
      "\n",
      "  This may not be accurate due to some parameters are only used in language bindings but\n",
      "  passed down to XGBoost core.  Or some parameters are not used but slip through this\n",
      "  verification. Please open an issue if you find above cases.\n",
      "\n",
      "\n",
      "[07:53:30] WARNING: /Users/travis/build/dmlc/xgboost/src/gbm/gbtree.cc:139: Tree method is automatically selected to be 'approx' for faster speed. To use old behavior (exact greedy algorithm on single machine), set tree_method to 'exact'.\n",
      "CPU times: user 2min 14s, sys: 11.9 s, total: 2min 26s\n",
      "Wall time: 2h 41min 11s\n"
     ]
    },
    {
     "data": {
      "text/plain": [
       "GridSearchCV(cv=<generator object BaseShuffleSplit.split at 0x1a2a391f50>,\n",
       "             estimator=XGBClassifier(base_score=None, booster=None,\n",
       "                                     colsample_bylevel=None,\n",
       "                                     colsample_bynode=None,\n",
       "                                     colsample_bytree=None, gamma=None,\n",
       "                                     gpu_id=None, importance_type='gain',\n",
       "                                     interaction_constraints=None,\n",
       "                                     learning_rate=None, max_delta_step=None,\n",
       "                                     max_depth=None, min_child_weight=None,\n",
       "                                     missing=n...\n",
       "                                     tree_method=None, validate_parameters=None,\n",
       "                                     verbosity=None),\n",
       "             n_jobs=-1,\n",
       "             param_grid={'colsample_bytree': [0.7], 'eval_metric': ['auc'],\n",
       "                         'learning_rate': [0.001, 0.01, 0.1, 0.5, 0.8],\n",
       "                         'max_depth': [2, 5, 6, 7, 10, None],\n",
       "                         'min_child_weight': [11], 'missing': [-999],\n",
       "                         'n_estimators': [2, 6, 8, 10],\n",
       "                         'objective': ['binary:logistic'], 'reg_lambda': [1.5],\n",
       "                         'seed': [1337], 'silent': [1]},\n",
       "             scoring='roc_auc', verbose=20)"
      ]
     },
     "execution_count": 15,
     "metadata": {},
     "output_type": "execute_result"
    }
   ],
   "source": [
    "%%time\n",
    "\n",
    "xgb_model = xgb.XGBClassifier()\n",
    "lgbm_model = lgb.LGBMClassifier()\n",
    "\n",
    "# from https://www.kaggle.com/phunter/xgboost-with-gridsearchcv brute force scan for all parameters, here \n",
    "#are the tricks usually max_depth is 6,7,8 learning rate is around 0.05, but small changes may make big diff\n",
    "#tuning min_child_weight subsample colsample_bytree can have much fun of fighting against overfit \n",
    "#n_estimators is how many round of boosting finally, ensemble xgboost with multiple seeds may reduce variance\n",
    "\n",
    "parameters = {'learning_rate': [0.001, 0.01, 0.1, 0.5, 0.8], # so called `eta` value\n",
    "              'objective':['binary:logistic'], # objective for internal optimization technique\n",
    "              'eval_metric':['auc'], \n",
    "              #'num_leaves': [6, 7, 8, 10, 25, 31, 35, 40, 50, 100, 200],\n",
    "              'max_depth': [2, 5, 6, 7, 10, None],\n",
    "              'min_child_weight': [11],\n",
    "              'silent': [1],\n",
    "              #'subsample': [0.8],\n",
    "              'colsample_bytree': [0.7],\n",
    "              'n_estimators': [2, 6, 8, 10], # number of trees \n",
    "              'missing':[-999],\n",
    "              'reg_lambda':[1.5],\n",
    "              'seed': [1337]}\n",
    "\n",
    "\n",
    "clf = GridSearchCV(xgb_model, parameters, n_jobs=-1, \n",
    "                   #cv=10,\n",
    "                   cv=GroupShuffleSplit(n_splits=1, train_size=.8, random_state=42).split(X_train, y_train, groups),\n",
    "                   scoring='roc_auc',\n",
    "                   verbose=20, refit=True)\n",
    "\n",
    "clf.fit(X_train, y_train)"
   ]
  },
  {
   "cell_type": "code",
   "execution_count": 16,
   "metadata": {},
   "outputs": [
    {
     "name": "stdout",
     "output_type": "stream",
     "text": [
      "0.6909041818332131\n"
     ]
    },
    {
     "data": {
      "text/plain": [
       "{'colsample_bytree': 0.7,\n",
       " 'eval_metric': 'auc',\n",
       " 'learning_rate': 0.8,\n",
       " 'max_depth': 2,\n",
       " 'min_child_weight': 11,\n",
       " 'missing': -999,\n",
       " 'n_estimators': 8,\n",
       " 'objective': 'binary:logistic',\n",
       " 'reg_lambda': 1.5,\n",
       " 'seed': 1337,\n",
       " 'silent': 1}"
      ]
     },
     "execution_count": 16,
     "metadata": {},
     "output_type": "execute_result"
    }
   ],
   "source": [
    "y_pred_prob_gs_xgb = [x[1] for x in clf.predict_proba(X_test)]\n",
    "print(roc_auc_score(y_test, y_pred_prob_gs_xgb))\n",
    "clf.best_params_\n",
    "#clf.cv_results_"
   ]
  },
  {
   "cell_type": "markdown",
   "metadata": {},
   "source": [
    "0.7186644565332025:\n",
    "\n",
    "{'colsample_bytree': 0.7,\n",
    " 'eval_metric': 'auc',\n",
    " 'learning_rate': 0.3,\n",
    " 'max_depth': 2,\n",
    " 'min_child_weight': 11,\n",
    " 'missing': -999,\n",
    " 'n_estimators': 8,\n",
    " 'objective': 'binary:logistic',\n",
    " 'reg_lambda': 1.5,\n",
    " 'seed': 1337,\n",
    " 'silent': 1}"
   ]
  },
  {
   "cell_type": "markdown",
   "metadata": {},
   "source": [
    "## LightGBM:"
   ]
  },
  {
   "cell_type": "code",
   "execution_count": 22,
   "metadata": {},
   "outputs": [
    {
     "name": "stdout",
     "output_type": "stream",
     "text": [
      "CPU times: user 25.2 s, sys: 3.04 s, total: 28.2 s\n",
      "Wall time: 14.4 s\n"
     ]
    },
    {
     "data": {
      "text/plain": [
       "LGBMClassifier(colsample_bytree=0.7, eval_metric='auc', learning_rate=0.8,\n",
       "               max_depth=2, min_child_weight=11, missing=-999, n_estimators=8,\n",
       "               objective='binary', reg_lambda=1.5, seed=1337, silent=1)"
      ]
     },
     "execution_count": 22,
     "metadata": {},
     "output_type": "execute_result"
    }
   ],
   "source": [
    "%%time\n",
    "\n",
    "lgbm_model = lgb.LGBMClassifier(colsample_bytree=0.7,\n",
    "                                eval_metric='auc',\n",
    "                                learning_rate=0.8,\n",
    "                                max_depth=2,\n",
    "                                min_child_weight=11,\n",
    "                                missing=-999,\n",
    "                                n_estimators=8,\n",
    "                                objective='binary',\n",
    "                                reg_lambda=1.5,\n",
    "                                seed=1337,\n",
    "                                silent=1\n",
    "                               )\n",
    "\n",
    "# from https://www.kaggle.com/phunter/xgboost-with-gridsearchcv brute force scan for all parameters, here \n",
    "#are the tricks usually max_depth is 6,7,8 learning rate is around 0.05, but small changes may make big diff\n",
    "#tuning min_child_weight subsample colsample_bytree can have much fun of fighting against overfit \n",
    "#n_estimators is how many round of boosting finally, ensemble xgboost with multiple seeds may reduce variance\n",
    "\n",
    "parameters = {'learning_rate': [0.005], # so called `eta` value\n",
    "              'objective':['binary'], # checked for alternative but this is the best one\n",
    "              'eval_metric':['auc'], # checked for alternative but this is the best one\n",
    "              'num_leaves': [6, 7, 8, 10, 25, 31, 35, 40, 50, 100],\n",
    "              'max_depth': [2, 4, 5, 6, 7, 10, 50, 100],\n",
    "              'min_child_weight': [11],\n",
    "              'silent': [1],\n",
    "              #'subsample': [0.8],\n",
    "              'colsample_bytree': [0.7],\n",
    "              'n_estimators': [2, 6, 8, 10, 15, 30, 50, 60, 100, 150, 300], # number of trees \n",
    "              'missing':[-999],\n",
    "              'reg_lambda':[1.5],\n",
    "              'seed': [1337]}\n",
    "\n",
    "\n",
    "lgbm_gs = GridSearchCV(lgbm_model, parameters, n_jobs=-1, \n",
    "                   cv=10,\n",
    "                   scoring='roc_auc',\n",
    "                   verbose=7, refit=True)\n",
    "\n",
    "lgbm_model.fit(X_train, y_train)"
   ]
  },
  {
   "cell_type": "code",
   "execution_count": 24,
   "metadata": {},
   "outputs": [
    {
     "name": "stdout",
     "output_type": "stream",
     "text": [
      "0.6849339983436865\n"
     ]
    },
    {
     "data": {
      "text/plain": [
       "{'colsample_bytree': 0.7,\n",
       " 'eval_metric': 'auc',\n",
       " 'learning_rate': 0.8,\n",
       " 'max_depth': 2,\n",
       " 'min_child_weight': 11,\n",
       " 'missing': -999,\n",
       " 'n_estimators': 8,\n",
       " 'objective': 'binary:logistic',\n",
       " 'reg_lambda': 1.5,\n",
       " 'seed': 1337,\n",
       " 'silent': 1}"
      ]
     },
     "execution_count": 24,
     "metadata": {},
     "output_type": "execute_result"
    }
   ],
   "source": [
    "y_pred_prob_gs_xgb = [x[1] for x in lgbm_model.predict_proba(X_test)]\n",
    "print(roc_auc_score(y_test, y_pred_prob_gs_xgb))\n",
    "clf.best_params_\n",
    "#clf.cv_results_"
   ]
  },
  {
   "cell_type": "markdown",
   "metadata": {},
   "source": [
    "0.719:\n",
    "\n",
    "{'colsample_bytree': 0.7,\n",
    " 'eval_metric': 'auc',\n",
    " 'learning_rate': 0.3,\n",
    " 'max_depth': 2,\n",
    " 'min_child_weight': 11,\n",
    " 'missing': -999,\n",
    " 'n_estimators': 8,\n",
    " 'objective': 'binary:logistic',\n",
    " 'reg_lambda': 1.5,\n",
    " 'seed': 1337,\n",
    " 'silent': 1}"
   ]
  },
  {
   "cell_type": "markdown",
   "metadata": {},
   "source": [
    "# OLS"
   ]
  },
  {
   "cell_type": "code",
   "execution_count": 182,
   "metadata": {},
   "outputs": [
    {
     "name": "stdout",
     "output_type": "stream",
     "text": [
      "CPU times: user 8.45 s, sys: 1.5 s, total: 9.94 s\n",
      "Wall time: 6.91 s\n"
     ]
    }
   ],
   "source": [
    "%%time\n",
    "# fit:\n",
    "reg = LinearRegression(normalize=True).fit(X_train, y_train)\n",
    "# predict:\n",
    "y_pred_ols = reg.predict(X_test)"
   ]
  },
  {
   "cell_type": "code",
   "execution_count": 183,
   "metadata": {},
   "outputs": [
    {
     "data": {
      "text/plain": [
       "0.699"
      ]
     },
     "execution_count": 183,
     "metadata": {},
     "output_type": "execute_result"
    }
   ],
   "source": [
    "# roc auc score:\n",
    "round(roc_auc_score(y_test, y_pred_ols),3)"
   ]
  },
  {
   "cell_type": "code",
   "execution_count": 184,
   "metadata": {},
   "outputs": [
    {
     "name": "stdout",
     "output_type": "stream",
     "text": [
      "Precision: [1.0, 0.0], \n",
      "Recall: [0.57, 0.68], \n",
      "F1_Score: [0.73, 0.0]\n"
     ]
    }
   ],
   "source": [
    "# precision, recall and f1 score:\n",
    "y_pred_ols_binary = [1  if y>=0.5 else 0 for y in y_pred_ols] # for these metrics I need binary target\n",
    "prec, recall, f1_score, support = precision_recall_fscore_support(y_test, y_pred_ols_binary)\n",
    "print(f'Precision: {[round(x,2) for x in prec]}, \\nRecall: {[round(x,2) for x in recall]}, \\nF1_Score: {[round(x,2) for x in f1_score]}')"
   ]
  },
  {
   "cell_type": "markdown",
   "metadata": {},
   "source": [
    "## OLS with regularization:"
   ]
  },
  {
   "cell_type": "markdown",
   "metadata": {},
   "source": [
    "### Ridge"
   ]
  },
  {
   "cell_type": "code",
   "execution_count": 46,
   "metadata": {},
   "outputs": [
    {
     "name": "stdout",
     "output_type": "stream",
     "text": [
      "Fitting 1 folds for each of 6 candidates, totalling 6 fits\n"
     ]
    },
    {
     "name": "stderr",
     "output_type": "stream",
     "text": [
      "[Parallel(n_jobs=-1)]: Using backend LokyBackend with 4 concurrent workers.\n",
      "[Parallel(n_jobs=-1)]: Done   1 tasks      | elapsed:  1.3min\n",
      "[Parallel(n_jobs=-1)]: Done   2 out of   6 | elapsed:  1.3min remaining:  2.7min\n",
      "[Parallel(n_jobs=-1)]: Done   3 out of   6 | elapsed:  1.3min remaining:  1.3min\n",
      "[Parallel(n_jobs=-1)]: Done   4 out of   6 | elapsed:  1.3min remaining:   40.1s\n",
      "[Parallel(n_jobs=-1)]: Done   6 out of   6 | elapsed:  1.6min remaining:    0.0s\n",
      "[Parallel(n_jobs=-1)]: Done   6 out of   6 | elapsed:  1.6min finished\n"
     ]
    },
    {
     "name": "stdout",
     "output_type": "stream",
     "text": [
      "CPU times: user 6.46 s, sys: 5.57 s, total: 12 s\n",
      "Wall time: 1min 49s\n"
     ]
    },
    {
     "data": {
      "text/plain": [
       "0.7"
      ]
     },
     "execution_count": 46,
     "metadata": {},
     "output_type": "execute_result"
    }
   ],
   "source": [
    "%%time\n",
    "parameters = {\n",
    "    'alpha': [1, 10, 100, 1000, 10000, 100000]\n",
    "}\n",
    "\n",
    "# define model\n",
    "ols_ridge_gs = GridSearchCV(Ridge(), \n",
    "                          parameters, \n",
    "                          n_jobs=-1, \n",
    "#                          cv=10,\n",
    "                          cv=GroupShuffleSplit(\n",
    "                              n_splits=1, train_size=.8, random_state=42).split(X_train, y_train, groups),\n",
    "                          scoring='roc_auc',\n",
    "                          verbose=20, \n",
    "                          refit=True)\n",
    "\n",
    "# fit\n",
    "ols_ridge_gs.fit(X_train, y_train)\n",
    "# predict\n",
    "y_pred_ols = ols_ridge_gs.predict(X_test)\n",
    "# validation\n",
    "round(roc_auc_score(y_test, y_pred_ols), 3)"
   ]
  },
  {
   "cell_type": "markdown",
   "metadata": {},
   "source": [
    "### Lasso"
   ]
  },
  {
   "cell_type": "code",
   "execution_count": 47,
   "metadata": {},
   "outputs": [
    {
     "name": "stdout",
     "output_type": "stream",
     "text": [
      "Fitting 1 folds for each of 6 candidates, totalling 6 fits\n"
     ]
    },
    {
     "name": "stderr",
     "output_type": "stream",
     "text": [
      "[Parallel(n_jobs=-1)]: Using backend LokyBackend with 4 concurrent workers.\n",
      "[Parallel(n_jobs=-1)]: Done   1 tasks      | elapsed:  1.5min\n",
      "[Parallel(n_jobs=-1)]: Done   2 out of   6 | elapsed:  1.5min remaining:  2.9min\n",
      "[Parallel(n_jobs=-1)]: Done   3 out of   6 | elapsed:  1.5min remaining:  1.5min\n",
      "[Parallel(n_jobs=-1)]: Done   4 out of   6 | elapsed:  1.5min remaining:   44.0s\n",
      "[Parallel(n_jobs=-1)]: Done   6 out of   6 | elapsed:  1.9min remaining:    0.0s\n",
      "[Parallel(n_jobs=-1)]: Done   6 out of   6 | elapsed:  1.9min finished\n"
     ]
    },
    {
     "name": "stdout",
     "output_type": "stream",
     "text": [
      "CPU times: user 6.9 s, sys: 6.4 s, total: 13.3 s\n",
      "Wall time: 2min 6s\n"
     ]
    },
    {
     "data": {
      "text/plain": [
       "0.5"
      ]
     },
     "execution_count": 47,
     "metadata": {},
     "output_type": "execute_result"
    }
   ],
   "source": [
    "%%time\n",
    "\n",
    "parameters = {\n",
    "    'alpha': [1, 10, 100, 1000, 10000, 100000]\n",
    "}\n",
    "\n",
    "# define model\n",
    "ols_lasso_gs = GridSearchCV(Lasso(), \n",
    "                          parameters, \n",
    "                          n_jobs=-1, \n",
    "#                          cv=10,\n",
    "                          cv=GroupShuffleSplit(\n",
    "                              n_splits=1, train_size=.8, random_state=42).split(X_train, y_train, groups),\n",
    "                          scoring='roc_auc',\n",
    "                          verbose=20, \n",
    "                          refit=True)\n",
    "\n",
    "# fit\n",
    "ols_lasso_gs.fit(X_train, y_train)\n",
    "# predict\n",
    "y_pred_ols = ols_lasso_gs.predict(X_test)\n",
    "# validation\n",
    "round(roc_auc_score(y_test, y_pred_ols), 3)"
   ]
  },
  {
   "cell_type": "code",
   "execution_count": 49,
   "metadata": {},
   "outputs": [
    {
     "data": {
      "text/html": [
       "<div>\n",
       "<style scoped>\n",
       "    .dataframe tbody tr th:only-of-type {\n",
       "        vertical-align: middle;\n",
       "    }\n",
       "\n",
       "    .dataframe tbody tr th {\n",
       "        vertical-align: top;\n",
       "    }\n",
       "\n",
       "    .dataframe thead th {\n",
       "        text-align: right;\n",
       "    }\n",
       "</style>\n",
       "<table border=\"1\" class=\"dataframe\">\n",
       "  <thead>\n",
       "    <tr style=\"text-align: right;\">\n",
       "      <th></th>\n",
       "      <th>test_scores</th>\n",
       "      <th>params</th>\n",
       "    </tr>\n",
       "  </thead>\n",
       "  <tbody>\n",
       "    <tr>\n",
       "      <th>5</th>\n",
       "      <td>0.703518</td>\n",
       "      <td>{'alpha': 100000}</td>\n",
       "    </tr>\n",
       "    <tr>\n",
       "      <th>4</th>\n",
       "      <td>0.702645</td>\n",
       "      <td>{'alpha': 10000}</td>\n",
       "    </tr>\n",
       "    <tr>\n",
       "      <th>3</th>\n",
       "      <td>0.702551</td>\n",
       "      <td>{'alpha': 1000}</td>\n",
       "    </tr>\n",
       "    <tr>\n",
       "      <th>2</th>\n",
       "      <td>0.702542</td>\n",
       "      <td>{'alpha': 100}</td>\n",
       "    </tr>\n",
       "    <tr>\n",
       "      <th>1</th>\n",
       "      <td>0.702541</td>\n",
       "      <td>{'alpha': 10}</td>\n",
       "    </tr>\n",
       "    <tr>\n",
       "      <th>0</th>\n",
       "      <td>0.702541</td>\n",
       "      <td>{'alpha': 1}</td>\n",
       "    </tr>\n",
       "    <tr>\n",
       "      <th>0</th>\n",
       "      <td>0.500000</td>\n",
       "      <td>{'alpha': 1}</td>\n",
       "    </tr>\n",
       "    <tr>\n",
       "      <th>1</th>\n",
       "      <td>0.500000</td>\n",
       "      <td>{'alpha': 10}</td>\n",
       "    </tr>\n",
       "    <tr>\n",
       "      <th>2</th>\n",
       "      <td>0.500000</td>\n",
       "      <td>{'alpha': 100}</td>\n",
       "    </tr>\n",
       "    <tr>\n",
       "      <th>3</th>\n",
       "      <td>0.500000</td>\n",
       "      <td>{'alpha': 1000}</td>\n",
       "    </tr>\n",
       "    <tr>\n",
       "      <th>4</th>\n",
       "      <td>0.500000</td>\n",
       "      <td>{'alpha': 10000}</td>\n",
       "    </tr>\n",
       "    <tr>\n",
       "      <th>5</th>\n",
       "      <td>0.500000</td>\n",
       "      <td>{'alpha': 100000}</td>\n",
       "    </tr>\n",
       "  </tbody>\n",
       "</table>\n",
       "</div>"
      ],
      "text/plain": [
       "   test_scores             params\n",
       "5     0.703518  {'alpha': 100000}\n",
       "4     0.702645   {'alpha': 10000}\n",
       "3     0.702551    {'alpha': 1000}\n",
       "2     0.702542     {'alpha': 100}\n",
       "1     0.702541      {'alpha': 10}\n",
       "0     0.702541       {'alpha': 1}\n",
       "0     0.500000       {'alpha': 1}\n",
       "1     0.500000      {'alpha': 10}\n",
       "2     0.500000     {'alpha': 100}\n",
       "3     0.500000    {'alpha': 1000}\n",
       "4     0.500000   {'alpha': 10000}\n",
       "5     0.500000  {'alpha': 100000}"
      ]
     },
     "execution_count": 49,
     "metadata": {},
     "output_type": "execute_result"
    }
   ],
   "source": [
    "params_rank = pd.DataFrame()\n",
    "\n",
    "params_rank['test_scores'] = pd.concat(\n",
    "    [pd.Series(ols_ridge_gs.cv_results_['split0_test_score']),\n",
    "     pd.Series(ols_lasso_gs.cv_results_['split0_test_score'])\n",
    "    ])\n",
    "params_rank['params'] = pd.concat(\n",
    "    [pd.Series(ols_ridge_gs.cv_results_['params']),\n",
    "     pd.Series(ols_lasso_gs.cv_results_['params'])\n",
    "    ])\n",
    "\n",
    "params_rank.sort_values('test_scores', ascending=False)"
   ]
  },
  {
   "cell_type": "markdown",
   "metadata": {},
   "source": [
    "# Logistic Regression with regularization:"
   ]
  },
  {
   "cell_type": "code",
   "execution_count": 173,
   "metadata": {},
   "outputs": [
    {
     "name": "stderr",
     "output_type": "stream",
     "text": [
      "/Users/simonneumeyer/opt/anaconda3/lib/python3.7/site-packages/sklearn/linear_model/_logistic.py:764: ConvergenceWarning: lbfgs failed to converge (status=1):\n",
      "STOP: TOTAL NO. of ITERATIONS REACHED LIMIT.\n",
      "\n",
      "Increase the number of iterations (max_iter) or scale the data as shown in:\n",
      "    https://scikit-learn.org/stable/modules/preprocessing.html\n",
      "Please also refer to the documentation for alternative solver options:\n",
      "    https://scikit-learn.org/stable/modules/linear_model.html#logistic-regression\n",
      "  extra_warning_msg=_LOGISTIC_SOLVER_CONVERGENCE_MSG)\n"
     ]
    },
    {
     "name": "stdout",
     "output_type": "stream",
     "text": [
      "CPU times: user 1min 32s, sys: 8.94 s, total: 1min 41s\n",
      "Wall time: 1min 13s\n"
     ]
    },
    {
     "data": {
      "text/plain": [
       "0.709"
      ]
     },
     "execution_count": 173,
     "metadata": {},
     "output_type": "execute_result"
    }
   ],
   "source": [
    "%%time\n",
    "# define model\n",
    "log_reg = LogisticRegression(random_state=0, C=0.000075, penalty='l2')\n",
    "# fit\n",
    "log_reg.fit(X_train, y_train)\n",
    "# predict\n",
    "temp = log_reg.predict_proba(X_test)\n",
    "y_pred_logreg = [n[1] for n in temp]\n",
    "# validate\n",
    "round(roc_auc_score(y_test, y_pred_logreg), 3)"
   ]
  },
  {
   "cell_type": "code",
   "execution_count": 174,
   "metadata": {},
   "outputs": [
    {
     "name": "stdout",
     "output_type": "stream",
     "text": [
      "Fitting 1 folds for each of 8 candidates, totalling 8 fits\n"
     ]
    },
    {
     "name": "stderr",
     "output_type": "stream",
     "text": [
      "[Parallel(n_jobs=-1)]: Using backend LokyBackend with 4 concurrent workers.\n",
      "[Parallel(n_jobs=-1)]: Done   1 tasks      | elapsed:  3.9min\n",
      "[Parallel(n_jobs=-1)]: Done   2 out of   8 | elapsed:  4.8min remaining: 14.4min\n",
      "[Parallel(n_jobs=-1)]: Done   3 out of   8 | elapsed: 13.4min remaining: 22.4min\n",
      "[Parallel(n_jobs=-1)]: Done   4 out of   8 | elapsed: 24.3min remaining: 24.3min\n",
      "[Parallel(n_jobs=-1)]: Done   5 out of   8 | elapsed: 27.4min remaining: 16.4min\n",
      "[Parallel(n_jobs=-1)]: Done   6 out of   8 | elapsed: 27.5min remaining:  9.2min\n",
      "[Parallel(n_jobs=-1)]: Done   8 out of   8 | elapsed: 35.4min remaining:    0.0s\n",
      "[Parallel(n_jobs=-1)]: Done   8 out of   8 | elapsed: 35.4min finished\n"
     ]
    },
    {
     "name": "stdout",
     "output_type": "stream",
     "text": [
      "CPU times: user 3min 9s, sys: 9.76 s, total: 3min 19s\n",
      "Wall time: 38min 54s\n"
     ]
    },
    {
     "data": {
      "text/plain": [
       "0.701"
      ]
     },
     "execution_count": 174,
     "metadata": {},
     "output_type": "execute_result"
    }
   ],
   "source": [
    "%%time\n",
    "parameters = {\n",
    "    'C': [0.000025, 0.000075, 0.0001, 0.00015],# 0.001, 0.01, 0.1], -> tried these but they are consistently inferior\n",
    "    'penalty': ['l2', 'none']#, 'l1'] -> tried lasso also, but consistently inferior than the others\n",
    "}\n",
    "\n",
    "#solver = 'saga' # put this when penalty = l1 (lasso)\n",
    "solver = 'lbfgs'\n",
    "\n",
    "logreg = LogisticRegression(random_state=0, solver=solver)\n",
    "#logreg.predict(X_test)\n",
    "\n",
    "log_reg_gs_2 = GridSearchCV(logreg, \n",
    "                          parameters, \n",
    "                          n_jobs=-1, \n",
    "#                          cv=10,\n",
    "                          cv=GroupShuffleSplit(\n",
    "                              n_splits=1, train_size=.8, random_state=42).split(X_train, y_train, groups),\n",
    "                          scoring='roc_auc',\n",
    "                          verbose=20, \n",
    "                          refit=True)\n",
    "\n",
    "log_reg_gs_2.fit(X_train, y_train)\n",
    "\n",
    "temp = log_reg_gs_2.predict_proba(X_test)\n",
    "y_pred_logreg_2 = [n[1] for n in temp]\n",
    "round(roc_auc_score(y_test, y_pred_logreg_2), 3)"
   ]
  },
  {
   "cell_type": "code",
   "execution_count": 175,
   "metadata": {},
   "outputs": [
    {
     "name": "stdout",
     "output_type": "stream",
     "text": [
      "{'C': 7.5e-05, 'penalty': 'l2'}\n",
      "{'C': 0.00015, 'penalty': 'l2'}\n"
     ]
    }
   ],
   "source": [
    "print(log_reg_gs.best_params_)\n",
    "print(log_reg_gs_2.best_params_)"
   ]
  },
  {
   "cell_type": "code",
   "execution_count": 176,
   "metadata": {
    "scrolled": false
   },
   "outputs": [
    {
     "data": {
      "text/html": [
       "<div>\n",
       "<style scoped>\n",
       "    .dataframe tbody tr th:only-of-type {\n",
       "        vertical-align: middle;\n",
       "    }\n",
       "\n",
       "    .dataframe tbody tr th {\n",
       "        vertical-align: top;\n",
       "    }\n",
       "\n",
       "    .dataframe thead th {\n",
       "        text-align: right;\n",
       "    }\n",
       "</style>\n",
       "<table border=\"1\" class=\"dataframe\">\n",
       "  <thead>\n",
       "    <tr style=\"text-align: right;\">\n",
       "      <th></th>\n",
       "      <th>test_scores</th>\n",
       "      <th>params</th>\n",
       "    </tr>\n",
       "  </thead>\n",
       "  <tbody>\n",
       "    <tr>\n",
       "      <th>6</th>\n",
       "      <td>0.707498</td>\n",
       "      <td>{'C': 0.00015, 'penalty': 'l2'}</td>\n",
       "    </tr>\n",
       "    <tr>\n",
       "      <th>4</th>\n",
       "      <td>0.707399</td>\n",
       "      <td>{'C': 0.0001, 'penalty': 'l2'}</td>\n",
       "    </tr>\n",
       "    <tr>\n",
       "      <th>2</th>\n",
       "      <td>0.706815</td>\n",
       "      <td>{'C': 7.5e-05, 'penalty': 'l2'}</td>\n",
       "    </tr>\n",
       "    <tr>\n",
       "      <th>2</th>\n",
       "      <td>0.706177</td>\n",
       "      <td>{'C': 7.5e-05, 'penalty': 'l2'}</td>\n",
       "    </tr>\n",
       "    <tr>\n",
       "      <th>4</th>\n",
       "      <td>0.706030</td>\n",
       "      <td>{'C': 0.0001, 'penalty': 'l2'}</td>\n",
       "    </tr>\n",
       "    <tr>\n",
       "      <th>0</th>\n",
       "      <td>0.705799</td>\n",
       "      <td>{'C': 5e-05, 'penalty': 'l2'}</td>\n",
       "    </tr>\n",
       "    <tr>\n",
       "      <th>12</th>\n",
       "      <td>0.705506</td>\n",
       "      <td>{'C': 0.1, 'penalty': 'l2'}</td>\n",
       "    </tr>\n",
       "    <tr>\n",
       "      <th>0</th>\n",
       "      <td>0.704952</td>\n",
       "      <td>{'C': 5e-05, 'penalty': 'l2'}</td>\n",
       "    </tr>\n",
       "    <tr>\n",
       "      <th>5</th>\n",
       "      <td>0.704889</td>\n",
       "      <td>{'C': 0.0001, 'penalty': 'none'}</td>\n",
       "    </tr>\n",
       "    <tr>\n",
       "      <th>3</th>\n",
       "      <td>0.704889</td>\n",
       "      <td>{'C': 7.5e-05, 'penalty': 'none'}</td>\n",
       "    </tr>\n",
       "    <tr>\n",
       "      <th>1</th>\n",
       "      <td>0.704889</td>\n",
       "      <td>{'C': 5e-05, 'penalty': 'none'}</td>\n",
       "    </tr>\n",
       "    <tr>\n",
       "      <th>7</th>\n",
       "      <td>0.704889</td>\n",
       "      <td>{'C': 0.00015, 'penalty': 'none'}</td>\n",
       "    </tr>\n",
       "    <tr>\n",
       "      <th>6</th>\n",
       "      <td>0.704364</td>\n",
       "      <td>{'C': 0.00015, 'penalty': 'l2'}</td>\n",
       "    </tr>\n",
       "    <tr>\n",
       "      <th>8</th>\n",
       "      <td>0.703582</td>\n",
       "      <td>{'C': 0.001, 'penalty': 'l2'}</td>\n",
       "    </tr>\n",
       "    <tr>\n",
       "      <th>1</th>\n",
       "      <td>0.700977</td>\n",
       "      <td>{'C': 5e-05, 'penalty': 'none'}</td>\n",
       "    </tr>\n",
       "    <tr>\n",
       "      <th>13</th>\n",
       "      <td>0.700977</td>\n",
       "      <td>{'C': 0.1, 'penalty': 'none'}</td>\n",
       "    </tr>\n",
       "    <tr>\n",
       "      <th>9</th>\n",
       "      <td>0.700977</td>\n",
       "      <td>{'C': 0.001, 'penalty': 'none'}</td>\n",
       "    </tr>\n",
       "    <tr>\n",
       "      <th>7</th>\n",
       "      <td>0.700977</td>\n",
       "      <td>{'C': 0.00015, 'penalty': 'none'}</td>\n",
       "    </tr>\n",
       "    <tr>\n",
       "      <th>5</th>\n",
       "      <td>0.700977</td>\n",
       "      <td>{'C': 0.0001, 'penalty': 'none'}</td>\n",
       "    </tr>\n",
       "    <tr>\n",
       "      <th>3</th>\n",
       "      <td>0.700977</td>\n",
       "      <td>{'C': 7.5e-05, 'penalty': 'none'}</td>\n",
       "    </tr>\n",
       "    <tr>\n",
       "      <th>11</th>\n",
       "      <td>0.700977</td>\n",
       "      <td>{'C': 0.01, 'penalty': 'none'}</td>\n",
       "    </tr>\n",
       "    <tr>\n",
       "      <th>10</th>\n",
       "      <td>0.698875</td>\n",
       "      <td>{'C': 0.01, 'penalty': 'l2'}</td>\n",
       "    </tr>\n",
       "  </tbody>\n",
       "</table>\n",
       "</div>"
      ],
      "text/plain": [
       "    test_scores                             params\n",
       "6      0.707498    {'C': 0.00015, 'penalty': 'l2'}\n",
       "4      0.707399     {'C': 0.0001, 'penalty': 'l2'}\n",
       "2      0.706815    {'C': 7.5e-05, 'penalty': 'l2'}\n",
       "2      0.706177    {'C': 7.5e-05, 'penalty': 'l2'}\n",
       "4      0.706030     {'C': 0.0001, 'penalty': 'l2'}\n",
       "0      0.705799      {'C': 5e-05, 'penalty': 'l2'}\n",
       "12     0.705506        {'C': 0.1, 'penalty': 'l2'}\n",
       "0      0.704952      {'C': 5e-05, 'penalty': 'l2'}\n",
       "5      0.704889   {'C': 0.0001, 'penalty': 'none'}\n",
       "3      0.704889  {'C': 7.5e-05, 'penalty': 'none'}\n",
       "1      0.704889    {'C': 5e-05, 'penalty': 'none'}\n",
       "7      0.704889  {'C': 0.00015, 'penalty': 'none'}\n",
       "6      0.704364    {'C': 0.00015, 'penalty': 'l2'}\n",
       "8      0.703582      {'C': 0.001, 'penalty': 'l2'}\n",
       "1      0.700977    {'C': 5e-05, 'penalty': 'none'}\n",
       "13     0.700977      {'C': 0.1, 'penalty': 'none'}\n",
       "9      0.700977    {'C': 0.001, 'penalty': 'none'}\n",
       "7      0.700977  {'C': 0.00015, 'penalty': 'none'}\n",
       "5      0.700977   {'C': 0.0001, 'penalty': 'none'}\n",
       "3      0.700977  {'C': 7.5e-05, 'penalty': 'none'}\n",
       "11     0.700977     {'C': 0.01, 'penalty': 'none'}\n",
       "10     0.698875       {'C': 0.01, 'penalty': 'l2'}"
      ]
     },
     "execution_count": 176,
     "metadata": {},
     "output_type": "execute_result"
    }
   ],
   "source": [
    "params_rank = pd.DataFrame()\n",
    "\n",
    "params_rank['test_scores'] = pd.concat(\n",
    "    [pd.Series(log_reg_gs.cv_results_['split0_test_score']),\n",
    "     pd.Series(log_reg_gs_2.cv_results_['split0_test_score'])\n",
    "    ])\n",
    "params_rank['params'] = pd.concat(\n",
    "    [pd.Series(log_reg_gs.cv_results_['params']),\n",
    "     pd.Series(log_reg_gs_2.cv_results_['params'])\n",
    "    ])\n",
    "\n",
    "params_rank.sort_values('test_scores', ascending=False)"
   ]
  },
  {
   "cell_type": "code",
   "execution_count": null,
   "metadata": {},
   "outputs": [],
   "source": []
  },
  {
   "cell_type": "code",
   "execution_count": null,
   "metadata": {},
   "outputs": [],
   "source": []
  },
  {
   "cell_type": "code",
   "execution_count": null,
   "metadata": {},
   "outputs": [],
   "source": []
  },
  {
   "cell_type": "code",
   "execution_count": null,
   "metadata": {},
   "outputs": [],
   "source": []
  },
  {
   "cell_type": "code",
   "execution_count": null,
   "metadata": {},
   "outputs": [],
   "source": []
  },
  {
   "cell_type": "code",
   "execution_count": null,
   "metadata": {},
   "outputs": [],
   "source": []
  },
  {
   "cell_type": "code",
   "execution_count": null,
   "metadata": {},
   "outputs": [],
   "source": []
  },
  {
   "cell_type": "code",
   "execution_count": null,
   "metadata": {},
   "outputs": [],
   "source": []
  },
  {
   "attachments": {
    "image.png": {
     "image/png": "[encoded data removed]"
    }
   },
   "cell_type": "markdown",
   "metadata": {},
   "source": [
    "![image.png](attachment:image.png)"
   ]
  },
  {
   "cell_type": "code",
   "execution_count": 28,
   "metadata": {},
   "outputs": [
    {
     "data": {
      "text/plain": [
       "670.0"
      ]
     },
     "execution_count": 28,
     "metadata": {},
     "output_type": "execute_result"
    }
   ],
   "source": [
    "segment_time.accidents.sum()"
   ]
  }
 ],
 "metadata": {
  "kernelspec": {
   "display_name": "Python 3",
   "language": "python",
   "name": "python3"
  },
  "language_info": {
   "codemirror_mode": {
    "name": "ipython",
    "version": 3
   },
   "file_extension": ".py",
   "mimetype": "text/x-python",
   "name": "python",
   "nbconvert_exporter": "python",
   "pygments_lexer": "ipython3",
   "version": "3.7.6"
  },
  "toc": {
   "base_numbering": 1,
   "nav_menu": {},
   "number_sections": true,
   "sideBar": true,
   "skip_h1_title": false,
   "title_cell": "Table of Contents",
   "title_sidebar": "Contents",
   "toc_cell": false,
   "toc_position": {},
   "toc_section_display": true,
   "toc_window_display": false
  }
 },
 "nbformat": 4,
 "nbformat_minor": 4
}
