{
 "cells": [
  {
   "cell_type": "code",
   "execution_count": 14,
   "metadata": {},
   "outputs": [],
   "source": [
    "import numpy as np\n",
    "import pandas as pd\n",
    "import pyreadr\n",
    "import datetime\n",
    "pd.set_option('display.max_rows', 1000)\n",
    "pd.set_option('display.max_columns', 100)\n",
    "import statsmodels.api as sm\n",
    "import matplotlib.pyplot as plt\n",
    "import seaborn as sns\n",
    "from linearmodels.panel import PanelOLS"
   ]
  },
  {
   "cell_type": "code",
   "execution_count": 15,
   "metadata": {},
   "outputs": [],
   "source": [
    "# define paths\n",
    "data_path = '/Users/simonneumeyer/Dropbox/Ethiopia IE - Road Safety/Data/'\n",
    "crashes_path = 'ETRE - Crashes/'\n",
    "crash_file = 'FinalData/crashes.csv'\n",
    "traffic_path = 'ETRE - Traffic/'\n",
    "traffic_file = 'FinalData/traffic.pq'\n",
    "precipitation_path = 'Precipitation/'\n",
    "precipitation_file = 'FinalData/precipitation.csv'"
   ]
  },
  {
   "cell_type": "code",
   "execution_count": 16,
   "metadata": {},
   "outputs": [],
   "source": [
    "segment_time = pd.read_parquet(data_path + 'Time Segment Data/segment_time_panel.pq', engine='pyarrow')"
   ]
  },
  {
   "cell_type": "markdown",
   "metadata": {},
   "source": [
    "## Regression:"
   ]
  },
  {
   "cell_type": "code",
   "execution_count": 17,
   "metadata": {},
   "outputs": [
    {
     "name": "stdout",
     "output_type": "stream",
     "text": [
      "                            OLS Regression Results                            \n",
      "==============================================================================\n",
      "Dep. Variable:              accidents   R-squared:                       0.000\n",
      "Model:                            OLS   Adj. R-squared:                  0.000\n",
      "Method:                 Least Squares   F-statistic:                     28.07\n",
      "Date:                Mon, 10 May 2021   Prob (F-statistic):           6.43e-39\n",
      "Time:                        04:20:27   Log-Likelihood:             4.2476e+06\n",
      "No. Observations:             1963560   AIC:                        -8.495e+06\n",
      "Df Residuals:                 1963552   BIC:                        -8.495e+06\n",
      "Df Model:                           7                                         \n",
      "Covariance Type:            nonrobust                                         \n",
      "==========================================================================================\n",
      "                             coef    std err          t      P>|t|      [0.025      0.975]\n",
      "------------------------------------------------------------------------------------------\n",
      "const                     -0.0019      0.000     -7.876      0.000      -0.002      -0.001\n",
      "traffic                -5.976e-07   6.93e-08     -8.623      0.000   -7.33e-07   -4.62e-07\n",
      "precip_mm                2.18e-05   4.15e-06      5.251      0.000    1.37e-05    2.99e-05\n",
      "weekend                 2.315e-05   4.03e-05      0.575      0.565   -5.57e-05       0.000\n",
      "holiday                   -0.0003      0.000     -2.296      0.022      -0.001   -4.05e-05\n",
      "holiday_plusminus_2day  1.354e-05   6.07e-05      0.223      0.823      -0.000       0.000\n",
      "speed_mean               3.32e-05   3.08e-06     10.779      0.000    2.72e-05    3.92e-05\n",
      "hour_squared           -7.136e-07    1.2e-07     -5.922      0.000    -9.5e-07   -4.77e-07\n",
      "==============================================================================\n",
      "Omnibus:                  6718680.147   Durbin-Watson:                   1.364\n",
      "Prob(Omnibus):                  0.000   Jarque-Bera (JB):    2012731222297.095\n",
      "Skew:                          63.955   Prob(JB):                         0.00\n",
      "Kurtosis:                    4961.290   Cond. No.                     6.12e+03\n",
      "==============================================================================\n",
      "\n",
      "Warnings:\n",
      "[1] Standard Errors assume that the covariance matrix of the errors is correctly specified.\n",
      "[2] The condition number is large, 6.12e+03. This might indicate that there are\n",
      "strong multicollinearity or other numerical problems.\n"
     ]
    }
   ],
   "source": [
    "# OLS model:\n",
    "\n",
    "# dropping NAs where we don't have speed_mean (only 8k observations)\n",
    "df = segment_time.dropna(subset=['speed_mean']).reset_index()\n",
    "y = df.accidents\n",
    "\n",
    "cols = ['traffic', 'precip_mm', 'weekend', \n",
    "        'holiday', 'holiday_plusminus_2day', 'speed_mean', 'hour_squared']\n",
    "X = df[cols]\n",
    "X = sm.add_constant(X)\n",
    "\n",
    "# for clustered se option\n",
    "groups = df.km_from_addis\n",
    "\n",
    "# Fit and summarize OLS model\n",
    "model = sm.OLS(y, X)\n",
    "\n",
    "linreg = model.fit()\n",
    "#linreg = model.fit(cov_type='cluster', cov_kwds={'groups': groups})\n",
    "\n",
    "print(linreg.summary())"
   ]
  },
  {
   "cell_type": "code",
   "execution_count": 22,
   "metadata": {},
   "outputs": [
    {
     "data": {
      "image/png": "[encoded data removed]",
      "text/plain": [
       "<Figure size 432x288 with 2 Axes>"
      ]
     },
     "metadata": {
      "needs_background": "light"
     },
     "output_type": "display_data"
    }
   ],
   "source": [
    "# check for correlation between covariates:\n",
    "corr = np.corrcoef(X.T[1:])\n",
    "sns.heatmap(corr, xticklabels=X.columns[1:], yticklabels=X.columns[1:])\n",
    "plt.show()"
   ]
  },
  {
   "cell_type": "code",
   "execution_count": 26,
   "metadata": {},
   "outputs": [
    {
     "name": "stdout",
     "output_type": "stream",
     "text": [
      "                          PanelOLS Estimation Summary                           \n",
      "================================================================================\n",
      "Dep. Variable:              accidents   R-squared:                     6.334e-05\n",
      "Estimator:                   PanelOLS   R-squared (Between):             -0.0513\n",
      "No. Observations:             1963560   R-squared (Within):            6.334e-05\n",
      "Date:                Mon, May 10 2021   R-squared (Overall):           4.267e-05\n",
      "Time:                        04:28:43   Log-likelihood                 4.248e+06\n",
      "Cov. Estimator:             Clustered                                           \n",
      "                                        F-statistic:                      17.766\n",
      "Entities:                          79   P-value                           0.0000\n",
      "Avg Obs:                    2.486e+04   Distribution:               F(7,1963474)\n",
      "Min Obs:                    2.485e+04                                           \n",
      "Max Obs:                    2.486e+04   F-statistic (robust):             5.1851\n",
      "                                        P-value                           0.0000\n",
      "Time periods:                    1037   Distribution:               F(7,1963474)\n",
      "Avg Obs:                       1893.5                                           \n",
      "Min Obs:                       316.00                                           \n",
      "Max Obs:                       1899.0                                           \n",
      "                                                                                \n",
      "                                   Parameter Estimates                                    \n",
      "==========================================================================================\n",
      "                        Parameter  Std. Err.     T-stat    P-value    Lower CI    Upper CI\n",
      "------------------------------------------------------------------------------------------\n",
      "const                     -0.0008     0.0006    -1.3824     0.1668     -0.0019      0.0003\n",
      "traffic                  1.38e-07  1.808e-07     0.7637     0.4451  -2.163e-07   4.924e-07\n",
      "precip_mm                2.07e-05  1.107e-05     1.8706     0.0614  -9.889e-07   4.239e-05\n",
      "weekend                 4.331e-05  4.588e-05     0.9441     0.3451  -4.661e-05      0.0001\n",
      "holiday                   -0.0002     0.0001    -1.8445     0.0651     -0.0004   1.265e-05\n",
      "holiday_plusminus_2day  4.611e-05  7.119e-05     0.6477     0.5172  -9.341e-05      0.0002\n",
      "speed_mean              1.636e-05  7.587e-06     2.1558     0.0311   1.486e-06   3.123e-05\n",
      "hour_squared           -7.544e-07  1.771e-07    -4.2592     0.0000  -1.102e-06  -4.072e-07\n",
      "==========================================================================================\n",
      "\n",
      "F-test for Poolability: 9.1996\n",
      "P-value: 0.0000\n",
      "Distribution: F(78,1963474)\n",
      "\n",
      "Included effects: Entity\n"
     ]
    }
   ],
   "source": [
    "# Fixed Effects Model:\n",
    "\n",
    "# dropping NAs where we don't have speed_mean (only 8k observations)\n",
    "df = segment_time.dropna(subset=['speed_mean']).reset_index()\n",
    "\n",
    "df = df.set_index(['km_from_addis', 'date']).sort_index()\n",
    "y = df.accidents\n",
    "\n",
    "cols = ['traffic', 'precip_mm', 'weekend', \n",
    "        'holiday', 'holiday_plusminus_2day', 'speed_mean', 'hour_squared']\n",
    "X = df[cols]\n",
    "X = sm.add_constant(X)\n",
    "\n",
    "mod = PanelOLS(y, X, entity_effects=True)\n",
    "res = mod.fit(cov_type='clustered', cluster_entity=True)\n",
    "print(res)"
   ]
  }
 ],
 "metadata": {
  "kernelspec": {
   "display_name": "Python 3",
   "language": "python",
   "name": "python3"
  },
  "language_info": {
   "codemirror_mode": {
    "name": "ipython",
    "version": 3
   },
   "file_extension": ".py",
   "mimetype": "text/x-python",
   "name": "python",
   "nbconvert_exporter": "python",
   "pygments_lexer": "ipython3",
   "version": "3.7.6"
  },
  "toc": {
   "base_numbering": 1,
   "nav_menu": {},
   "number_sections": true,
   "sideBar": true,
   "skip_h1_title": false,
   "title_cell": "Table of Contents",
   "title_sidebar": "Contents",
   "toc_cell": false,
   "toc_position": {},
   "toc_section_display": true,
   "toc_window_display": false
  }
 },
 "nbformat": 4,
 "nbformat_minor": 4
}
