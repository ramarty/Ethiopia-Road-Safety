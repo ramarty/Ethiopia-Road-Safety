{
 "cells": [
  {
   "cell_type": "code",
   "execution_count": 1,
   "metadata": {},
   "outputs": [],
   "source": [
    "import numpy as np\n",
    "import pandas as pd\n",
    "import pyreadr\n",
    "import datetime\n",
    "pd.set_option('display.max_rows', 1000)\n",
    "pd.set_option('display.max_columns', 100)\n",
    "import statsmodels.api as sm\n",
    "import matplotlib.pyplot as plt\n",
    "import seaborn as sns\n",
    "from linearmodels.panel import PanelOLS"
   ]
  },
  {
   "cell_type": "code",
   "execution_count": 2,
   "metadata": {},
   "outputs": [],
   "source": [
    "# define paths\n",
    "data_path = '/Users/simonneumeyer/Dropbox/Ethiopia IE - Road Safety/Data/'\n",
    "crashes_path = 'ETRE - Crashes/'\n",
    "crash_file = 'FinalData/crashes.csv'\n",
    "traffic_path = 'ETRE - Traffic/'\n",
    "traffic_file = 'FinalData/traffic.pq'\n",
    "precipitation_path = 'Precipitation/'\n",
    "precipitation_file = 'FinalData/precipitation.csv'"
   ]
  },
  {
   "cell_type": "code",
   "execution_count": 3,
   "metadata": {},
   "outputs": [],
   "source": [
    "segment_time = pd.read_parquet(data_path + 'Time Segment Data/segment_time_panel.pq', engine='pyarrow')"
   ]
  },
  {
   "cell_type": "markdown",
   "metadata": {},
   "source": [
    "## Regression:"
   ]
  },
  {
   "cell_type": "code",
   "execution_count": 4,
   "metadata": {},
   "outputs": [
    {
     "name": "stdout",
     "output_type": "stream",
     "text": [
      "                            OLS Regression Results                            \n",
      "==============================================================================\n",
      "Dep. Variable:              accidents   R-squared:                       0.000\n",
      "Model:                            OLS   Adj. R-squared:                  0.000\n",
      "Method:                 Least Squares   F-statistic:                     26.90\n",
      "Date:                Mon, 10 May 2021   Prob (F-statistic):           3.00e-32\n",
      "Time:                        03:48:04   Log-Likelihood:             4.2475e+06\n",
      "No. Observations:             1963560   AIC:                        -8.495e+06\n",
      "Df Residuals:                 1963553   BIC:                        -8.495e+06\n",
      "Df Model:                           6                                         \n",
      "Covariance Type:            nonrobust                                         \n",
      "==========================================================================================\n",
      "                             coef    std err          t      P>|t|      [0.025      0.975]\n",
      "------------------------------------------------------------------------------------------\n",
      "const                     -0.0021      0.000     -8.525      0.000      -0.003      -0.002\n",
      "traffic                -6.107e-07   6.93e-08     -8.817      0.000   -7.46e-07   -4.75e-07\n",
      "precip_mm               2.182e-05   4.15e-06      5.254      0.000    1.37e-05       3e-05\n",
      "weekend                  2.29e-05   4.03e-05      0.569      0.569    -5.6e-05       0.000\n",
      "holiday                   -0.0003      0.000     -2.306      0.021      -0.001   -4.18e-05\n",
      "holiday_plusminus_2day  1.294e-05   6.07e-05      0.213      0.831      -0.000       0.000\n",
      "speed_mean              3.347e-05   3.08e-06     10.870      0.000    2.74e-05    3.95e-05\n",
      "==============================================================================\n",
      "Omnibus:                  6718729.581   Durbin-Watson:                   1.364\n",
      "Prob(Omnibus):                  0.000   Jarque-Bera (JB):    2012852012520.597\n",
      "Skew:                          63.957   Prob(JB):                         0.00\n",
      "Kurtosis:                    4961.439   Cond. No.                     5.83e+03\n",
      "==============================================================================\n",
      "\n",
      "Warnings:\n",
      "[1] Standard Errors assume that the covariance matrix of the errors is correctly specified.\n",
      "[2] The condition number is large, 5.83e+03. This might indicate that there are\n",
      "strong multicollinearity or other numerical problems.\n"
     ]
    }
   ],
   "source": [
    "# OLS model:\n",
    "\n",
    "# dropping NAs where we don't have speed_mean\n",
    "df = segment_time.dropna(subset=['speed_mean']).reset_index()\n",
    "y = df.accidents\n",
    "\n",
    "cols = ['traffic', 'precip_mm', 'weekend', \n",
    "        'holiday', 'holiday_plusminus_2day', 'speed_mean'] # speed_mean excluded because of NAs\n",
    "X = df[cols]\n",
    "X = sm.add_constant(X)\n",
    "\n",
    "# for clustered se option\n",
    "groups = df.km_from_addis\n",
    "\n",
    "# Fit and summarize OLS model\n",
    "model = sm.OLS(y, X)\n",
    "\n",
    "linreg = model.fit()\n",
    "#linreg = model.fit(cov_type='cluster', cov_kwds={'groups': groups})\n",
    "\n",
    "print(linreg.summary())"
   ]
  },
  {
   "cell_type": "code",
   "execution_count": 11,
   "metadata": {},
   "outputs": [
    {
     "data": {
      "image/png": "[encoded data removed]",
      "text/plain": [
       "<Figure size 432x288 with 2 Axes>"
      ]
     },
     "metadata": {
      "needs_background": "light"
     },
     "output_type": "display_data"
    }
   ],
   "source": [
    "# check for correlation between covariates:\n",
    "corr = np.corrcoef(X.T[1:])\n",
    "sns.heatmap(corr, xticklabels=X.columns[1:], yticklabels=X.columns[1:])\n",
    "plt.show()"
   ]
  },
  {
   "cell_type": "code",
   "execution_count": 7,
   "metadata": {},
   "outputs": [
    {
     "name": "stdout",
     "output_type": "stream",
     "text": [
      "                          PanelOLS Estimation Summary                           \n",
      "================================================================================\n",
      "Dep. Variable:              accidents   R-squared:                     3.086e-05\n",
      "Estimator:                   PanelOLS   R-squared (Between):             -0.1623\n",
      "No. Observations:             1966246   R-squared (Within):            3.086e-05\n",
      "Date:                Mon, May 10 2021   R-squared (Overall):          -3.431e-05\n",
      "Time:                        03:48:18   Log-likelihood                 4.255e+06\n",
      "Cov. Estimator:             Clustered                                           \n",
      "                                        F-statistic:                      12.134\n",
      "Entities:                          79   P-value                           0.0000\n",
      "Avg Obs:                    2.489e+04   Distribution:               F(5,1966162)\n",
      "Min Obs:                    2.489e+04                                           \n",
      "Max Obs:                     2.49e+04   F-statistic (robust):             3.9223\n",
      "                                        P-value                           0.0015\n",
      "Time periods:                    1037   Distribution:               F(5,1966162)\n",
      "Avg Obs:                       1896.1                                           \n",
      "Min Obs:                       1896.0                                           \n",
      "Max Obs:                       1899.0                                           \n",
      "                                                                                \n",
      "                                   Parameter Estimates                                    \n",
      "==========================================================================================\n",
      "                        Parameter  Std. Err.     T-stat    P-value    Lower CI    Upper CI\n",
      "------------------------------------------------------------------------------------------\n",
      "const                      0.0003  5.097e-05     6.2961     0.0000      0.0002      0.0004\n",
      "traffic                 4.029e-07  1.167e-07     3.4512     0.0006   1.741e-07   6.317e-07\n",
      "precip_mm               2.024e-05  1.107e-05     1.8286     0.0675  -1.454e-06   4.192e-05\n",
      "weekend                 6.042e-05  4.412e-05     1.3695     0.1709  -2.605e-05      0.0001\n",
      "holiday                   -0.0002     0.0001    -1.4917     0.1358     -0.0004   5.021e-05\n",
      "holiday_plusminus_2day  7.144e-05  7.293e-05     0.9796     0.3273   -7.15e-05      0.0002\n",
      "==========================================================================================\n",
      "\n",
      "F-test for Poolability: 10.348\n",
      "P-value: 0.0000\n",
      "Distribution: F(78,1966162)\n",
      "\n",
      "Included effects: Entity\n"
     ]
    }
   ],
   "source": [
    "# Fixed Effects Model:\n",
    "\n",
    "df = segment_time.set_index(['km_from_addis', 'date']).sort_index()\n",
    "\n",
    "y = df.accidents\n",
    "\n",
    "cols = ['traffic', 'precip_mm', 'weekend', \n",
    "        'holiday', 'holiday_plusminus_2day'] # speed_mean excluded because of NAs\n",
    "X = df[cols]\n",
    "X = sm.add_constant(X)\n",
    "\n",
    "mod = PanelOLS(y, X, entity_effects=True)\n",
    "res = mod.fit(cov_type='clustered', cluster_entity=True)\n",
    "print(res)"
   ]
  }
 ],
 "metadata": {
  "kernelspec": {
   "display_name": "Python 3",
   "language": "python",
   "name": "python3"
  },
  "language_info": {
   "codemirror_mode": {
    "name": "ipython",
    "version": 3
   },
   "file_extension": ".py",
   "mimetype": "text/x-python",
   "name": "python",
   "nbconvert_exporter": "python",
   "pygments_lexer": "ipython3",
   "version": "3.7.6"
  },
  "toc": {
   "base_numbering": 1,
   "nav_menu": {},
   "number_sections": true,
   "sideBar": true,
   "skip_h1_title": false,
   "title_cell": "Table of Contents",
   "title_sidebar": "Contents",
   "toc_cell": false,
   "toc_position": {},
   "toc_section_display": true,
   "toc_window_display": false
  }
 },
 "nbformat": 4,
 "nbformat_minor": 4
}
